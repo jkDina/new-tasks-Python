{
 "cells": [
  {
   "cell_type": "code",
   "execution_count": 1,
   "id": "d1d9a9f7-3612-47d7-80c4-9d918f826e4f",
   "metadata": {},
   "outputs": [
    {
     "name": "stdout",
     "output_type": "stream",
     "text": [
      "0\n"
     ]
    }
   ],
   "source": [
    "#1   1 мая 2026 +"
   ]
  },
  {
   "cell_type": "code",
   "execution_count": 3,
   "id": "a56466fe-e543-4fcd-a79d-e03242a2bab5",
   "metadata": {},
   "outputs": [
    {
     "name": "stdout",
     "output_type": "stream",
     "text": [
      "0\n"
     ]
    }
   ],
   "source": [
    "def g(lst):\n",
    "    return 0 if len(lst) == 0 else g(lst[1:]) - lst[0]\n",
    " \n",
    "print(g([]))"
   ]
  },
  {
   "cell_type": "code",
   "execution_count": null,
   "id": "4988c89c-8e29-46d1-a612-166099cc9895",
   "metadata": {},
   "outputs": [],
   "source": [
    "0  #\n",
    "None\n",
    "IndexError\n",
    "ValueError\n",
    "TypeError"
   ]
  },
  {
   "cell_type": "code",
   "execution_count": 5,
   "id": "0bba4b91-6dff-4639-9fd9-5217222ecd5b",
   "metadata": {},
   "outputs": [],
   "source": [
    "#Функция f рекурсивно суммирует элементы списка с обратным знаком. Если список пустой, возвращает 0. В примере f([]) — пустой список, поэтому результат равен 0."
   ]
  },
  {
   "cell_type": "code",
   "execution_count": null,
   "id": "04f85321-908b-4789-a176-c010f65e4bc5",
   "metadata": {},
   "outputs": [],
   "source": [
    "Посмотреть результаты"
   ]
  },
  {
   "cell_type": "code",
   "execution_count": null,
   "id": "2af08aff-21f7-4e94-8e54-c65a6c8fde6f",
   "metadata": {},
   "outputs": [],
   "source": [
    "Выберите правильный вариант"
   ]
  },
  {
   "cell_type": "code",
   "execution_count": null,
   "id": "b444295f-c266-481c-90b6-7348c6a5c0ec",
   "metadata": {},
   "outputs": [],
   "source": [
    "Что выведет код?\n",
    "\n",
    "```python\n",
    "\n",
    "```"
   ]
  },
  {
   "cell_type": "code",
   "execution_count": null,
   "id": "48e12ec2-738b-4efa-98e7-9c0a3f8813c1",
   "metadata": {},
   "outputs": [],
   "source": [
    "#2  4 05 26 +"
   ]
  },
  {
   "cell_type": "code",
   "execution_count": 11,
   "id": "91a549f9-230e-40c7-a1c5-2f2f21402aa4",
   "metadata": {},
   "outputs": [
    {
     "ename": "AttributeError",
     "evalue": "'B' object has no attribute '__y'",
     "output_type": "error",
     "traceback": [
      "\u001b[1;31m---------------------------------------------------------------------------\u001b[0m",
      "\u001b[1;31mAttributeError\u001b[0m                            Traceback (most recent call last)",
      "Cell \u001b[1;32mIn[11], line 5\u001b[0m\n\u001b[0;32m      2\u001b[0m     __y \u001b[38;5;241m=\u001b[39m \u001b[38;5;241m10\u001b[39m\n\u001b[0;32m      4\u001b[0m b \u001b[38;5;241m=\u001b[39m B()\n\u001b[1;32m----> 5\u001b[0m \u001b[38;5;28mprint\u001b[39m(b\u001b[38;5;241m.\u001b[39m__y)\n",
      "\u001b[1;31mAttributeError\u001b[0m: 'B' object has no attribute '__y'"
     ]
    }
   ],
   "source": [
    "class B:\n",
    "    __y = 10\n",
    "\n",
    "b = B()\n",
    "print(b.__y)\n"
   ]
  },
  {
   "cell_type": "code",
   "execution_count": null,
   "id": "ea8ed0e1-39f0-446b-9d1c-2d72b9a802db",
   "metadata": {},
   "outputs": [],
   "source": [
    "Выберите правильный вариант:\n",
    "\n",
    "❌ 10\n",
    "\n",
    "❌ 0\n",
    "\n",
    "✅ AttributeError\n",
    "\n",
    "❌ None\n",
    "\n",
    "❌ NameError"
   ]
  },
  {
   "cell_type": "code",
   "execution_count": null,
   "id": "0ce1f92d-1d51-45db-b18e-e1061feb1ed3",
   "metadata": {},
   "outputs": [],
   "source": []
  },
  {
   "cell_type": "code",
   "execution_count": 13,
   "id": "5d7c5d89-e1ab-4441-a75e-e578e5f7ee37",
   "metadata": {},
   "outputs": [],
   "source": [
    "#В Python атрибуты с двойным подчёркиванием (__y) становятся недоступными извне из-за name mangling (преобразования имени). Попытка обращения b.__y вызывает AttributeError, так как переменная не видна напрямую."
   ]
  },
  {
   "cell_type": "code",
   "execution_count": null,
   "id": "aad3796f-09de-45a2-a0d3-8add500e2e5f",
   "metadata": {},
   "outputs": [],
   "source": [
    "#3 5 05 26 +"
   ]
  },
  {
   "cell_type": "code",
   "execution_count": 15,
   "id": "1f5cc656-905f-4660-804f-e146c639d49e",
   "metadata": {},
   "outputs": [
    {
     "name": "stdout",
     "output_type": "stream",
     "text": [
      "8 1\n"
     ]
    }
   ],
   "source": [
    "class C:\n",
    "    z = 5\n",
    "    items = []\n",
    "\n",
    "c1, c2 = C(), C()\n",
    "c1.z = 8\n",
    "c2.items.append('ok')\n",
    "print(c1.z, len(c1.items))\n"
   ]
  },
  {
   "cell_type": "code",
   "execution_count": null,
   "id": "55d37199-7e10-45cb-b700-9dc953bdbf2d",
   "metadata": {},
   "outputs": [],
   "source": [
    "❌ 5 0\n",
    "\n",
    "❌ 5 1\n",
    "\n",
    "❌ 8 0\n",
    "\n",
    "✅ 8 1\n",
    "\n",
    "❌ AttributeError"
   ]
  },
  {
   "cell_type": "code",
   "execution_count": null,
   "id": "f675e421-074f-4caa-bf2e-3eb5575775d4",
   "metadata": {},
   "outputs": [],
   "source": [
    "При c1.z = 8 создаётся новый атрибут только для c1. items — список (изменяемый), общий для всех экземпляров. Добавление 'ok' в c2.items видно и через c1.items"
   ]
  },
  {
   "cell_type": "code",
   "execution_count": null,
   "id": "eaf54d56-e9b3-400e-829d-05dd9c9e77eb",
   "metadata": {},
   "outputs": [],
   "source": [
    "#4 6 05 26 +"
   ]
  },
  {
   "cell_type": "code",
   "execution_count": 17,
   "id": "20a962d6-0f1d-4019-957d-f4b1170b93b1",
   "metadata": {},
   "outputs": [
    {
     "name": "stdout",
     "output_type": "stream",
     "text": [
      "{'a': 1, 'b': 2}\n"
     ]
    }
   ],
   "source": [
    "class D:\n",
    "    shared = {}\n",
    "\n",
    "d1 = D()\n",
    "d2 = D()\n",
    "\n",
    "d1.shared['a'] = 1\n",
    "d2.shared['b'] = 2\n",
    "\n",
    "print(d1.shared)\n"
   ]
  },
  {
   "cell_type": "code",
   "execution_count": null,
   "id": "91c457ec-356f-4db9-8190-faa04bdfe177",
   "metadata": {},
   "outputs": [],
   "source": [
    "❌ {'a': 1}\n",
    "\n",
    "❌ {'b': 2}\n",
    "\n",
    "✅ {'a': 1, 'b': 2}\n",
    "\n",
    "❌ {}\n",
    "\n",
    "❌ AttributeError"
   ]
  },
  {
   "cell_type": "code",
   "execution_count": null,
   "id": "9a68b86f-fe91-40e9-b976-c0f8766e6d68",
   "metadata": {},
   "outputs": [],
   "source": [
    "shared — это класс-атрибут, общий для всех экземпляров. Словарь — изменяемый объект, поэтому изменения через d1 и d2 накапливаются в одном и том же объекте"
   ]
  },
  {
   "cell_type": "code",
   "execution_count": null,
   "id": "d89d3892-6a49-46bd-9bd1-ef709f79a85c",
   "metadata": {},
   "outputs": [],
   "source": [
    "#5 7 05 26 +"
   ]
  },
  {
   "cell_type": "code",
   "execution_count": 19,
   "id": "e5c88da7-96f9-432e-be65-c9fd5d07fa39",
   "metadata": {},
   "outputs": [
    {
     "ename": "AttributeError",
     "evalue": "'F' object has no attribute 'value'",
     "output_type": "error",
     "traceback": [
      "\u001b[1;31m---------------------------------------------------------------------------\u001b[0m",
      "\u001b[1;31mAttributeError\u001b[0m                            Traceback (most recent call last)",
      "Cell \u001b[1;32mIn[19], line 8\u001b[0m\n\u001b[0;32m      5\u001b[0m f2 \u001b[38;5;241m=\u001b[39m F()\n\u001b[0;32m      7\u001b[0m \u001b[38;5;28;01mdel\u001b[39;00m F\u001b[38;5;241m.\u001b[39mvalue\n\u001b[1;32m----> 8\u001b[0m \u001b[38;5;28mprint\u001b[39m(f2\u001b[38;5;241m.\u001b[39mvalue)\n",
      "\u001b[1;31mAttributeError\u001b[0m: 'F' object has no attribute 'value'"
     ]
    }
   ],
   "source": [
    "class F:\n",
    "    value = 7\n",
    "\n",
    "f1 = F()\n",
    "f2 = F()\n",
    "\n",
    "del F.value\n",
    "print(f2.value)\n"
   ]
  },
  {
   "cell_type": "code",
   "execution_count": null,
   "id": "766f46fb-6a6a-41c4-90aa-a2c08f08bd95",
   "metadata": {},
   "outputs": [],
   "source": [
    "❌ 7\n",
    "\n",
    "❌ None\n",
    "\n",
    "❌ {}\n",
    "\n",
    "✅ AttributeError\n",
    "\n",
    "❌ 0"
   ]
  },
  {
   "cell_type": "code",
   "execution_count": null,
   "id": "4e16c313-25d6-4879-86cb-b57cde6864e6",
   "metadata": {},
   "outputs": [],
   "source": [
    "После del F.value атрибут удаляется из класса. У экземпляров нет своего value, поэтому при попытке f2.value Python ищет в классе — и не находит. Возникает AttributeError."
   ]
  },
  {
   "cell_type": "code",
   "execution_count": 23,
   "id": "3f47aec5-a8aa-4cf7-8605-c03418af52be",
   "metadata": {},
   "outputs": [
    {
     "name": "stdout",
     "output_type": "stream",
     "text": [
      "3 4\n"
     ]
    }
   ],
   "source": [
    "#6 8 05 26  +\n",
    "class H:\n",
    "    level = 3\n",
    "\n",
    "h = H()\n",
    "h.level = 4\n",
    "\n",
    "print(H.__dict__['level'], h.__dict__['level'])\n"
   ]
  },
  {
   "cell_type": "code",
   "execution_count": null,
   "id": "49dd6fe5-0174-4d22-bba2-f6b3c98f268c",
   "metadata": {},
   "outputs": [],
   "source": [
    "✅ 3 4\n",
    "\n",
    "❌ 4 3\n",
    "\n",
    "❌ 4 4\n",
    "\n",
    "❌ 3 3\n",
    "\n",
    "❌ AttributeError"
   ]
  },
  {
   "cell_type": "code",
   "execution_count": null,
   "id": "78e1e740-7882-4f5b-a8f1-ec694a563073",
   "metadata": {},
   "outputs": [],
   "source": [
    "H.__dict__['level'] показывает значение атрибута класса — 3.\n",
    "h.__dict__['level'] показывает значение атрибута экземпляра — 4.\n",
    "Они хранятся отдельно."
   ]
  },
  {
   "cell_type": "code",
   "execution_count": null,
   "id": "cd5056d4-e48a-428e-9b83-5ba3d1c93e90",
   "metadata": {},
   "outputs": [],
   "source": [
    "#7 11 05 26 +"
   ]
  },
  {
   "cell_type": "code",
   "execution_count": 25,
   "id": "67a88534-7614-4719-b67a-17340b7a8200",
   "metadata": {},
   "outputs": [
    {
     "name": "stdout",
     "output_type": "stream",
     "text": [
      "red\n"
     ]
    }
   ],
   "source": [
    "class J:\n",
    "    pass\n",
    "\n",
    "j = J()\n",
    "setattr(j, 'color', 'red')\n",
    "\n",
    "print(j.color)\n"
   ]
  },
  {
   "cell_type": "code",
   "execution_count": null,
   "id": "b250028a-c358-4cb9-b731-f475cb69fdf2",
   "metadata": {},
   "outputs": [],
   "source": [
    "✅ 'red'\n",
    "\n",
    "❌ None\n",
    "\n",
    "❌ AttributeError\n",
    "\n",
    "❌ 'color'\n",
    "\n",
    "❌ 0"
   ]
  },
  {
   "cell_type": "code",
   "execution_count": null,
   "id": "46f75eb7-bc5e-4113-ba79-2a1dc708cc47",
   "metadata": {},
   "outputs": [],
   "source": [
    "Функция setattr(obj, name, value) создаёт или меняет атрибут объекта. Здесь создаётся j.color = 'red'. При печати — 'red'."
   ]
  },
  {
   "cell_type": "code",
   "execution_count": null,
   "id": "23cd04f1-a823-484f-b3a9-0210226814cc",
   "metadata": {},
   "outputs": [],
   "source": []
  },
  {
   "cell_type": "code",
   "execution_count": null,
   "id": "63f8bb25-4d53-4581-a983-9240ea6bbaa6",
   "metadata": {},
   "outputs": [],
   "source": [
    "Что выведет код?\n",
    "\n",
    "```python\n",
    "\n",
    "```"
   ]
  },
  {
   "cell_type": "code",
   "execution_count": null,
   "id": "2082e0a4-23d9-4bac-b617-c0e04b1bb4d2",
   "metadata": {},
   "outputs": [],
   "source": [
    "Выберите правильный вариант"
   ]
  },
  {
   "cell_type": "code",
   "execution_count": null,
   "id": "fa0f3103-bf73-4d89-94ca-e499ece21164",
   "metadata": {},
   "outputs": [],
   "source": [
    "Посмотреть результаты"
   ]
  },
  {
   "cell_type": "code",
   "execution_count": null,
   "id": "a3b2d607-18f2-4634-bce8-74de0c56cb31",
   "metadata": {},
   "outputs": [],
   "source": [
    "............................................................."
   ]
  },
  {
   "cell_type": "code",
   "execution_count": null,
   "id": "b7f7973e-bc02-41b3-9a99-98a1d88f488a",
   "metadata": {},
   "outputs": [],
   "source": [
    "#8+ new 6 08 25"
   ]
  },
  {
   "cell_type": "code",
   "execution_count": 1,
   "id": "73f79e2a-1bfe-43ca-83da-58e09107af4e",
   "metadata": {},
   "outputs": [
    {
     "name": "stdout",
     "output_type": "stream",
     "text": [
      "DBCA"
     ]
    }
   ],
   "source": [
    "class A:\n",
    "    def __init__(self):\n",
    "        print('A', end='')\n",
    "        super().__init__()\n",
    "class B(A):\n",
    "    def __init__(self):\n",
    "        print('B', end='')\n",
    "        super().__init__()\n",
    "class C(A):\n",
    "    def __init__(self):\n",
    "        print('C', end='')\n",
    "        super().__init__()\n",
    "class D(B, C):\n",
    "    def __init__(self):\n",
    "        print('D', end='')\n",
    "        super().__init__()\n",
    "\n",
    "X = D()\n"
   ]
  },
  {
   "cell_type": "code",
   "execution_count": null,
   "id": "c102e66a-408d-43e6-80ca-c31a34783b09",
   "metadata": {},
   "outputs": [],
   "source": [
    "DBC\n",
    "\n",
    "DCBA\n",
    "\n",
    "DBCA  #\n",
    "\n",
    "DCB"
   ]
  },
  {
   "cell_type": "code",
   "execution_count": null,
   "id": "e380ec6b-85db-4153-9a51-1330203b7978",
   "metadata": {},
   "outputs": [],
   "source": [
    "Вызывается super() по MRO: D → B → C → A. Все __init__ вызываются по цепочке super."
   ]
  },
  {
   "cell_type": "code",
   "execution_count": null,
   "id": "21d1966b-47ba-4ee5-bc3d-906ffec814bc",
   "metadata": {},
   "outputs": [],
   "source": [
    "#9+ 7 08 25"
   ]
  },
  {
   "cell_type": "code",
   "execution_count": 43,
   "id": "b2067d2d-90df-416c-a187-f057599c7eaa",
   "metadata": {},
   "outputs": [
    {
     "name": "stdout",
     "output_type": "stream",
     "text": [
      "ZX"
     ]
    }
   ],
   "source": [
    "class X:\n",
    "    def __init__(self):\n",
    "        print('X', end='')\n",
    "class Y:\n",
    "    def __init__(self):\n",
    "        print('Y', end='')\n",
    "class Z(X, Y):\n",
    "    def __init__(self):\n",
    "        print('Z', end='')\n",
    "        super().__init__()\n",
    "\n",
    "z = Z()\n"
   ]
  },
  {
   "cell_type": "code",
   "execution_count": null,
   "id": "86d1ce20-7c40-43c3-8f24-2f173b41ce45",
   "metadata": {},
   "outputs": [],
   "source": [
    "ZYX\n",
    "\n",
    "ZXY\n",
    "\n",
    "ZY\n",
    "\n",
    "ZX  #"
   ]
  },
  {
   "cell_type": "code",
   "execution_count": null,
   "id": "7130fedb-b426-479a-83ab-677cf549bf5e",
   "metadata": {},
   "outputs": [],
   "source": [
    "super() в Z вызывает X.__init__, потому что MRO: Z → X → Y"
   ]
  },
  {
   "cell_type": "code",
   "execution_count": null,
   "id": "d4401b1a-a714-40d1-9ab6-10e9b33201a5",
   "metadata": {},
   "outputs": [],
   "source": [
    "Что выведет код?\n",
    "\n",
    "```python\n",
    "\n",
    "```"
   ]
  },
  {
   "cell_type": "code",
   "execution_count": null,
   "id": "4223b296-6e72-4ae4-9289-582ce219da32",
   "metadata": {},
   "outputs": [],
   "source": [
    "Выберите правильный вариант"
   ]
  },
  {
   "cell_type": "code",
   "execution_count": null,
   "id": "2c099a8d-db4f-4d49-ab3c-cccbf6139350",
   "metadata": {},
   "outputs": [],
   "source": [
    "Посмотреть результаты"
   ]
  },
  {
   "cell_type": "code",
   "execution_count": null,
   "id": "59f31583-c7f5-4057-a4a5-20422f6a2b24",
   "metadata": {},
   "outputs": [],
   "source": [
    "#10+ 8 08 25"
   ]
  },
  {
   "cell_type": "code",
   "execution_count": 5,
   "id": "4f4dffc9-e16e-4036-8151-061c59d4e313",
   "metadata": {},
   "outputs": [
    {
     "name": "stdout",
     "output_type": "stream",
     "text": [
      "5\n"
     ]
    }
   ],
   "source": [
    "class A:\n",
    "    def __init__(self):\n",
    "        self.x = 1\n",
    "\n",
    "a = A()\n",
    "b = a\n",
    "b.x = 5\n",
    "print(a.x)\n"
   ]
  },
  {
   "cell_type": "code",
   "execution_count": null,
   "id": "50377b68-d36f-4b6a-aaa7-0351417f695a",
   "metadata": {},
   "outputs": [],
   "source": [
    "1\n",
    "\n",
    "5 #\n",
    "\n",
    "None\n",
    "\n",
    "Ошибка  AttributeError"
   ]
  },
  {
   "cell_type": "code",
   "execution_count": null,
   "id": "f27eafc2-74ba-41b7-9860-2c78445b6c96",
   "metadata": {},
   "outputs": [],
   "source": [
    "a и b — это ссылки на один и тот же объект. Изменение через b влияет на a."
   ]
  },
  {
   "cell_type": "code",
   "execution_count": null,
   "id": "b72c7d51-eefb-4d32-b9a8-8467c9d153a6",
   "metadata": {},
   "outputs": [],
   "source": [
    "Что выведет код?\n",
    "\n",
    "```python\n",
    "\n",
    "```"
   ]
  },
  {
   "cell_type": "code",
   "execution_count": null,
   "id": "feddd7a5-355c-4cdc-b7b1-2c63705b4fb4",
   "metadata": {},
   "outputs": [],
   "source": [
    "Выберите правильный вариант"
   ]
  },
  {
   "cell_type": "code",
   "execution_count": null,
   "id": "ace70719-b458-4468-b163-a4cf5acc7fe2",
   "metadata": {},
   "outputs": [],
   "source": [
    "Посмотреть результаты"
   ]
  },
  {
   "cell_type": "code",
   "execution_count": null,
   "id": "4bef7624-3b5e-45ac-bf44-3ca2cff224d6",
   "metadata": {},
   "outputs": [],
   "source": [
    "#11+ 11 08 25"
   ]
  },
  {
   "cell_type": "code",
   "execution_count": 7,
   "id": "e9263721-6b2e-4eef-99c0-780f74d6bf4d",
   "metadata": {},
   "outputs": [
    {
     "name": "stdout",
     "output_type": "stream",
     "text": [
      "Hello from B\n"
     ]
    }
   ],
   "source": [
    "class A:\n",
    "    def hello(self):\n",
    "        return \"Hello from A\"\n",
    "\n",
    "class B(A):\n",
    "    def hello(self):\n",
    "        return \"Hello from B\"\n",
    "\n",
    "b = B()\n",
    "print(b.hello())\n"
   ]
  },
  {
   "cell_type": "code",
   "execution_count": null,
   "id": "8a1db0ba-4cf1-4af0-9134-01fb52c9c499",
   "metadata": {},
   "outputs": [],
   "source": [
    "Hello from A\n",
    "\n",
    "Hello from B #\n",
    "\n",
    "AttributeError\n",
    "\n",
    "None"
   ]
  },
  {
   "cell_type": "code",
   "execution_count": null,
   "id": "06c026a2-2abb-4493-b77c-27333e4e1908",
   "metadata": {},
   "outputs": [],
   "source": [
    "Метод hello переопределён в классе B, он и будет вызван."
   ]
  },
  {
   "cell_type": "code",
   "execution_count": null,
   "id": "2d9ff370-eb6b-46ef-9347-7d35aeb773d0",
   "metadata": {},
   "outputs": [],
   "source": [
    "Что выведет код?\n",
    "\n",
    "```python\n",
    "\n",
    "```"
   ]
  },
  {
   "cell_type": "code",
   "execution_count": null,
   "id": "d8c06766-9131-477a-a6a6-10db70ebed6f",
   "metadata": {},
   "outputs": [],
   "source": [
    "Выберите правильный вариант"
   ]
  },
  {
   "cell_type": "code",
   "execution_count": null,
   "id": "a171c959-6dc2-4e7a-a330-fddd76bf7a95",
   "metadata": {},
   "outputs": [],
   "source": [
    "Посмотреть результаты"
   ]
  },
  {
   "cell_type": "code",
   "execution_count": null,
   "id": "c11b833e-5256-4108-b57a-35c9163c74c0",
   "metadata": {},
   "outputs": [],
   "source": [
    "#12+ 12 08 25"
   ]
  },
  {
   "cell_type": "code",
   "execution_count": 9,
   "id": "691fdfa6-92a8-41cd-8acc-f3acce9e84e0",
   "metadata": {},
   "outputs": [
    {
     "name": "stdout",
     "output_type": "stream",
     "text": [
      "Static A A\n"
     ]
    }
   ],
   "source": [
    "class A:\n",
    "    @staticmethod\n",
    "    def stat():\n",
    "        return \"Static\"\n",
    "\n",
    "    @classmethod\n",
    "    def cls(cls):\n",
    "        return cls.__name__\n",
    "\n",
    "    def inst(self):\n",
    "        return self.__class__.__name__\n",
    "\n",
    "a = A()\n",
    "\n",
    "print(A.stat(), A.cls(), a.inst())\n"
   ]
  },
  {
   "cell_type": "code",
   "execution_count": null,
   "id": "f0aafd71-142c-450c-94fe-1778a476d632",
   "metadata": {},
   "outputs": [],
   "source": [
    "Static A A  #\n",
    "\n",
    "A A A\n",
    "\n",
    "Static A A"
   ]
  },
  {
   "cell_type": "code",
   "execution_count": null,
   "id": "a15a82a3-969a-4d3e-a106-5390ac75df18",
   "metadata": {},
   "outputs": [],
   "source": [
    "stat() — вызывается от класса без self. cls() получает класс как аргумент. inst() — обычный метод, вызывается от объекта."
   ]
  },
  {
   "cell_type": "code",
   "execution_count": null,
   "id": "7f787d0a-66fd-4c83-a925-465d626ecb42",
   "metadata": {},
   "outputs": [],
   "source": [
    "Что выведет код?\n",
    "\n",
    "```python\n",
    "\n",
    "```"
   ]
  },
  {
   "cell_type": "code",
   "execution_count": null,
   "id": "f43b1433-26fd-4220-8e8b-0ed105ae7552",
   "metadata": {},
   "outputs": [],
   "source": [
    "Выберите правильный вариант"
   ]
  },
  {
   "cell_type": "code",
   "execution_count": null,
   "id": "0136a221-900c-4e33-8364-fa02eee02036",
   "metadata": {},
   "outputs": [],
   "source": [
    "Посмотреть результаты"
   ]
  },
  {
   "cell_type": "code",
   "execution_count": null,
   "id": "dbbee8f0-cd3a-4788-a474-f667c1a637af",
   "metadata": {},
   "outputs": [],
   "source": [
    "#13+ 13 08 25"
   ]
  },
  {
   "cell_type": "code",
   "execution_count": 11,
   "id": "7bf2e272-248a-403d-aeec-be7d818c553c",
   "metadata": {},
   "outputs": [
    {
     "name": "stdout",
     "output_type": "stream",
     "text": [
      "10\n"
     ]
    }
   ],
   "source": [
    "class A:\n",
    "    def __init__(self, value):\n",
    "        self._x = value\n",
    "\n",
    "    @property\n",
    "    def x(self):\n",
    "        return self._x * 2\n",
    "\n",
    "a = A(5)\n",
    "print(a.x)\n"
   ]
  },
  {
   "cell_type": "code",
   "execution_count": null,
   "id": "fce28f26-c4f3-4e03-9f30-0bd57112b862",
   "metadata": {},
   "outputs": [],
   "source": [
    "5\n",
    "\n",
    "10  #\n",
    "\n",
    "AttributeError\n",
    "\n",
    "0"
   ]
  },
  {
   "cell_type": "code",
   "execution_count": null,
   "id": "6da0f50f-603b-48f8-8321-1ceab1b3cf51",
   "metadata": {},
   "outputs": [],
   "source": [
    "@property превращает метод в атрибут. Возвращается self._x * 2."
   ]
  },
  {
   "cell_type": "code",
   "execution_count": null,
   "id": "9f1e8d9c-cb5b-47b0-b660-ef53e3da57bc",
   "metadata": {},
   "outputs": [],
   "source": [
    "Что выведет код?\n",
    "\n",
    "```python\n",
    "\n",
    "```"
   ]
  },
  {
   "cell_type": "code",
   "execution_count": null,
   "id": "162895a8-ca10-4a91-b0bd-6eaffc8ebe5a",
   "metadata": {},
   "outputs": [],
   "source": [
    "Выберите правильный вариант"
   ]
  },
  {
   "cell_type": "code",
   "execution_count": null,
   "id": "c06d94b2-79d1-4290-a338-00fdbb42875a",
   "metadata": {},
   "outputs": [],
   "source": [
    "Посмотреть результаты"
   ]
  },
  {
   "cell_type": "code",
   "execution_count": null,
   "id": "2246aed2-6b57-430f-a12c-4e0790ee58e5",
   "metadata": {},
   "outputs": [],
   "source": [
    "#14+ 14 08 25"
   ]
  },
  {
   "cell_type": "code",
   "execution_count": 13,
   "id": "ed060697-b6df-40ad-8d39-2fe340173a03",
   "metadata": {},
   "outputs": [
    {
     "name": "stdout",
     "output_type": "stream",
     "text": [
      "Custom str\n"
     ]
    }
   ],
   "source": [
    "class A:\n",
    "    def __str__(self):\n",
    "        return \"Custom str\"\n",
    "\n",
    "a = A()\n",
    "print(a)\n"
   ]
  },
  {
   "cell_type": "code",
   "execution_count": null,
   "id": "726e9e6a-5cf1-4ca0-ac11-f4d6a87161db",
   "metadata": {},
   "outputs": [],
   "source": [
    "<main.A object at ...>\n",
    "\n",
    "Custom str\n",
    "\n",
    "TypeError   Ошибка\n",
    "\n",
    "None"
   ]
  },
  {
   "cell_type": "code",
   "execution_count": null,
   "id": "57a99eee-a6aa-44b7-9d04-f3a9b27cb0f6",
   "metadata": {},
   "outputs": [],
   "source": [
    "__str__ переопределяет поведение print(a), возвращая строку."
   ]
  },
  {
   "cell_type": "code",
   "execution_count": null,
   "id": "fd99ff2a-701e-47f7-acc3-0b2170ae07f4",
   "metadata": {},
   "outputs": [],
   "source": [
    "Что выведет код?\n",
    "\n",
    "```python\n",
    "\n",
    "```"
   ]
  },
  {
   "cell_type": "code",
   "execution_count": null,
   "id": "f2ca2132-3643-47e1-9f0f-0b1b4d7f70cc",
   "metadata": {},
   "outputs": [],
   "source": [
    "Выберите правильный вариант"
   ]
  },
  {
   "cell_type": "code",
   "execution_count": null,
   "id": "188b17a8-16f7-4ab9-8c0a-a89fe2b2dd32",
   "metadata": {},
   "outputs": [],
   "source": [
    "Посмотреть результаты"
   ]
  },
  {
   "cell_type": "code",
   "execution_count": null,
   "id": "a1a8f6c1-dfba-477d-be94-2b79e433e09a",
   "metadata": {},
   "outputs": [],
   "source": [
    "#15+ 15 08 25"
   ]
  },
  {
   "cell_type": "code",
   "execution_count": 15,
   "id": "98a864e7-21cb-4c75-8d81-b659ec7c74fe",
   "metadata": {},
   "outputs": [
    {
     "name": "stdout",
     "output_type": "stream",
     "text": [
      "True\n"
     ]
    }
   ],
   "source": [
    "class A:\n",
    "    def __init__(self, val):\n",
    "        self.val = val\n",
    "\n",
    "    def __eq__(self, other):\n",
    "        return self.val == other.val\n",
    "\n",
    "a1 = A(3)\n",
    "a2 = A(3)\n",
    "print(a1 == a2)\n"
   ]
  },
  {
   "cell_type": "code",
   "execution_count": null,
   "id": "7f2482c5-fa05-4210-960f-0608ef4fbc4d",
   "metadata": {},
   "outputs": [],
   "source": [
    "False\n",
    "\n",
    "True  #\n",
    "\n",
    "TypeError   Ошибка\n",
    "\n",
    "None"
   ]
  },
  {
   "cell_type": "code",
   "execution_count": null,
   "id": "baa5d9e1-0161-47ee-a93b-59e7f63648a5",
   "metadata": {},
   "outputs": [],
   "source": [
    "Метод __eq__ сравнивает по значению, а не по ссылке. Значения равны — True."
   ]
  },
  {
   "cell_type": "code",
   "execution_count": null,
   "id": "2b45e1ec-4dda-43b5-8b14-3fd5ac1e050a",
   "metadata": {},
   "outputs": [],
   "source": [
    "Что выведет код?\n",
    "\n",
    "```python\n",
    "\n",
    "```"
   ]
  },
  {
   "cell_type": "code",
   "execution_count": null,
   "id": "4d6daf41-d4ae-45c3-aa88-43778f76fd45",
   "metadata": {},
   "outputs": [],
   "source": [
    "Выберите правильный вариант"
   ]
  },
  {
   "cell_type": "code",
   "execution_count": null,
   "id": "8de5073e-aa74-4e68-b9cd-42bf77ddabd0",
   "metadata": {},
   "outputs": [],
   "source": [
    "Посмотреть результаты"
   ]
  },
  {
   "cell_type": "code",
   "execution_count": null,
   "id": "86a711bc-03e8-44a3-a44e-73b4d60f507d",
   "metadata": {},
   "outputs": [],
   "source": [
    "#16+ 18 08 25"
   ]
  },
  {
   "cell_type": "code",
   "execution_count": 17,
   "id": "4e31a241-177b-4718-bbf2-48221b41ef85",
   "metadata": {},
   "outputs": [
    {
     "name": "stdout",
     "output_type": "stream",
     "text": [
      "A"
     ]
    }
   ],
   "source": [
    "class A:\n",
    "    def __init__(self):\n",
    "        print(\"A\", end='')\n",
    "\n",
    "class B(A):\n",
    "    pass\n",
    "\n",
    "b = B()\n"
   ]
  },
  {
   "cell_type": "code",
   "execution_count": null,
   "id": "fabe5ea5-fd6d-4e8a-8fee-b19a030939ca",
   "metadata": {},
   "outputs": [],
   "source": [
    "TypeError  Ошибка\n",
    "\n",
    "A  #\n",
    "\n",
    "B\n",
    "\n",
    "Ничего не выведет"
   ]
  },
  {
   "cell_type": "code",
   "execution_count": null,
   "id": "dcf4429f-a113-471c-a07f-49fab1f7d3a0",
   "metadata": {},
   "outputs": [],
   "source": [
    "У B нет своего __init__, вызывается родительский A.__init__().\n",
    "\n"
   ]
  },
  {
   "cell_type": "code",
   "execution_count": null,
   "id": "8f252c80-abfc-4d59-af85-3d400ce6e1de",
   "metadata": {},
   "outputs": [],
   "source": [
    "Что выведет код?\n",
    "\n",
    "```python\n",
    "\n",
    "```"
   ]
  },
  {
   "cell_type": "code",
   "execution_count": null,
   "id": "43edbfbe-e086-47cf-9dd6-cedfca86f621",
   "metadata": {},
   "outputs": [],
   "source": [
    "Выберите правильный вариант"
   ]
  },
  {
   "cell_type": "code",
   "execution_count": null,
   "id": "5e890aef-ac5f-4328-afec-3a3d24222d59",
   "metadata": {},
   "outputs": [],
   "source": [
    "Посмотреть результаты"
   ]
  },
  {
   "cell_type": "code",
   "execution_count": null,
   "id": "fd17a96b-84fa-4796-9ffe-6d1df3ee642b",
   "metadata": {},
   "outputs": [],
   "source": [
    "#17 + 19 08 25"
   ]
  },
  {
   "cell_type": "code",
   "execution_count": 21,
   "id": "2c420b09-bcdb-4fbc-9e2c-9f9fbb6b11bc",
   "metadata": {},
   "outputs": [
    {
     "ename": "AttributeError",
     "evalue": "'A' object has no attribute 'y'",
     "output_type": "error",
     "traceback": [
      "\u001b[1;31m---------------------------------------------------------------------------\u001b[0m",
      "\u001b[1;31mAttributeError\u001b[0m                            Traceback (most recent call last)",
      "Cell \u001b[1;32mIn[21], line 6\u001b[0m\n\u001b[0;32m      4\u001b[0m a \u001b[38;5;241m=\u001b[39m A()\n\u001b[0;32m      5\u001b[0m a\u001b[38;5;241m.\u001b[39mx \u001b[38;5;241m=\u001b[39m \u001b[38;5;241m10\u001b[39m\n\u001b[1;32m----> 6\u001b[0m a\u001b[38;5;241m.\u001b[39my \u001b[38;5;241m=\u001b[39m \u001b[38;5;241m20\u001b[39m\n\u001b[0;32m      7\u001b[0m \u001b[38;5;28mprint\u001b[39m(a\u001b[38;5;241m.\u001b[39mx)\n",
      "\u001b[1;31mAttributeError\u001b[0m: 'A' object has no attribute 'y'"
     ]
    }
   ],
   "source": [
    "class A:\n",
    "    __slots__ = ['x']\n",
    "\n",
    "a = A()\n",
    "a.x = 10\n",
    "a.y = 20\n",
    "print(a.x)\n"
   ]
  },
  {
   "cell_type": "code",
   "execution_count": null,
   "id": "2ead3b02-0fe9-4b51-9c12-1a4d0e11f98d",
   "metadata": {},
   "outputs": [],
   "source": [
    "10\n",
    "\n",
    "AttributeError - нельзя создать атрибут y #\n",
    "\n",
    "20\n",
    "\n",
    "None"
   ]
  },
  {
   "cell_type": "code",
   "execution_count": null,
   "id": "d808408a-9557-40ee-b2d4-1ab9455e9f12",
   "metadata": {},
   "outputs": [],
   "source": [
    "__slots__ ограничивает разрешённые атрибуты. Атрибут x допустим, y — нет. Попытка создать y вызывает AttributeError."
   ]
  },
  {
   "cell_type": "code",
   "execution_count": null,
   "id": "56d44d48-e4e6-4451-ab4f-d66a6746aba2",
   "metadata": {},
   "outputs": [],
   "source": [
    "Что выведет код?\n",
    "\n",
    "```python\n",
    "\n",
    "```"
   ]
  },
  {
   "cell_type": "code",
   "execution_count": null,
   "id": "64ed0c12-1a3e-45a5-9cc5-4f0dcb462235",
   "metadata": {},
   "outputs": [],
   "source": [
    "Выберите правильный вариант"
   ]
  },
  {
   "cell_type": "code",
   "execution_count": null,
   "id": "ddc05e8b-f0dc-4e50-a246-e246b7d8ddf3",
   "metadata": {},
   "outputs": [],
   "source": [
    "Посмотреть результаты"
   ]
  },
  {
   "cell_type": "code",
   "execution_count": null,
   "id": "aa4a96db-bcd4-48a9-83d3-1877fccc679c",
   "metadata": {},
   "outputs": [],
   "source": [
    "#18+ 20 08 25"
   ]
  },
  {
   "cell_type": "code",
   "execution_count": 23,
   "id": "c0d908aa-fce5-4a96-9f46-0a87aeeef773",
   "metadata": {},
   "outputs": [
    {
     "name": "stdout",
     "output_type": "stream",
     "text": [
      "99\n"
     ]
    }
   ],
   "source": [
    "class Descriptor:\n",
    "    def __get__(self, obj, objtype=None):\n",
    "        return 99\n",
    "\n",
    "class A:\n",
    "    x = Descriptor()\n",
    "\n",
    "a = A()\n",
    "print(a.x)\n"
   ]
  },
  {
   "cell_type": "code",
   "execution_count": null,
   "id": "f6fc689c-9712-435d-8365-f68e317ed4b6",
   "metadata": {},
   "outputs": [],
   "source": [
    "99 #\n",
    "\n",
    "None\n",
    "\n",
    "AttributeError  Ошибка\n",
    "\n",
    "Descriptor object"
   ]
  },
  {
   "cell_type": "code",
   "execution_count": null,
   "id": "8c1503a8-a16d-413d-8b59-48324a349862",
   "metadata": {},
   "outputs": [],
   "source": [
    "__get__ — часть протокола дескрипторов. При обращении к a.x, вызывается Descriptor.__get__, и возвращается 99."
   ]
  },
  {
   "cell_type": "code",
   "execution_count": null,
   "id": "9c8ce99b-c0b1-4baf-b00d-84f7e16bc496",
   "metadata": {},
   "outputs": [],
   "source": [
    "Что выведет код?\n",
    "\n",
    "```python\n",
    "\n",
    "```"
   ]
  },
  {
   "cell_type": "code",
   "execution_count": null,
   "id": "9436eb0f-8e9f-4823-9c05-531ba47184e5",
   "metadata": {},
   "outputs": [],
   "source": [
    "Выберите правильный вариант"
   ]
  },
  {
   "cell_type": "code",
   "execution_count": null,
   "id": "3493ec96-df24-43f4-9532-d7aad76db521",
   "metadata": {},
   "outputs": [],
   "source": [
    "Посмотреть результаты"
   ]
  },
  {
   "cell_type": "code",
   "execution_count": null,
   "id": "560814e9-7caf-4d77-973c-e60ce5fff712",
   "metadata": {},
   "outputs": [],
   "source": [
    "#19+ 21 08 25"
   ]
  },
  {
   "cell_type": "code",
   "execution_count": 25,
   "id": "8fa5a1bf-8792-4603-898a-89938c90c11f",
   "metadata": {},
   "outputs": [
    {
     "name": "stdout",
     "output_type": "stream",
     "text": [
      "200\n"
     ]
    }
   ],
   "source": [
    "class Descriptor:\n",
    "    def __init__(self):\n",
    "        self.value = 0\n",
    "\n",
    "    def __get__(self, obj, objtype=None):\n",
    "        return self.value\n",
    "\n",
    "    def __set__(self, obj, val):\n",
    "        self.value = val\n",
    "\n",
    "class A:\n",
    "    x = Descriptor()\n",
    "\n",
    "a = A()\n",
    "b = A()\n",
    "\n",
    "a.x = 100\n",
    "b.x = 200\n",
    "\n",
    "print(a.x)\n"
   ]
  },
  {
   "cell_type": "code",
   "execution_count": null,
   "id": "b8856de0-87e5-4655-a000-72233eb552ab",
   "metadata": {},
   "outputs": [],
   "source": [
    "100\n",
    "\n",
    "200  #\n",
    "\n",
    "0"
   ]
  },
  {
   "cell_type": "code",
   "execution_count": null,
   "id": "04002c34-e816-4ca5-94b5-e6ec75cb32d5",
   "metadata": {},
   "outputs": [],
   "source": [
    "x — атрибут класса. Один дескриптор x на все объекты. Последняя запись b.x = 200 изменила общее значение. У a.x теперь тоже 200.\n",
    "\n"
   ]
  },
  {
   "cell_type": "code",
   "execution_count": null,
   "id": "16ad59a3-040f-46c0-884a-c87faced1f1b",
   "metadata": {},
   "outputs": [],
   "source": [
    "Что выведет код?\n",
    "\n",
    "```python\n",
    "\n",
    "```"
   ]
  },
  {
   "cell_type": "code",
   "execution_count": null,
   "id": "77f61d61-196b-487b-a10e-933dc624113d",
   "metadata": {},
   "outputs": [],
   "source": [
    "Выберите правильный вариант"
   ]
  },
  {
   "cell_type": "code",
   "execution_count": null,
   "id": "e20711ec-a8d7-48cb-a9b1-374f54b49157",
   "metadata": {},
   "outputs": [],
   "source": [
    "Посмотреть результаты"
   ]
  },
  {
   "cell_type": "code",
   "execution_count": null,
   "id": "f26c4c74-a6e5-44c3-a3a3-dd753b703753",
   "metadata": {},
   "outputs": [],
   "source": [
    "#20+ 22 08 25"
   ]
  },
  {
   "cell_type": "code",
   "execution_count": 27,
   "id": "bca7477f-ae61-41ef-ad24-2afc1a369820",
   "metadata": {},
   "outputs": [
    {
     "name": "stdout",
     "output_type": "stream",
     "text": [
      "10\n"
     ]
    }
   ],
   "source": [
    "class Descriptor:\n",
    "    def __get__(self, obj, objtype=None):\n",
    "        return obj.__dict__.get('_x', 0)\n",
    "\n",
    "    def __set__(self, obj, val):\n",
    "        obj.__dict__['_x'] = val\n",
    "\n",
    "class A:\n",
    "    x = Descriptor()\n",
    "\n",
    "a = A()\n",
    "b = A()\n",
    "\n",
    "a.x = 10\n",
    "b.x = 20\n",
    "\n",
    "print(a.x)\n"
   ]
  },
  {
   "cell_type": "code",
   "execution_count": null,
   "id": "9852e0ca-f991-4477-8530-2b8857a82128",
   "metadata": {},
   "outputs": [],
   "source": [
    " 0\n",
    "\n",
    "10  #\n",
    "\n",
    "20\n",
    "\n",
    "AttributeError  Ошибка"
   ]
  },
  {
   "cell_type": "code",
   "execution_count": null,
   "id": "7deee7c6-a6c1-4f52-90f3-bc5476ec7872",
   "metadata": {},
   "outputs": [],
   "source": [
    "Значения хранятся в obj.__dict__, а не в дескрипторе. Поэтому a.x и b.x — независимы. У a значение — 10, у b — 20.\n",
    "\n"
   ]
  },
  {
   "cell_type": "code",
   "execution_count": null,
   "id": "6f08203c-a173-4e6d-9655-3a198e2aed9f",
   "metadata": {},
   "outputs": [],
   "source": [
    "Что выведет код?\n",
    "\n",
    "```python\n",
    "\n",
    "```"
   ]
  },
  {
   "cell_type": "code",
   "execution_count": null,
   "id": "6b5eb988-7362-4c89-8561-7f0f688f3ea2",
   "metadata": {},
   "outputs": [],
   "source": [
    "Выберите правильный вариант"
   ]
  },
  {
   "cell_type": "code",
   "execution_count": null,
   "id": "2a3b55b7-8571-4338-a100-7feec76a73b2",
   "metadata": {},
   "outputs": [],
   "source": [
    "Посмотреть результаты"
   ]
  },
  {
   "cell_type": "code",
   "execution_count": null,
   "id": "bb4a4a24-ef31-41ce-ad3d-3d4abcc930ef",
   "metadata": {},
   "outputs": [],
   "source": [
    "#21+ 25 08 25"
   ]
  },
  {
   "cell_type": "code",
   "execution_count": 29,
   "id": "85ff021b-908d-4bd6-8727-bbcdc00dee74",
   "metadata": {},
   "outputs": [
    {
     "ename": "TypeError",
     "evalue": "Can't instantiate abstract class Circle without an implementation for abstract method 'area'",
     "output_type": "error",
     "traceback": [
      "\u001b[1;31m---------------------------------------------------------------------------\u001b[0m",
      "\u001b[1;31mTypeError\u001b[0m                                 Traceback (most recent call last)",
      "Cell \u001b[1;32mIn[29], line 12\u001b[0m\n\u001b[0;32m      9\u001b[0m     \u001b[38;5;28;01mdef\u001b[39;00m \u001b[38;5;21m__init__\u001b[39m(\u001b[38;5;28mself\u001b[39m, r):\n\u001b[0;32m     10\u001b[0m         \u001b[38;5;28mself\u001b[39m\u001b[38;5;241m.\u001b[39mr \u001b[38;5;241m=\u001b[39m r\n\u001b[1;32m---> 12\u001b[0m c \u001b[38;5;241m=\u001b[39m Circle(\u001b[38;5;241m5\u001b[39m)\n\u001b[0;32m     13\u001b[0m \u001b[38;5;28mprint\u001b[39m(c\u001b[38;5;241m.\u001b[39mr)\n",
      "\u001b[1;31mTypeError\u001b[0m: Can't instantiate abstract class Circle without an implementation for abstract method 'area'"
     ]
    }
   ],
   "source": [
    "from abc import ABC, abstractmethod\n",
    "\n",
    "class Shape(ABC):\n",
    "    @abstractmethod\n",
    "    def area(self):\n",
    "        pass\n",
    "\n",
    "class Circle(Shape):\n",
    "    def __init__(self, r):\n",
    "        self.r = r\n",
    "\n",
    "c = Circle(5)\n",
    "print(c.r)\n"
   ]
  },
  {
   "cell_type": "code",
   "execution_count": null,
   "id": "a5a3c026-5692-401b-ac00-b063a7c123be",
   "metadata": {},
   "outputs": [],
   "source": [
    "5\n",
    "\n",
    "TypeError - нельзя создать экземпляр без реализации area\n",
    "\n",
    "c\n",
    "\n",
    "None"
   ]
  },
  {
   "cell_type": "code",
   "execution_count": null,
   "id": "120168a1-89b9-4d57-b75b-19babebf15db",
   "metadata": {},
   "outputs": [],
   "source": [
    "Нельзя создать экземпляр класса Circle, пока не реализован абстрактный метод area. Это правило abc.ABC."
   ]
  },
  {
   "cell_type": "code",
   "execution_count": null,
   "id": "ee3797c6-24b3-4504-81d6-f1fccace348e",
   "metadata": {},
   "outputs": [],
   "source": [
    "Что выведет код?\n",
    "\n",
    "```python\n",
    "\n",
    "```"
   ]
  },
  {
   "cell_type": "code",
   "execution_count": null,
   "id": "12b36c66-21e4-429e-8b08-2d6ecbe1eae7",
   "metadata": {},
   "outputs": [],
   "source": [
    "Выберите правильный вариант"
   ]
  },
  {
   "cell_type": "code",
   "execution_count": null,
   "id": "0969db8d-6011-449d-93e2-017c2aa93c1a",
   "metadata": {},
   "outputs": [],
   "source": [
    "Посмотреть результаты"
   ]
  },
  {
   "cell_type": "code",
   "execution_count": null,
   "id": "b51ae066-f7e2-4d22-b61c-2f92e66ce1f6",
   "metadata": {},
   "outputs": [],
   "source": [
    "#22+ 26 08 25"
   ]
  },
  {
   "cell_type": "code",
   "execution_count": 31,
   "id": "1c9400ca-1cd7-438c-bf06-4c35d1842c8f",
   "metadata": {},
   "outputs": [
    {
     "name": "stdout",
     "output_type": "stream",
     "text": [
      "Begin Doing work End "
     ]
    }
   ],
   "source": [
    "class Manager:\n",
    "    def __enter__(self):\n",
    "        print(\"Begin\", end=' ')\n",
    "        return self\n",
    "\n",
    "    def __exit__(self, exc_type, exc_val, exc_tb):\n",
    "        print(\"End\", end=' ')\n",
    "\n",
    "    def work(self):\n",
    "        print(\"Doing work\", end=' ')\n",
    "\n",
    "with Manager() as m:\n",
    "    m.work()\n"
   ]
  },
  {
   "cell_type": "code",
   "execution_count": null,
   "id": "5652a1c2-37a7-4c94-bf2a-f69fa4d6a496",
   "metadata": {},
   "outputs": [],
   "source": [
    "Begin Doing work End #\n",
    "\n",
    "Doing work End\n",
    "\n",
    "Begin End\n",
    "\n",
    "TypeError  Ошибка"
   ]
  },
  {
   "cell_type": "code",
   "execution_count": null,
   "id": "1445c1a7-dd0e-4c48-81c9-af33613eb7b8",
   "metadata": {},
   "outputs": [],
   "source": [
    "__enter__ вызывается в начале блока, __exit__ — в конце, даже при исключении. Метод work() вызывается внутри блока."
   ]
  },
  {
   "cell_type": "code",
   "execution_count": null,
   "id": "c45c36cb-9804-4d74-b08d-56e0a4566299",
   "metadata": {},
   "outputs": [],
   "source": [
    "Что выведет код?\n",
    "\n",
    "```python\n",
    "\n",
    "```"
   ]
  },
  {
   "cell_type": "code",
   "execution_count": null,
   "id": "f9579b4b-645c-4058-a3b1-db446c61d5d3",
   "metadata": {},
   "outputs": [],
   "source": [
    "Выберите правильный вариант"
   ]
  },
  {
   "cell_type": "code",
   "execution_count": null,
   "id": "4dbe7d0e-8597-40d3-ba07-07ebe95ca6f6",
   "metadata": {},
   "outputs": [],
   "source": [
    "Посмотреть результаты"
   ]
  },
  {
   "cell_type": "code",
   "execution_count": null,
   "id": "cc97ef60-6176-40aa-b6ff-2ab39ca25aa0",
   "metadata": {},
   "outputs": [],
   "source": [
    "#23+ 27 08 25"
   ]
  },
  {
   "cell_type": "code",
   "execution_count": 33,
   "id": "08dbb970-031a-446b-a34b-b283dc070a48",
   "metadata": {},
   "outputs": [
    {
     "name": "stdout",
     "output_type": "stream",
     "text": [
      "Start Inside Caught Done\n"
     ]
    }
   ],
   "source": [
    "class Catcher:\n",
    "    def __enter__(self):\n",
    "        print(\"Start\", end=' ')\n",
    "        return self\n",
    "\n",
    "    def __exit__(self, exc_type, exc_val, exc_tb):\n",
    "        print(\"Caught\", end=' ')\n",
    "        return True\n",
    "\n",
    "with Catcher():\n",
    "    print(\"Inside\", end=' ')\n",
    "    raise ValueError(\"Oops\")\n",
    "print(\"Done\")\n"
   ]
  },
  {
   "cell_type": "code",
   "execution_count": null,
   "id": "3679838a-7d5c-4f38-8b3b-facc8d6ebb1a",
   "metadata": {},
   "outputs": [],
   "source": [
    "Start Inside Caught Done #\n",
    "\n",
    "TypeError\n",
    "\n",
    "Start Inside TypeError\n",
    "\n",
    "Start Caught TypeError"
   ]
  },
  {
   "cell_type": "code",
   "execution_count": null,
   "id": "5d8d629b-516c-4a40-ad41-8f2e39919160",
   "metadata": {},
   "outputs": [],
   "source": [
    "__exit__ вернул True — исключение подавлено. Программа продолжается. Без True исключение было бы выброшено наружу."
   ]
  },
  {
   "cell_type": "code",
   "execution_count": null,
   "id": "366006e5-297a-4bc0-b25b-ee653206b2f4",
   "metadata": {},
   "outputs": [],
   "source": [
    "Что выведет код?\n",
    "\n",
    "```python\n",
    "\n",
    "```"
   ]
  },
  {
   "cell_type": "code",
   "execution_count": null,
   "id": "57ac6bda-2ead-4e91-adc4-7f86e3e0c6eb",
   "metadata": {},
   "outputs": [],
   "source": [
    "Выберите правильный вариант"
   ]
  },
  {
   "cell_type": "code",
   "execution_count": null,
   "id": "84177c9a-1bc7-4194-b9c2-0edbeabd11cf",
   "metadata": {},
   "outputs": [],
   "source": [
    "Посмотреть результаты"
   ]
  },
  {
   "cell_type": "code",
   "execution_count": null,
   "id": "956731d0-1867-4aee-85a9-ad63bce73fe9",
   "metadata": {},
   "outputs": [],
   "source": [
    "#24+ 28 08 25"
   ]
  },
  {
   "cell_type": "code",
   "execution_count": 35,
   "id": "27265c74-eae7-4803-9902-2d67704b5b04",
   "metadata": {},
   "outputs": [
    {
     "name": "stdout",
     "output_type": "stream",
     "text": [
      "Creating A Done\n"
     ]
    }
   ],
   "source": [
    "class Meta(type):\n",
    "    def __new__(cls, name, bases, dct):\n",
    "        print(f\"Creating {name}\", end=' ')\n",
    "        return super().__new__(cls, name, bases, dct)\n",
    "\n",
    "class A(metaclass=Meta):\n",
    "    def __init__(self):\n",
    "        print(\"Init A\", end=' ')\n",
    "\n",
    "print(\"Done\")\n"
   ]
  },
  {
   "cell_type": "code",
   "execution_count": null,
   "id": "29d1a9f5-daa5-40e3-bd04-7d499992d083",
   "metadata": {},
   "outputs": [],
   "source": [
    "Creating A Init A Done\n",
    "\n",
    "Creating A Done #\n",
    "\n",
    "Init A Creating A Done\n",
    "\n",
    "Done Creating A"
   ]
  },
  {
   "cell_type": "code",
   "execution_count": null,
   "id": "3c77bbf0-28d3-47d4-b18d-2b7feb43d0b8",
   "metadata": {},
   "outputs": [],
   "source": [
    "Метакласс создаёт класс при его определении — Creating A выводится сразу. Метод __init__ не вызывается, потому что объект A() не создавался."
   ]
  },
  {
   "cell_type": "code",
   "execution_count": null,
   "id": "d0a176d7-0cd8-483e-8bbd-b34865e8ad3f",
   "metadata": {},
   "outputs": [],
   "source": [
    "Что выведет код?\n",
    "\n",
    "```python\n",
    "\n",
    "```"
   ]
  },
  {
   "cell_type": "code",
   "execution_count": null,
   "id": "874ff8fe-9f2f-4aae-b0c3-067721fdbdcc",
   "metadata": {},
   "outputs": [],
   "source": [
    "Выберите правильный вариант"
   ]
  },
  {
   "cell_type": "code",
   "execution_count": null,
   "id": "33b69d93-a920-4d8f-9c24-ee98407264fd",
   "metadata": {},
   "outputs": [],
   "source": [
    "Посмотреть результаты"
   ]
  },
  {
   "cell_type": "code",
   "execution_count": null,
   "id": "b85bb073-c90c-4ba7-aea8-5007953223d4",
   "metadata": {},
   "outputs": [],
   "source": [
    "#25 + 29 08 25"
   ]
  },
  {
   "cell_type": "code",
   "execution_count": 37,
   "id": "0201825b-90fb-4df1-ba0f-6db150a88d5a",
   "metadata": {},
   "outputs": [
    {
     "name": "stdout",
     "output_type": "stream",
     "text": [
      "Hello from metaclass\n"
     ]
    }
   ],
   "source": [
    "class Meta(type):\n",
    "    def __new__(cls, name, bases, dct):\n",
    "        dct['greeting'] = 'Hello from metaclass'\n",
    "        return super().__new__(cls, name, bases, dct)\n",
    "\n",
    "class A(metaclass=Meta):\n",
    "    pass\n",
    "\n",
    "a = A()\n",
    "print(a.greeting)\n"
   ]
  },
  {
   "cell_type": "code",
   "execution_count": null,
   "id": "b100f0c5-ecf5-4550-84ac-495b8690f325",
   "metadata": {},
   "outputs": [],
   "source": [
    "Hello from metaclass  #\n",
    "\n",
    "AttributeError: атрибут greeting не найден\n",
    "\n",
    "None\n",
    "\n",
    "TypeError: нельзя передавать dct"
   ]
  },
  {
   "cell_type": "code",
   "execution_count": null,
   "id": "66e6bbee-9af1-49b8-979e-0e9d800ecfdb",
   "metadata": {},
   "outputs": [],
   "source": [
    "Метакласс добавил атрибут greeting в словарь класса при создании. Теперь a.greeting существует, даже если не был явно описан в теле класса."
   ]
  },
  {
   "cell_type": "code",
   "execution_count": null,
   "id": "6628b12c-a503-4578-93a1-f8f750147df1",
   "metadata": {},
   "outputs": [],
   "source": [
    "..........................................................."
   ]
  },
  {
   "cell_type": "code",
   "execution_count": null,
   "id": "614dfe79-6ca8-4cc1-8f5e-1d6724d66366",
   "metadata": {},
   "outputs": [],
   "source": [
    "Сентябрь 25"
   ]
  },
  {
   "cell_type": "code",
   "execution_count": null,
   "id": "1402db07-df1d-4ae8-bfa9-2ff10caccf80",
   "metadata": {},
   "outputs": [],
   "source": [
    "#26+ 1 09 25"
   ]
  },
  {
   "cell_type": "code",
   "execution_count": 1,
   "id": "36b11ea8-b3d1-405e-81a1-a19e4f998f23",
   "metadata": {},
   "outputs": [
    {
     "name": "stdout",
     "output_type": "stream",
     "text": [
      "a|b|c\n"
     ]
    }
   ],
   "source": [
    "def join(*args, sep=\"-\"):\n",
    "    return sep.join(args)\n",
    "\n",
    "print(join(\"a\", \"b\", \"c\", sep=\"|\"))\n"
   ]
  },
  {
   "cell_type": "code",
   "execution_count": null,
   "id": "2649c319-e7dc-480d-a03b-d4111a03a5b3",
   "metadata": {},
   "outputs": [],
   "source": [
    "a-b-c\n",
    "a|b|c  #\n",
    "abc\n",
    "sep|sep|sep\n",
    "TypeError"
   ]
  },
  {
   "cell_type": "code",
   "execution_count": null,
   "id": "298b7abd-9c66-4b1b-8257-051e335c9200",
   "metadata": {},
   "outputs": [],
   "source": [
    "Все аргументы — строки, sep — строка, результат — a|b|c. Ошибки нет, потому что типы подходящие."
   ]
  },
  {
   "cell_type": "code",
   "execution_count": null,
   "id": "9d4cd285-50b7-4fd9-aeed-e7c439409735",
   "metadata": {},
   "outputs": [],
   "source": [
    "Что выведет код?\n",
    "\n",
    "```python\n",
    "\n",
    "```"
   ]
  },
  {
   "cell_type": "code",
   "execution_count": null,
   "id": "ec3712bf-3234-421d-8057-2ea3d7eacc94",
   "metadata": {},
   "outputs": [],
   "source": [
    "Выберите правильный вариант"
   ]
  },
  {
   "cell_type": "code",
   "execution_count": null,
   "id": "20c791a4-95c3-49a4-a894-291e12245ed7",
   "metadata": {},
   "outputs": [],
   "source": [
    "Посмотреть результаты"
   ]
  },
  {
   "cell_type": "code",
   "execution_count": null,
   "id": "a5d9bc3f-6389-4f28-89c3-0fed7470b570",
   "metadata": {},
   "outputs": [],
   "source": [
    "#26+ 2 09 25"
   ]
  },
  {
   "cell_type": "code",
   "execution_count": 3,
   "id": "7aa4eaf6-79d6-4cac-982f-be8a21c8c2ce",
   "metadata": {},
   "outputs": [
    {
     "name": "stdout",
     "output_type": "stream",
     "text": [
      "[4, 4, 4]\n"
     ]
    }
   ],
   "source": [
    "def make_funcs():\n",
    "    return [lambda x: i * x for i in range(3)]\n",
    "\n",
    "funcs = make_funcs()\n",
    "print([f(2) for f in funcs])\n"
   ]
  },
  {
   "cell_type": "code",
   "execution_count": null,
   "id": "29ca659c-95db-4543-b0e5-9b9814a662d1",
   "metadata": {},
   "outputs": [],
   "source": [
    "[0, 2, 4]\n",
    "[2, 2, 2]\n",
    "[0, 1, 2]\n",
    "[4, 4, 4]  #"
   ]
  },
  {
   "cell_type": "code",
   "execution_count": null,
   "id": "5d6b7266-1b9b-4a82-bbdf-ea6e2a642b77",
   "metadata": {},
   "outputs": [],
   "source": [
    "Все лямбды используют одно и то же i, равное 2 после цикла. Ошибки нет, потому что i захвачена в замыкании."
   ]
  },
  {
   "cell_type": "code",
   "execution_count": null,
   "id": "4625899b-bbe2-4b89-a9e7-41c91acb4a14",
   "metadata": {},
   "outputs": [],
   "source": [
    "Что выведет код?\n",
    "\n",
    "```python\n",
    "\n",
    "\n",
    "```\n",
    "Выберите правильный вариант\n",
    "Посмотреть результаты"
   ]
  },
  {
   "cell_type": "code",
   "execution_count": null,
   "id": "084cf5d7-6301-46aa-af2f-24ceac7402e9",
   "metadata": {},
   "outputs": [],
   "source": [
    "#27+ 3 09 25"
   ]
  },
  {
   "cell_type": "code",
   "execution_count": 5,
   "id": "15a013b0-fee2-4444-871d-df8c8ed7b314",
   "metadata": {},
   "outputs": [
    {
     "name": "stdout",
     "output_type": "stream",
     "text": [
      "Decorated Hello\n"
     ]
    }
   ],
   "source": [
    "def decorator(fn):\n",
    "    def wrapper():\n",
    "        return \"Decorated \" + fn()\n",
    "    return wrapper\n",
    "\n",
    "@decorator\n",
    "def say():\n",
    "    return \"Hello\"\n",
    "\n",
    "print(say())\n"
   ]
  },
  {
   "cell_type": "code",
   "execution_count": null,
   "id": "b5bf7622-27ed-47ca-adf7-c5034aaa2fd7",
   "metadata": {},
   "outputs": [],
   "source": [
    "Hello\n",
    "Decorated\n",
    "Decorated Hello #\n",
    "Hello Decorated"
   ]
  },
  {
   "cell_type": "code",
   "execution_count": null,
   "id": "bd0c8cf8-c926-4a9b-95f0-8b7dba4c24f2",
   "metadata": {},
   "outputs": [],
   "source": [
    "Функция say декорирована, вызывается wrapper, который  добавляет \"Decorated\" к \"Hello\"."
   ]
  },
  {
   "cell_type": "code",
   "execution_count": null,
   "id": "86d1d19a-ebaa-4515-a1ce-0f586def39a3",
   "metadata": {},
   "outputs": [],
   "source": [
    "#28+ 4 09 25"
   ]
  },
  {
   "cell_type": "code",
   "execution_count": 7,
   "id": "7d8830fc-d7be-4c46-8d66-5d3e4ff4a6a5",
   "metadata": {},
   "outputs": [
    {
     "name": "stdout",
     "output_type": "stream",
     "text": [
      "5\n"
     ]
    }
   ],
   "source": [
    "def apply(func, value):\n",
    "    return func(value)\n",
    "\n",
    "print(apply(abs, -5))\n"
   ]
  },
  {
   "cell_type": "code",
   "execution_count": null,
   "id": "6de87234-d89f-48ac-b36f-9b61cfc4fc8f",
   "metadata": {},
   "outputs": [],
   "source": [
    "-5\n",
    "5 #\n",
    "abs\n",
    "True\n",
    "TypeError"
   ]
  },
  {
   "cell_type": "code",
   "execution_count": null,
   "id": "878c8a97-e7f2-444e-b5d1-8c4f4907ebe6",
   "metadata": {},
   "outputs": [],
   "source": [
    "abs — функция, передаётся как аргумент. Применяется к -5, результат — 5. Ошибок нет."
   ]
  },
  {
   "cell_type": "code",
   "execution_count": null,
   "id": "4f2d9fce-0762-4e96-9fe3-9f9f8cd3ef23",
   "metadata": {},
   "outputs": [],
   "source": [
    "Что выведет код?\n",
    "\n",
    "```python\n",
    "\n",
    "\n",
    "```\n",
    "Выберите правильный вариант\n",
    "Посмотреть результаты"
   ]
  },
  {
   "cell_type": "code",
   "execution_count": null,
   "id": "0cc47ab7-c9e0-4c3b-b7d9-96fe2a1fa189",
   "metadata": {},
   "outputs": [],
   "source": [
    "#29+ 5 09 25"
   ]
  },
  {
   "cell_type": "code",
   "execution_count": 9,
   "id": "6a465d2d-46eb-4e36-aa96-bfd27a4110bb",
   "metadata": {},
   "outputs": [
    {
     "name": "stdout",
     "output_type": "stream",
     "text": [
      "[0, 1, 4]\n"
     ]
    }
   ],
   "source": [
    "x = [(lambda y: y ** 2)(i) for i in range(3)]\n",
    "print(x)\n"
   ]
  },
  {
   "cell_type": "code",
   "execution_count": null,
   "id": "11f8ab32-c419-4057-af46-a4d43de110d3",
   "metadata": {},
   "outputs": [],
   "source": [
    "[1, 4, 9]\n",
    "[0, 1, 2]\n",
    "[0, 1, 4] #\n",
    "[2, 2, 2]\n",
    "SyntaxError"
   ]
  },
  {
   "cell_type": "code",
   "execution_count": null,
   "id": "7982c6e7-c7f7-4d22-a027-24703dfa8268",
   "metadata": {},
   "outputs": [],
   "source": [
    "Внутри списка lambda вызывается сразу: (lambda y: y ** 2)(i) — квадрат i. Для i = 0, 1, 2 получаем [0, 1, 4]. Это вызов, а не сохранение функции."
   ]
  },
  {
   "cell_type": "code",
   "execution_count": null,
   "id": "c8c9443a-7b68-490f-9afb-76f3be5425dd",
   "metadata": {},
   "outputs": [],
   "source": [
    "#30+ 8 09 25"
   ]
  },
  {
   "cell_type": "code",
   "execution_count": 11,
   "id": "17ccb85a-7c7a-471e-8a8e-894d46d3cae6",
   "metadata": {},
   "outputs": [
    {
     "name": "stdout",
     "output_type": "stream",
     "text": [
      "(1, 5, (6, 7), 10, {'d': 20})\n"
     ]
    }
   ],
   "source": [
    "def show(a, b=2, *args, c=3, **kwargs):\n",
    "    return a, b, args, c, kwargs\n",
    "\n",
    "print(show(1, 5, 6, 7, c=10, d=20))\n"
   ]
  },
  {
   "cell_type": "code",
   "execution_count": null,
   "id": "b9310604-c055-4693-8f56-ee03f256b8cc",
   "metadata": {},
   "outputs": [],
   "source": [
    "(1, 5, (6, 7), 10, {'d': 20})  #\n",
    "(1, 2, (5, 6, 7), 10, {'c': 10, 'd': 20})\n",
    "(1, 5, (), 10, {'d': 20})\n",
    "TypeError"
   ]
  },
  {
   "cell_type": "code",
   "execution_count": null,
   "id": "67401b29-95dd-4f33-b7cb-0647f0268a52",
   "metadata": {},
   "outputs": [],
   "source": [
    "b=5 — второй позиционный, args=(6,7), c=10 передан как keyword-only, d в kwargs."
   ]
  },
  {
   "cell_type": "code",
   "execution_count": null,
   "id": "d57e8f6d-8e83-4c97-81ac-2db9f835a97f",
   "metadata": {},
   "outputs": [],
   "source": [
    "Что выведет код?\n",
    "\n",
    "```python\n",
    "\n",
    "\n",
    "```\n",
    "Выберите правильный вариант\n",
    "Посмотреть результаты"
   ]
  },
  {
   "cell_type": "code",
   "execution_count": null,
   "id": "fedf1870-ec39-4487-aa49-b46bd7861a8e",
   "metadata": {},
   "outputs": [],
   "source": [
    "#31+ 9 09 25"
   ]
  },
  {
   "cell_type": "code",
   "execution_count": 13,
   "id": "7432784f-6c2a-4807-ac2a-fdaa43e2b869",
   "metadata": {},
   "outputs": [
    {
     "name": "stdout",
     "output_type": "stream",
     "text": [
      "2 3\n"
     ]
    }
   ],
   "source": [
    "def outer():\n",
    "    x = 1\n",
    "    def inner():\n",
    "        nonlocal x\n",
    "        x += 1\n",
    "        return x\n",
    "    return inner\n",
    "\n",
    "f = outer()\n",
    "print(f(), f())\n"
   ]
  },
  {
   "cell_type": "code",
   "execution_count": null,
   "id": "cb18671a-b0e7-4015-be1e-5e587c124736",
   "metadata": {},
   "outputs": [],
   "source": [
    "2 3  #\n",
    "1 2\n",
    "2 2\n",
    "SyntaxError"
   ]
  },
  {
   "cell_type": "code",
   "execution_count": null,
   "id": "69dccfe6-8f37-40c3-9571-8b988fb4e084",
   "metadata": {},
   "outputs": [],
   "source": [
    "x живёт в outer(), nonlocal позволяет менять его в inner(). Первый вызов: 2, второй: 3."
   ]
  },
  {
   "cell_type": "code",
   "execution_count": null,
   "id": "4c7d665b-9cd5-4dda-910c-00f7a55c6c55",
   "metadata": {},
   "outputs": [],
   "source": [
    "Что выведет код?\n",
    "\n",
    "```python\n",
    "\n",
    "\n",
    "```\n",
    "Выберите правильный вариант\n",
    "Посмотреть результаты"
   ]
  },
  {
   "cell_type": "code",
   "execution_count": null,
   "id": "c8e0d08b-dd27-45f8-972f-088d7ce33537",
   "metadata": {},
   "outputs": [],
   "source": [
    "#32+ 10 09 25"
   ]
  },
  {
   "cell_type": "code",
   "execution_count": 15,
   "id": "cf11efcb-12f2-46d6-8911-28bce9326a51",
   "metadata": {},
   "outputs": [
    {
     "name": "stdout",
     "output_type": "stream",
     "text": [
      "['Hi, Leo', 'Hi, Leo', 'Hi, Leo']\n"
     ]
    }
   ],
   "source": [
    "def repeat(n):\n",
    "    def decorator(func):\n",
    "        def wrapper(*args, **kwargs):\n",
    "            return [func(*args, **kwargs) for _ in range(n)]\n",
    "        return wrapper\n",
    "    return decorator\n",
    "\n",
    "@repeat(3)\n",
    "def greet(name):\n",
    "    return f\"Hi, {name}\"\n",
    "\n",
    "print(greet(\"Leo\"))\n"
   ]
  },
  {
   "cell_type": "code",
   "execution_count": null,
   "id": "27000bff-4433-4b49-b26f-edf88e28e635",
   "metadata": {},
   "outputs": [],
   "source": [
    "['Hi, Leo', 'Hi, Leo', 'Hi, Leo']  #\n",
    "'Hi, Leo'\n",
    "['Leo', 'Leo', 'Leo']\n",
    "TypeError"
   ]
  },
  {
   "cell_type": "code",
   "execution_count": null,
   "id": "b764fde5-e6c5-4449-bb3e-ef58b3921a8c",
   "metadata": {},
   "outputs": [],
   "source": [
    "repeat(3) создаёт декоратор, который 3 раза вызывает greet. Возвращается список результатов."
   ]
  },
  {
   "cell_type": "code",
   "execution_count": null,
   "id": "0bdc2700-b66e-4377-8ff2-50e5ff722d15",
   "metadata": {},
   "outputs": [],
   "source": [
    "Что выведет код?\n",
    "\n",
    "```python\n",
    "\n",
    "\n",
    "```\n",
    "Выберите правильный вариант\n",
    "Посмотреть результаты"
   ]
  },
  {
   "cell_type": "code",
   "execution_count": null,
   "id": "5385353d-869a-443f-bdc3-a4d7e4550057",
   "metadata": {},
   "outputs": [],
   "source": [
    "#33+ 11 09 25"
   ]
  },
  {
   "cell_type": "code",
   "execution_count": 17,
   "id": "55d94283-0be4-48a7-b5ad-b01f9f3e00db",
   "metadata": {},
   "outputs": [
    {
     "name": "stdout",
     "output_type": "stream",
     "text": [
      "16\n"
     ]
    }
   ],
   "source": [
    "from functools import partial\n",
    "\n",
    "def power(base, exponent):\n",
    "    return base ** exponent\n",
    "\n",
    "square = partial(power, exponent=2)\n",
    "print(square(4))\n"
   ]
  },
  {
   "cell_type": "code",
   "execution_count": null,
   "id": "e0db8171-e20d-4e3a-9591-41155f77f563",
   "metadata": {},
   "outputs": [],
   "source": [
    "8\n",
    "2\n",
    "16  #\n",
    "TypeError\n",
    "None"
   ]
  },
  {
   "cell_type": "code",
   "execution_count": null,
   "id": "8d72ca65-470e-49f2-aab1-861d7b16be6d",
   "metadata": {},
   "outputs": [],
   "source": [
    "partial зафиксировал exponent=2, так что square(4) эквивалентно power(4, 2) → 16."
   ]
  },
  {
   "cell_type": "code",
   "execution_count": null,
   "id": "b0ac59ed-46c5-4577-be88-0268f524fb46",
   "metadata": {},
   "outputs": [],
   "source": [
    "Что выведет код?\n",
    "\n",
    "```python\n",
    "\n",
    "\n",
    "```\n",
    "Выберите правильный вариант\n",
    "Посмотреть результаты"
   ]
  },
  {
   "cell_type": "code",
   "execution_count": null,
   "id": "13f4ead9-9876-4a92-a686-0c2431df4abe",
   "metadata": {},
   "outputs": [],
   "source": [
    "#34+ 12 09 25"
   ]
  },
  {
   "cell_type": "code",
   "execution_count": 19,
   "id": "cde1955e-7b08-4566-b9ed-5373ac19eefa",
   "metadata": {},
   "outputs": [
    {
     "name": "stdout",
     "output_type": "stream",
     "text": [
      "1 1 2\n"
     ]
    }
   ],
   "source": [
    "def counter():\n",
    "    count = 0\n",
    "    def inc():\n",
    "        nonlocal count\n",
    "        count += 1\n",
    "        return count\n",
    "    return inc\n",
    "\n",
    "a = counter()\n",
    "b = counter()\n",
    "print(a(), b(), a())\n"
   ]
  },
  {
   "cell_type": "code",
   "execution_count": null,
   "id": "ed159aa3-0ae7-437b-b969-3d358dc40817",
   "metadata": {},
   "outputs": [],
   "source": [
    "1 2 3\n",
    "0 1 2\n",
    "1 1 1\n",
    "1 1 2 #\n",
    "2 1 2"
   ]
  },
  {
   "cell_type": "code",
   "execution_count": null,
   "id": "36a5c1b3-32a6-403e-b89d-12f833b43837",
   "metadata": {},
   "outputs": [],
   "source": [
    " a и b — независимые функции с разным состоянием. Каждый вызов counter() создаёт своё замыкание."
   ]
  },
  {
   "cell_type": "code",
   "execution_count": null,
   "id": "f378ba6f-572d-4909-a98b-257c4cc5443b",
   "metadata": {},
   "outputs": [],
   "source": [
    "Что выведет код?\n",
    "\n",
    "```python\n",
    "\n",
    "\n",
    "```\n",
    "Выберите правильный вариант\n",
    "Посмотреть результаты"
   ]
  },
  {
   "cell_type": "code",
   "execution_count": null,
   "id": "71e7e8e1-db80-404a-9b57-45f02da46cf1",
   "metadata": {},
   "outputs": [],
   "source": [
    "#35+ 15 09 25"
   ]
  },
  {
   "cell_type": "code",
   "execution_count": 21,
   "id": "f026937c-4611-4a48-bfa1-53abe805ae5f",
   "metadata": {},
   "outputs": [
    {
     "name": "stdout",
     "output_type": "stream",
     "text": [
      "11\n"
     ]
    }
   ],
   "source": [
    "def outer(x):\n",
    "    def inner():\n",
    "        return x + 1\n",
    "    x = 10\n",
    "    return inner()\n",
    "\n",
    "print(outer(5))\n"
   ]
  },
  {
   "cell_type": "code",
   "execution_count": null,
   "id": "f1dfc2ea-4f33-40fe-8b54-c52b3f495dcb",
   "metadata": {},
   "outputs": [],
   "source": [
    "6\n",
    "11 #\n",
    "5\n",
    "UnboundLocalError\n",
    "TypeError"
   ]
  },
  {
   "cell_type": "code",
   "execution_count": null,
   "id": "44e65da9-45ba-4abf-835d-ccb9bcf11025",
   "metadata": {},
   "outputs": [],
   "source": [
    "Значение x в момент вызова inner() — уже обновлено до 10, так что 10 + 1 = 11. Переданное 5 игнорируется."
   ]
  },
  {
   "cell_type": "code",
   "execution_count": null,
   "id": "ea2ea027-dcac-4cdd-96f7-2191bffaeb49",
   "metadata": {},
   "outputs": [],
   "source": [
    "Что выведет код?\n",
    "\n",
    "```python\n",
    "\n",
    "\n",
    "```\n",
    "Выберите правильный вариант\n",
    "Посмотреть результаты"
   ]
  },
  {
   "cell_type": "code",
   "execution_count": null,
   "id": "8521a3f9-34ee-48be-a3cf-9f6a02b97338",
   "metadata": {},
   "outputs": [],
   "source": [
    "#36+ 16 09 25"
   ]
  },
  {
   "cell_type": "code",
   "execution_count": 23,
   "id": "bcdf0567-8bbd-48aa-a23d-92e349b2aebe",
   "metadata": {},
   "outputs": [
    {
     "name": "stdout",
     "output_type": "stream",
     "text": [
      "static A\n"
     ]
    }
   ],
   "source": [
    "class A:\n",
    "    @staticmethod\n",
    "    def stat(): return \"static\"\n",
    "    \n",
    "    @classmethod\n",
    "    def cls(cls): return cls.__name__\n",
    "\n",
    "print(A.stat(), A.cls())\n"
   ]
  },
  {
   "cell_type": "code",
   "execution_count": null,
   "id": "f8bd614a-c0ba-4af6-97c4-ccb3b69a28b3",
   "metadata": {},
   "outputs": [],
   "source": [
    "static cls\n",
    "A static\n",
    "TypeError\n",
    "static static\n",
    "static A #"
   ]
  },
  {
   "cell_type": "code",
   "execution_count": null,
   "id": "9d1928cd-9d37-44fc-91ac-b5bb57508e43",
   "metadata": {},
   "outputs": [],
   "source": [
    "@staticmethod не получает ссылку на класс, работает как обычная функция. @classmethod получает cls — сам класс A, cls.__name__ возвращает строку 'A'."
   ]
  },
  {
   "cell_type": "code",
   "execution_count": null,
   "id": "91c4ce94-368a-41a5-982a-6c0da51e2d06",
   "metadata": {},
   "outputs": [],
   "source": [
    "#37+ 17 09 25"
   ]
  },
  {
   "cell_type": "code",
   "execution_count": 25,
   "id": "4dc8e928-0933-47b9-a373-30c23453d415",
   "metadata": {},
   "outputs": [
    {
     "name": "stdout",
     "output_type": "stream",
     "text": [
      "5\n"
     ]
    }
   ],
   "source": [
    "from typing import Callable\n",
    "\n",
    "def apply_twice(f: Callable[[int], int], x: int) -> int:\n",
    "    return f(f(x))\n",
    "\n",
    "print(apply_twice(lambda x: x + 1, 3))\n"
   ]
  },
  {
   "cell_type": "code",
   "execution_count": null,
   "id": "85dd8fba-b2db-4845-8b9f-5995d7dc536b",
   "metadata": {},
   "outputs": [],
   "source": [
    "TypeError\n",
    "SyntaxError\n",
    "4\n",
    "5  #\n",
    "6\n"
   ]
  },
  {
   "cell_type": "code",
   "execution_count": null,
   "id": "c60d3260-2f62-46ca-894d-1adc6bed3f49",
   "metadata": {},
   "outputs": [],
   "source": [
    "lambda x: x + 1 применяется дважды: f(f(3)) → f(4) → 5. Типизация верна, ошибок нет."
   ]
  },
  {
   "cell_type": "code",
   "execution_count": null,
   "id": "1a31bb08-ef20-4e38-b1fc-a6b70f617aca",
   "metadata": {},
   "outputs": [],
   "source": [
    "Что выведет код?\n",
    "\n",
    "```python\n",
    "\n",
    "\n",
    "```\n",
    "Выберите правильный вариант\n",
    "Посмотреть результаты"
   ]
  },
  {
   "cell_type": "code",
   "execution_count": null,
   "id": "61736763-6319-4344-8dfa-d46a9d0d0f3a",
   "metadata": {},
   "outputs": [],
   "source": [
    "#38+ 18 09 25"
   ]
  },
  {
   "cell_type": "code",
   "execution_count": 27,
   "id": "f60d2ed5-98f8-4daa-92a7-e200e1601a52",
   "metadata": {},
   "outputs": [
    {
     "name": "stdout",
     "output_type": "stream",
     "text": [
      "4\n"
     ]
    }
   ],
   "source": [
    "import inspect\n",
    "\n",
    "def f(a, b=2, *args, **kwargs): pass\n",
    "\n",
    "sig = inspect.signature(f)\n",
    "print(len(sig.parameters))\n"
   ]
  },
  {
   "cell_type": "code",
   "execution_count": null,
   "id": "07f449f2-a9e8-48dd-ad1e-e4806335152c",
   "metadata": {},
   "outputs": [],
   "source": [
    "2\n",
    "3\n",
    "4 #\n",
    "5\n",
    "AttributeError"
   ]
  },
  {
   "cell_type": "code",
   "execution_count": null,
   "id": "da5614d6-b64d-4152-95d1-1979106fe68b",
   "metadata": {},
   "outputs": [],
   "source": [
    "Аргументы a, b, *args, **kwargs — всего 4 параметра в сигнатуре. Модуль inspect читает их корректно."
   ]
  },
  {
   "cell_type": "code",
   "execution_count": null,
   "id": "355f55c0-4750-4538-9b34-2a233558ac31",
   "metadata": {},
   "outputs": [],
   "source": [
    "Что выведет код?\n",
    "\n",
    "```python\n",
    "\n",
    "\n",
    "```\n",
    "Выберите правильный вариант\n",
    "Посмотреть результаты"
   ]
  },
  {
   "cell_type": "code",
   "execution_count": null,
   "id": "26fbce78-d2e3-42c8-acdc-f86af3b8fa22",
   "metadata": {},
   "outputs": [],
   "source": [
    "#39+ 19 09 25"
   ]
  },
  {
   "cell_type": "code",
   "execution_count": 29,
   "id": "dff1cc4a-c286-480a-8644-dc4b1d1cce13",
   "metadata": {},
   "outputs": [
    {
     "name": "stdout",
     "output_type": "stream",
     "text": [
      "7\n"
     ]
    }
   ],
   "source": [
    "def add(x):\n",
    "    def inner(y):\n",
    "        return x + y\n",
    "    return inner\n",
    "\n",
    "print(add(3)(4))\n"
   ]
  },
  {
   "cell_type": "code",
   "execution_count": null,
   "id": "dbc8c721-4b8f-490c-abc3-8d4b760e96f6",
   "metadata": {},
   "outputs": [],
   "source": [
    "None\n",
    "7  #\n",
    "34\n",
    "add\n",
    "TypeError"
   ]
  },
  {
   "cell_type": "code",
   "execution_count": null,
   "id": "31c29cba-9f96-478f-b4c3-94ffded11f44",
   "metadata": {},
   "outputs": [],
   "source": [
    "Функция add(3) возвращает inner, которая вызывает 3 + 4. Это и есть каррирование — по одному аргументу за раз."
   ]
  },
  {
   "cell_type": "code",
   "execution_count": null,
   "id": "0548d6ed-a58b-4423-b8c2-66936e05dfc9",
   "metadata": {},
   "outputs": [],
   "source": [
    "#40+ 22 09 25"
   ]
  },
  {
   "cell_type": "code",
   "execution_count": 31,
   "id": "e0b355d3-d354-4fef-a169-9dff254b7b8a",
   "metadata": {},
   "outputs": [
    {
     "name": "stdout",
     "output_type": "stream",
     "text": [
      "[1, 2, 1, 2]\n"
     ]
    }
   ],
   "source": [
    "def sum(x, y):\n",
    "    return x * y\n",
    "\n",
    "print(sum([1, 2], 2))\n"
   ]
  },
  {
   "cell_type": "code",
   "execution_count": null,
   "id": "c2759c18-d43f-48ab-a60b-2384ce616e47",
   "metadata": {},
   "outputs": [],
   "source": [
    "\n",
    "3\n",
    "[1, 2, 2]\n",
    "[1, 2, 1, 2] #\n",
    "TypeError"
   ]
  },
  {
   "cell_type": "code",
   "execution_count": null,
   "id": "3a740e05-b6c4-4ba1-863f-3006ff397587",
   "metadata": {},
   "outputs": [],
   "source": [
    "Переопределили sum, теперь она перемножает. [1, 2] * 2 → [1, 2, 1, 2]. Встроенная sum() не используется."
   ]
  },
  {
   "cell_type": "code",
   "execution_count": null,
   "id": "e6017d67-6177-48f1-999b-e4cf8f010b72",
   "metadata": {},
   "outputs": [],
   "source": [
    "Что выведет код?\n",
    "\n",
    "```python\n",
    "\n",
    "\n",
    "```\n",
    "Выберите правильный вариант\n",
    "Посмотреть результаты"
   ]
  },
  {
   "cell_type": "code",
   "execution_count": null,
   "id": "3342fb2d-af60-4923-a9e7-49a798c27ec5",
   "metadata": {},
   "outputs": [],
   "source": [
    "#41+ 23 09 25"
   ]
  },
  {
   "cell_type": "code",
   "execution_count": 33,
   "id": "4d23dfab-09f5-4cf2-ac42-1597011d92e3",
   "metadata": {},
   "outputs": [
    {
     "name": "stdout",
     "output_type": "stream",
     "text": [
      "hi 42\n"
     ]
    }
   ],
   "source": [
    "def make():\n",
    "    def f(): return \"hi\"\n",
    "    f.data = 42\n",
    "    return f\n",
    "\n",
    "g = make()\n",
    "print(g(), g.data)\n"
   ]
  },
  {
   "cell_type": "code",
   "execution_count": null,
   "id": "abc648fc-1a5b-4cfa-9b94-4d91e61861a6",
   "metadata": {},
   "outputs": [],
   "source": [
    "hi' None\n",
    "'hi' f.data\n",
    "AttributeError\n",
    "None 42\n",
    "'hi' 42 #"
   ]
  },
  {
   "cell_type": "code",
   "execution_count": null,
   "id": "215630d9-2837-4cd3-ac07-74fe91182e44",
   "metadata": {},
   "outputs": [],
   "source": [
    "Функции — объекты. Можно присваивать им атрибуты, как у обычных объектов: f.data = 42."
   ]
  },
  {
   "cell_type": "code",
   "execution_count": null,
   "id": "36e0f203-b1aa-461c-94b3-1728578e943a",
   "metadata": {},
   "outputs": [],
   "source": [
    "Что выведет код?\n",
    "\n",
    "```python\n",
    "\n",
    "\n",
    "```\n",
    "Выберите правильный вариант\n",
    "Посмотреть результаты"
   ]
  },
  {
   "cell_type": "code",
   "execution_count": null,
   "id": "07388fed-e361-4435-9f90-9dcd434849e4",
   "metadata": {},
   "outputs": [],
   "source": [
    "#42+ 24 09 25"
   ]
  },
  {
   "cell_type": "code",
   "execution_count": 39,
   "id": "2e3cffc5-1814-4d51-a9d1-e9c16ba99c61",
   "metadata": {},
   "outputs": [
    {
     "name": "stdout",
     "output_type": "stream",
     "text": [
      "10 None\n"
     ]
    }
   ],
   "source": [
    "from typing import Optional, Union\n",
    "\n",
    "def f(x: Union[int, str]) -> Optional[str]:\n",
    "    return str(x) if isinstance(x, int) else None\n",
    "\n",
    "print(f(10), f(\"a\"))\n"
   ]
  },
  {
   "cell_type": "code",
   "execution_count": null,
   "id": "97a5a5bf-9b2e-4e18-bb17-d6c05cece071",
   "metadata": {},
   "outputs": [],
   "source": [
    "'10' None \n",
    "'10' 'a'\n",
    "10 None #\n",
    "None 'a'\n",
    "TypeError"
   ]
  },
  {
   "cell_type": "code",
   "execution_count": null,
   "id": "2ff8259a-eb6d-4a69-829c-5c1600e3f91d",
   "metadata": {},
   "outputs": [],
   "source": [
    "Union[int, str] — допускает оба типа. Функция возвращает str(x) только если x — int. Иначе None."
   ]
  },
  {
   "cell_type": "code",
   "execution_count": null,
   "id": "0db934fe-fb1f-4ce4-a019-a9d62c5aee83",
   "metadata": {},
   "outputs": [],
   "source": [
    "Что выведет код?\n",
    "\n",
    "```python\n",
    "\n",
    "\n",
    "```\n",
    "Выберите правильный вариант\n",
    "Посмотреть результаты"
   ]
  },
  {
   "cell_type": "code",
   "execution_count": null,
   "id": "e59ea193-213d-40f5-aa34-ef98449f487a",
   "metadata": {},
   "outputs": [],
   "source": [
    "#43+ 25 09 25"
   ]
  },
  {
   "cell_type": "code",
   "execution_count": 41,
   "id": "38624358-e0ba-472d-a47f-9b74b7510354",
   "metadata": {},
   "outputs": [
    {
     "name": "stdout",
     "output_type": "stream",
     "text": [
      "[1, 2]\n"
     ]
    }
   ],
   "source": [
    "log = []\n",
    "\n",
    "def log_append(x):\n",
    "    log.append(x)\n",
    "\n",
    "def runner(func):\n",
    "    func(1)\n",
    "    func(2)\n",
    "    return log\n",
    "\n",
    "print(runner(log_append))\n"
   ]
  },
  {
   "cell_type": "code",
   "execution_count": null,
   "id": "b0a7e15b-f72a-45e9-999c-39593b1201a2",
   "metadata": {},
   "outputs": [],
   "source": [
    "[]\n",
    "[1, 2, 1, 2]\n",
    "[1, 2]  #\n",
    "NameError\n",
    "[2, 1]"
   ]
  },
  {
   "cell_type": "code",
   "execution_count": null,
   "id": "b3901aa4-490e-4fb7-95af-c1211df6fc25",
   "metadata": {},
   "outputs": [],
   "source": [
    "log — список вне функции. log_append изменяет его. Это побочный эффект — изменение внешнего состояния."
   ]
  },
  {
   "cell_type": "code",
   "execution_count": null,
   "id": "8ccef96f-6536-4987-8dee-a6248124c592",
   "metadata": {},
   "outputs": [],
   "source": [
    "#44+ 26 09 25"
   ]
  },
  {
   "cell_type": "code",
   "execution_count": 43,
   "id": "f0ab1566-dfa2-4743-a47c-022bcf4b08cb",
   "metadata": {},
   "outputs": [
    {
     "name": "stdout",
     "output_type": "stream",
     "text": [
      "18\n"
     ]
    }
   ],
   "source": [
    "from typing import Callable\n",
    "\n",
    "def doubler(f: Callable[[int], int]) -> Callable[[int], int]:\n",
    "    def wrapped(x: int) -> int:\n",
    "        return f(x) * 2\n",
    "    return wrapped\n",
    "\n",
    "@doubler\n",
    "def square(x: int) -> int:\n",
    "    return x * x\n",
    "\n",
    "print(square(3))\n"
   ]
  },
  {
   "cell_type": "code",
   "execution_count": null,
   "id": "63b94705-d38b-4708-8b08-6d5deed0825c",
   "metadata": {},
   "outputs": [],
   "source": [
    "6\n",
    "9\n",
    "18 #\n",
    "TypeError"
   ]
  },
  {
   "cell_type": "code",
   "execution_count": null,
   "id": "e1d7a7b5-a39f-4abd-8691-59a962737480",
   "metadata": {},
   "outputs": [],
   "source": [
    "square(3) → 3*3 = 9, затем декоратор удваивает результат → 18. Все аннотации совместимы."
   ]
  },
  {
   "cell_type": "code",
   "execution_count": null,
   "id": "840d5cda-6b87-472b-94a2-07c68e944fa5",
   "metadata": {},
   "outputs": [],
   "source": [
    "Что выведет код?\n",
    "\n",
    "```python\n",
    "\n",
    "\n",
    "```\n",
    "Выберите правильный вариант\n",
    "Посмотреть результаты"
   ]
  },
  {
   "cell_type": "code",
   "execution_count": null,
   "id": "986855b0-d748-4332-a8bb-951d6c399105",
   "metadata": {},
   "outputs": [],
   "source": [
    "#45+ 29 09 25"
   ]
  },
  {
   "cell_type": "code",
   "execution_count": 45,
   "id": "7450a646-16b3-433b-be11-f300edae3a2a",
   "metadata": {},
   "outputs": [
    {
     "name": "stdout",
     "output_type": "stream",
     "text": [
      "[10, 11, 12]\n"
     ]
    }
   ],
   "source": [
    "funcs = []\n",
    "for i in range(3):\n",
    "    funcs.append(lambda x, i=i: x + i)\n",
    "\n",
    "print([f(10) for f in funcs])\n"
   ]
  },
  {
   "cell_type": "code",
   "execution_count": null,
   "id": "bcd6ca1f-a25a-4a06-a686-9155bef15dc6",
   "metadata": {},
   "outputs": [],
   "source": [
    "[10, 10, 10]\n",
    "[13, 13, 13]\n",
    "[10, 11, 12] #\n",
    "UnboundLocalError\n",
    "[11, 11, 11]"
   ]
  },
  {
   "cell_type": "code",
   "execution_count": null,
   "id": "6775141c-9dee-4534-9c84-4b984e2bf1f6",
   "metadata": {},
   "outputs": [],
   "source": [
    "i=i фиксирует значение i в каждой лямбде. Без i=i был бы захват последнего i=2. С i=i → [10+0, 10+1, 10+2]."
   ]
  },
  {
   "cell_type": "code",
   "execution_count": null,
   "id": "cca7d5ee-375a-44e6-acd6-0cd4dd68ba0f",
   "metadata": {},
   "outputs": [],
   "source": [
    "Что выведет код?\n",
    "\n",
    "```python\n",
    "\n",
    "\n",
    "```\n",
    "Выберите правильный вариант\n",
    "Посмотреть результаты"
   ]
  },
  {
   "cell_type": "code",
   "execution_count": null,
   "id": "573e723a-e0de-4b75-ae96-829d5b34b277",
   "metadata": {},
   "outputs": [],
   "source": [
    "#46+ 30 09 25"
   ]
  },
  {
   "cell_type": "code",
   "execution_count": 47,
   "id": "489d0986-0322-4979-b63d-4241021a38ec",
   "metadata": {},
   "outputs": [
    {
     "name": "stdout",
     "output_type": "stream",
     "text": [
      "[2, 1, 0, 1, 0] [2, 1, 0, 1, 0]\n"
     ]
    }
   ],
   "source": [
    "def collect(n, acc=[]):\n",
    "    acc.append(n)\n",
    "    if n == 0:\n",
    "        return acc\n",
    "    return collect(n - 1, acc)\n",
    "\n",
    "print(collect(2), collect(1))\n"
   ]
  },
  {
   "cell_type": "code",
   "execution_count": null,
   "id": "3fdef7c8-1c97-4d22-8d70-57aa6f98c03c",
   "metadata": {},
   "outputs": [],
   "source": [
    "[2, 1, 0] [1, 0]\n",
    "[2, 1, 0] [2, 1, 0, 1, 0]\n",
    "[2, 1, 0, 1, 0] [2, 1, 0, 1, 0]\n",
    "[2, 1, 0, 1, 0] [1, 0] #\n",
    "TypeError"
   ]
  },
  {
   "cell_type": "code",
   "execution_count": null,
   "id": "32515f01-540e-48f7-8450-3af8320454c5",
   "metadata": {},
   "outputs": [],
   "source": [
    "Аргумент acc=[] создаётся один раз при определении функции и сохраняет состояние между вызовами. Поэтому второй вызов collect(1) добавляет элементы в тот же список, что и collect(2)."
   ]
  },
  {
   "cell_type": "code",
   "execution_count": null,
   "id": "81bd646d-1451-4dd7-b5b0-868eb40a5af1",
   "metadata": {},
   "outputs": [],
   "source": [
    "Что выведет код?\n",
    "\n",
    "```python\n",
    "\n",
    "\n",
    "```\n",
    "Выберите правильный вариант\n",
    "Посмотреть результаты"
   ]
  },
  {
   "cell_type": "code",
   "execution_count": 1,
   "id": "b4d044c4-bef1-40d2-a35e-15121b446e0f",
   "metadata": {},
   "outputs": [],
   "source": [
    "### Итераторы и генераторы"
   ]
  },
  {
   "cell_type": "code",
   "execution_count": null,
   "id": "823d9d6a-fd72-422e-8229-867ca1a77321",
   "metadata": {},
   "outputs": [],
   "source": [
    "#47+ 1 10 25"
   ]
  },
  {
   "cell_type": "code",
   "execution_count": 3,
   "id": "751e55e2-3a34-486e-b603-581581be4111",
   "metadata": {},
   "outputs": [
    {
     "name": "stdout",
     "output_type": "stream",
     "text": [
      "(0, 10) 1\n",
      "(1, 20) 2\n"
     ]
    }
   ],
   "source": [
    "a = [10, 20, 30]\n",
    "b = [1, 2]\n",
    "\n",
    "for i, j in zip(enumerate(a), b):\n",
    "    print(i, j)\n"
   ]
  },
  {
   "cell_type": "code",
   "execution_count": null,
   "id": "bb4d49e7-3661-49ff-ab37-4f44933b874f",
   "metadata": {},
   "outputs": [],
   "source": [
    "0 1 и 1 2\n",
    "(10, 1) и (20, 2)\n",
    "(0, 1) и (1, 2)\n",
    "(0, 10) 1 и (1, 20) 2 #\n",
    "TypeError"
   ]
  },
  {
   "cell_type": "code",
   "execution_count": null,
   "id": "8d159a95-9b59-45bb-813d-2edb30b1db5e",
   "metadata": {},
   "outputs": [],
   "source": [
    "enumerate(a) создаёт кортежи (0, 10), (1, 20), (2, 30). zip объединяет их с b = [1, 2], обрезая по минимальной длине (2). На каждой итерации i = (0, 10), j = 1 и затем i = (1, 20), j = 2."
   ]
  },
  {
   "cell_type": "code",
   "execution_count": null,
   "id": "152fa7c2-9be8-4471-bf39-e1d8659e59e8",
   "metadata": {},
   "outputs": [],
   "source": [
    "Что выведет код?\n",
    "\n",
    "```python\n",
    "\n",
    "\n",
    "```\n",
    "Выберите правильный вариант\n",
    "Посмотреть результаты"
   ]
  },
  {
   "cell_type": "code",
   "execution_count": null,
   "id": "05d19c23-9a39-4166-8ddd-93b59a970e30",
   "metadata": {},
   "outputs": [],
   "source": [
    "#48+ 2 10 25"
   ]
  },
  {
   "cell_type": "code",
   "execution_count": 5,
   "id": "f2daf5e6-0a63-4581-85cb-558325a9effe",
   "metadata": {},
   "outputs": [
    {
     "name": "stdout",
     "output_type": "stream",
     "text": [
      "[3, 4]\n",
      "[]\n"
     ]
    }
   ],
   "source": [
    "class Counter:\n",
    "    def __init__(self, start, stop):\n",
    "        self.current = start\n",
    "        self.stop = stop\n",
    "\n",
    "    def __iter__(self):\n",
    "        return self\n",
    "\n",
    "    def __next__(self):\n",
    "        if self.current >= self.stop:\n",
    "            raise StopIteration\n",
    "        result = self.current\n",
    "        self.current += 1\n",
    "        return result\n",
    "\n",
    "c = Counter(3, 5)\n",
    "print(list(c))\n",
    "print(list(c))\n"
   ]
  },
  {
   "cell_type": "code",
   "execution_count": null,
   "id": "6ea26303-da0d-430a-acb2-8c2b83d93991",
   "metadata": {},
   "outputs": [],
   "source": [
    "[3, 4] [3, 4]\n",
    "[3, 4] []  #\n",
    "[] []\n",
    "[4, 5] [4, 5]\n",
    "TypeError"
   ]
  },
  {
   "cell_type": "code",
   "execution_count": null,
   "id": "75ebcdd1-b361-41ea-bdb0-e3baa96dbcdc",
   "metadata": {},
   "outputs": [],
   "source": [
    "Объект c — итератор сам по себе (__iter__ возвращает self). После первого list(c) он исчерпан, и второй list(c) уже возвращает пустой список. Для повторной итерации нужно создать новый объект."
   ]
  },
  {
   "cell_type": "code",
   "execution_count": null,
   "id": "27f77cde-d7f8-448d-94a5-806a42b418ae",
   "metadata": {},
   "outputs": [],
   "source": [
    "Что выведет код?\n",
    "\n",
    "```python\n",
    "\n",
    "\n",
    "```\n",
    "Выберите правильный вариант\n",
    "Посмотреть результаты"
   ]
  },
  {
   "cell_type": "code",
   "execution_count": null,
   "id": "d4b3b7a3-1576-43ac-8ed7-29dba8c72320",
   "metadata": {},
   "outputs": [],
   "source": [
    "#49+ 3 10 25"
   ]
  },
  {
   "cell_type": "code",
   "execution_count": 7,
   "id": "0f29b634-ba82-409b-8459-c2a7efc85ab3",
   "metadata": {},
   "outputs": [
    {
     "name": "stdout",
     "output_type": "stream",
     "text": [
      "[1, 2]\n"
     ]
    }
   ],
   "source": [
    "def gen():\n",
    "    yield 1\n",
    "    yield 2\n",
    "    return 3\n",
    "\n",
    "g = gen()\n",
    "print(list(g))\n"
   ]
  },
  {
   "cell_type": "code",
   "execution_count": null,
   "id": "703e052b-e177-4c56-90ac-0238194e93f3",
   "metadata": {},
   "outputs": [],
   "source": [
    "[1, 2, 3]\n",
    "[3]\n",
    "[1, 2]  #\n",
    "StopIteration: 3\n",
    "[1, 2, None]"
   ]
  },
  {
   "cell_type": "code",
   "execution_count": null,
   "id": "7d9f7cb6-9510-418f-b26a-78ffe0541465",
   "metadata": {},
   "outputs": [],
   "source": [
    "return 3 завершает генератор, но значение 3 не добавляется в список — оно становится аргументом исключения StopIteration, который list() тихо проглатывает."
   ]
  },
  {
   "cell_type": "code",
   "execution_count": null,
   "id": "86d9f648-c1bf-40f1-9d5f-2179179aca91",
   "metadata": {},
   "outputs": [],
   "source": [
    "Что выведет код?\n",
    "\n",
    "```python\n",
    "\n",
    "\n",
    "```\n",
    "Выберите правильный вариант\n",
    "Посмотреть результаты"
   ]
  },
  {
   "cell_type": "code",
   "execution_count": null,
   "id": "e8eebbb5-5408-4fb2-966d-82a8eff7b5b2",
   "metadata": {},
   "outputs": [],
   "source": [
    "#50+ 6 10 25"
   ]
  },
  {
   "cell_type": "code",
   "execution_count": 13,
   "id": "080360f1-9fec-4604-8cfa-dedc434c91fa",
   "metadata": {},
   "outputs": [
    {
     "name": "stdout",
     "output_type": "stream",
     "text": [
      "start\n",
      "middle\n"
     ]
    }
   ],
   "source": [
    "def trace():\n",
    "    print(\"start\")\n",
    "    yield 1\n",
    "    print(\"middle\")\n",
    "    yield 2\n",
    "    print(\"end\")\n",
    "g = trace()\n",
    "a = next(g)\n",
    "b = next(g)\n"
   ]
  },
  {
   "cell_type": "code",
   "execution_count": null,
   "id": "4d702545-9752-4f04-957f-dcb982d2ec4d",
   "metadata": {},
   "outputs": [],
   "source": [
    "start, middle, end\n",
    "start, middle  #\n",
    "start, 1, middle, 2, end\n",
    "start, middle, 2\n",
    "start, middle, 2, end"
   ]
  },
  {
   "cell_type": "code",
   "execution_count": null,
   "id": "4b90a49b-e87a-4773-8fb0-5c69ca48e6ac",
   "metadata": {},
   "outputs": [],
   "source": [
    "next(g) запускает генератор до первого yield → print(\"start\") и yield 1.\n",
    "Второй next(g) → print(\"middle\"), yield 2.\n",
    "print(\"end\") не вызывается, потому что третьего next() нет.\n",
    "\n"
   ]
  },
  {
   "cell_type": "code",
   "execution_count": null,
   "id": "015def30-39ff-4dc9-a0b8-1ea7a3b905fe",
   "metadata": {},
   "outputs": [],
   "source": [
    "#51+ 7 10 25"
   ]
  },
  {
   "cell_type": "code",
   "execution_count": 15,
   "id": "2bd8b5b6-0b70-4fa9-bfe0-9062dcc47cd8",
   "metadata": {},
   "outputs": [
    {
     "name": "stdout",
     "output_type": "stream",
     "text": [
      "6\n"
     ]
    }
   ],
   "source": [
    "gen = (x * 2 for x in range(3))\n",
    "print(sum(gen) + sum(gen))\n"
   ]
  },
  {
   "cell_type": "code",
   "execution_count": null,
   "id": "4ad3ccb9-0fb4-4aac-aed8-55469f289b62",
   "metadata": {},
   "outputs": [],
   "source": [
    "0\n",
    "6 #\n",
    "12\n",
    "TypeError\n",
    "RuntimeError"
   ]
  },
  {
   "cell_type": "code",
   "execution_count": null,
   "id": "e054b3ec-9b62-40ab-a374-4da9941f5129",
   "metadata": {},
   "outputs": [],
   "source": [
    "sum(gen) — потребляет генератор до конца: 0 + 2 + 4 = 6.\n",
    "Второй sum(gen) = 0, потому что генератор исчерпан. Итог: 6 + 0 = 6."
   ]
  },
  {
   "cell_type": "code",
   "execution_count": null,
   "id": "7bfdc61f-2e97-4f9f-8a37-9889a1f7b437",
   "metadata": {},
   "outputs": [],
   "source": [
    "#52+ 8 10 25"
   ]
  },
  {
   "cell_type": "code",
   "execution_count": 17,
   "id": "4ac8e07b-86e5-4092-a98b-fb8dfbfae818",
   "metadata": {},
   "outputs": [
    {
     "name": "stdout",
     "output_type": "stream",
     "text": [
      "[0, 20]\n",
      "[]\n"
     ]
    }
   ],
   "source": [
    "outer = (x for x in range(3))\n",
    "inner = (y * 10 for y in outer if y % 2 == 0)\n",
    "\n",
    "print(list(inner))\n",
    "print(list(outer))\n"
   ]
  },
  {
   "cell_type": "code",
   "execution_count": null,
   "id": "1975e325-fdf4-4652-a558-3e59e109ae1b",
   "metadata": {},
   "outputs": [],
   "source": [
    "[0, 20] [1]\n",
    "[0, 20, 10] [2]\n",
    "[0, 20] [0, 1, 2]\n",
    "[] [0, 1, 2]\n",
    "[0, 20] []  #"
   ]
  },
  {
   "cell_type": "code",
   "execution_count": null,
   "id": "1e7fffae-4a08-48c7-b831-1eaa26e131ff",
   "metadata": {},
   "outputs": [],
   "source": [
    "Генератор inner потребляет outer полностью при первом проходе. Поэтому второй list(outer) — пустой. Условие if y % 2 == 0 пропускает 1."
   ]
  },
  {
   "cell_type": "code",
   "execution_count": null,
   "id": "6b536acc-546a-49b1-887a-f96f649a87ca",
   "metadata": {},
   "outputs": [],
   "source": [
    "Что выведет код?\n",
    "\n",
    "```python\n",
    "\n",
    "\n",
    "```\n",
    "Выберите правильный вариант\n",
    "Посмотреть результаты"
   ]
  },
  {
   "cell_type": "code",
   "execution_count": null,
   "id": "322ff597-5110-458e-8510-d54d2f749972",
   "metadata": {},
   "outputs": [],
   "source": [
    "#53+ 9 10 25"
   ]
  },
  {
   "cell_type": "code",
   "execution_count": 19,
   "id": "841d88b5-ddb3-4d22-a61d-f6ac3770dc51",
   "metadata": {},
   "outputs": [
    {
     "name": "stdout",
     "output_type": "stream",
     "text": [
      "[1, 2, 3]\n"
     ]
    }
   ],
   "source": [
    "def gen1():\n",
    "    yield from [1, 2]\n",
    "    yield 3\n",
    "\n",
    "print(list(gen1()))\n"
   ]
  },
  {
   "cell_type": "code",
   "execution_count": null,
   "id": "70e21a55-6f59-4c15-aed3-a304916d1320",
   "metadata": {},
   "outputs": [],
   "source": [
    "[1, 2, 3]  #\n",
    "[1, [2], 3]\n",
    "[[1, 2], 3]\n",
    "[1, 2]\n",
    "TypeError"
   ]
  },
  {
   "cell_type": "code",
   "execution_count": null,
   "id": "76d29b8f-99c4-42d8-a9d7-7dff1150d945",
   "metadata": {},
   "outputs": [],
   "source": [
    "yield from [1, 2] — делегирует yield на каждый элемент списка. Затем yield 3. Всё складывается в один поток: [1, 2, 3]."
   ]
  },
  {
   "cell_type": "code",
   "execution_count": null,
   "id": "48838f88-fbe2-42fc-9bee-6be92dddef41",
   "metadata": {},
   "outputs": [],
   "source": [
    "#54+ 10 10 25"
   ]
  },
  {
   "cell_type": "code",
   "execution_count": 21,
   "id": "55290a8b-a1b5-4b2d-be9e-2c25334143c7",
   "metadata": {},
   "outputs": [
    {
     "name": "stdout",
     "output_type": "stream",
     "text": [
      "0 1 2 3\n"
     ]
    }
   ],
   "source": [
    "def sub():\n",
    "    yield 1\n",
    "    yield 2\n",
    "\n",
    "def main():\n",
    "    yield 0\n",
    "    yield from sub()\n",
    "    yield 3\n",
    "\n",
    "g = main()\n",
    "print(next(g), next(g), next(g), next(g))\n"
   ]
  },
  {
   "cell_type": "code",
   "execution_count": null,
   "id": "cebeda6c-6cc2-4bce-86d1-a29dd1f1c263",
   "metadata": {},
   "outputs": [],
   "source": [
    "1 2 0 3\n",
    "0 1 2 StopIteration\n",
    "TypeError: 'NoneType' object is not an iterator\n",
    "0 2 1 3\n",
    "0 1 2 3 #"
   ]
  },
  {
   "cell_type": "code",
   "execution_count": null,
   "id": "873f8000-044a-4060-ac9c-6001de5ccb07",
   "metadata": {},
   "outputs": [],
   "source": [
    "main() генерирует 0, затем делегирует yield from sub() → 1, 2, затем yield 3. Каждый next() возвращает следующий элемент в общей последовательности."
   ]
  },
  {
   "cell_type": "code",
   "execution_count": null,
   "id": "01d0ae18-336e-44c4-91eb-3ecb8cb9d1c2",
   "metadata": {},
   "outputs": [],
   "source": [
    "Что выведет код?\n",
    "\n",
    "```python\n",
    "\n",
    "\n",
    "```\n",
    "Выберите правильный вариант\n",
    "Посмотреть результаты"
   ]
  },
  {
   "cell_type": "code",
   "execution_count": null,
   "id": "455ea7a0-4834-49e0-8e59-d74cbdc30b91",
   "metadata": {},
   "outputs": [],
   "source": [
    "#55+ 13 10 25"
   ]
  },
  {
   "cell_type": "code",
   "execution_count": 23,
   "id": "ff779da6-0b75-4172-8e5d-8235f42a2ad6",
   "metadata": {},
   "outputs": [
    {
     "name": "stdout",
     "output_type": "stream",
     "text": [
      "[1, 2, 3, 4]\n"
     ]
    }
   ],
   "source": [
    "from itertools import chain\n",
    "\n",
    "a = [1, 2]\n",
    "b = (x for x in [3, 4])\n",
    "\n",
    "c = chain(a, b)\n",
    "print(list(c))\n"
   ]
  },
  {
   "cell_type": "code",
   "execution_count": null,
   "id": "959fe022-9557-40c3-af2f-6a6caaf3c5dd",
   "metadata": {},
   "outputs": [],
   "source": [
    "[1, 2, 3, 4]  #\n",
    "[1, 2, [3, 4]]\n",
    "[1, 2]\n",
    "[3, 4]\n",
    "TypeError"
   ]
  },
  {
   "cell_type": "code",
   "execution_count": null,
   "id": "c6152ae5-4ffc-42e4-bddb-0e6a38e9f8cb",
   "metadata": {},
   "outputs": [],
   "source": [
    "chain объединяет итерируемые объекты в один ленивый поток. a — список, b — генератор. Всё итерируется по порядку."
   ]
  },
  {
   "cell_type": "code",
   "execution_count": null,
   "id": "c746233d-c4a5-4ad4-8df7-bab5b7b39797",
   "metadata": {},
   "outputs": [],
   "source": [
    "Что выведет код?\n",
    "\n",
    "```python\n",
    "\n",
    "\n",
    "```\n",
    "Выберите правильный вариант\n",
    "Посмотреть результаты"
   ]
  },
  {
   "cell_type": "code",
   "execution_count": null,
   "id": "be929885-5b07-4b4b-914b-6696e968cb64",
   "metadata": {},
   "outputs": [],
   "source": [
    "#56+ 14 10 25"
   ]
  },
  {
   "cell_type": "code",
   "execution_count": 25,
   "id": "7043c420-feed-404f-b971-bc4c6f3f4f6e",
   "metadata": {},
   "outputs": [
    {
     "name": "stdout",
     "output_type": "stream",
     "text": [
      "[10, 20, 10]\n"
     ]
    }
   ],
   "source": [
    "from itertools import cycle\n",
    "\n",
    "c = cycle([10, 20])\n",
    "out = []\n",
    "for i, val in enumerate(c):\n",
    "    if i >= 3:\n",
    "        break\n",
    "    out.append(val)\n",
    "\n",
    "print(out)\n"
   ]
  },
  {
   "cell_type": "code",
   "execution_count": null,
   "id": "3129393c-e8bc-4b2a-a1a9-32f60f2efc9b",
   "metadata": {},
   "outputs": [],
   "source": [
    "[10, 20, 10, 20]\n",
    "[10, 10, 10]\n",
    "[10, 20, 10] #\n",
    "[10, 20]\n",
    "[20, 10, 20, 10]"
   ]
  },
  {
   "cell_type": "code",
   "execution_count": null,
   "id": "cd5573e8-35ad-4c2c-87fc-abcee835a81d",
   "metadata": {},
   "outputs": [],
   "source": [
    "cycle зацикливает [10, 20]. enumerate даёт индексы от 0. Как только i >= 3, цикл останавливается. Успевает пройти три элемента: 10, 20, 10."
   ]
  },
  {
   "cell_type": "code",
   "execution_count": null,
   "id": "ec90bfc5-7bf1-44a7-bc17-c905f8bb8482",
   "metadata": {},
   "outputs": [],
   "source": [
    "Что выведет код?\n",
    "\n",
    "```python\n",
    "\n",
    "\n",
    "```\n",
    "Выберите правильный вариант\n",
    "Посмотреть результаты"
   ]
  },
  {
   "cell_type": "code",
   "execution_count": null,
   "id": "b656a703-47e5-49ba-be7f-936af7f6cf14",
   "metadata": {},
   "outputs": [],
   "source": [
    "#57+ 15 10 25"
   ]
  },
  {
   "cell_type": "code",
   "execution_count": 27,
   "id": "9ceed9ec-39d9-41ac-958c-407c6db4eb0f",
   "metadata": {},
   "outputs": [
    {
     "name": "stdout",
     "output_type": "stream",
     "text": [
      "[-1, 0, 1, 2]\n"
     ]
    }
   ],
   "source": [
    "def sub():\n",
    "    for i in range(2):\n",
    "        yield i\n",
    "\n",
    "def main():\n",
    "    yield -1\n",
    "    for x in sub():\n",
    "        yield x\n",
    "    yield 2\n",
    "\n",
    "print(list(main()))\n"
   ]
  },
  {
   "cell_type": "code",
   "execution_count": null,
   "id": "858ffeeb-e03c-4e1f-8eb8-b9a916faed95",
   "metadata": {},
   "outputs": [],
   "source": [
    "[0, 1, 2]\n",
    "[-1, [0, 1], 2]\n",
    "[-1, 0, 1, 2] #\n",
    "[-1, 1, 2]\n",
    "[-1, 0, 2, 1] "
   ]
  },
  {
   "cell_type": "code",
   "execution_count": null,
   "id": "c45f9f84-ab96-42f4-b234-dc1c1a4a8465",
   "metadata": {},
   "outputs": [],
   "source": [
    "main() сначала выдаёт -1, затем вручную итерирует sub() — даёт 0, 1, затем 2. То же, что yield from, но явным циклом."
   ]
  },
  {
   "cell_type": "code",
   "execution_count": null,
   "id": "84b6702a-2c21-4879-bb35-60790b8dc18f",
   "metadata": {},
   "outputs": [],
   "source": [
    "Что выведет код?\n",
    "\n",
    "```python\n",
    "\n",
    "\n",
    "```\n",
    "Выберите правильный вариант\n",
    "Посмотреть результаты"
   ]
  },
  {
   "cell_type": "code",
   "execution_count": null,
   "id": "d54f39b0-af81-4490-a0cf-0850b0ee4460",
   "metadata": {},
   "outputs": [],
   "source": [
    "#58+ 16 10 25"
   ]
  },
  {
   "cell_type": "code",
   "execution_count": 29,
   "id": "b99fc0c8-3662-4e8c-8420-97d57cc18512",
   "metadata": {},
   "outputs": [
    {
     "name": "stdout",
     "output_type": "stream",
     "text": [
      "0 1 99\n"
     ]
    }
   ],
   "source": [
    "g = (x for x in range(2))\n",
    "print(next(g), next(g), next(g, 99))\n"
   ]
  },
  {
   "cell_type": "code",
   "execution_count": null,
   "id": "3eef63fc-6692-4d15-a164-a8f99d17c862",
   "metadata": {},
   "outputs": [],
   "source": [
    "0 1 StopIteration\n",
    "0 1 99  #\n",
    "0 1 None\n",
    "0 2 99\n",
    "1 2 99"
   ]
  },
  {
   "cell_type": "code",
   "execution_count": null,
   "id": "1092bf8e-4b95-4e5b-8803-69804a7f3bf5",
   "metadata": {},
   "outputs": [],
   "source": [
    "next(g) → 0, потом 1. Третий вызов с default=99 не вызывает StopIteration, а возвращает указанное значение, если генератор исчерпан."
   ]
  },
  {
   "cell_type": "code",
   "execution_count": null,
   "id": "b37f5365-27d2-4a62-b4af-f93de9523c8e",
   "metadata": {},
   "outputs": [],
   "source": [
    "#59+ 17 10 25"
   ]
  },
  {
   "cell_type": "code",
   "execution_count": 31,
   "id": "51ec9187-9b8f-473e-a7e2-10bd0cbfffa9",
   "metadata": {},
   "outputs": [
    {
     "name": "stdout",
     "output_type": "stream",
     "text": [
      "enter\n",
      "inside\n",
      "exit\n"
     ]
    }
   ],
   "source": [
    "from contextlib import contextmanager\n",
    "\n",
    "@contextmanager\n",
    "def simple_context():\n",
    "    print(\"enter\")\n",
    "    yield\n",
    "    print(\"exit\")\n",
    "\n",
    "with simple_context():\n",
    "    print(\"inside\")\n"
   ]
  },
  {
   "cell_type": "code",
   "execution_count": null,
   "id": "d44ce863-871f-4a80-8210-6ddfb72fea65",
   "metadata": {},
   "outputs": [],
   "source": [
    "enter inside exit  #\n",
    "\n",
    "enter exit inside\n",
    "\n",
    "inside enter exit\n",
    "\n",
    "inside enter exit exit\n",
    "\n",
    "enter inside"
   ]
  },
  {
   "cell_type": "code",
   "execution_count": null,
   "id": "6698814c-7b57-47d7-b293-58955884f0c2",
   "metadata": {},
   "outputs": [],
   "source": [
    "contextmanager превращает генератор в менеджер контекста. До yield — enter, после — exit. Всё выполняется последовательно, как try...finally."
   ]
  },
  {
   "cell_type": "code",
   "execution_count": null,
   "id": "ebee7bca-c17e-42e2-baaf-811921d190eb",
   "metadata": {},
   "outputs": [],
   "source": []
  },
  {
   "cell_type": "code",
   "execution_count": null,
   "id": "81d4b3a8-f78a-41e7-8069-09bbec21f6fa",
   "metadata": {},
   "outputs": [],
   "source": [
    "Что выведет код?\n",
    "\n",
    "```python\n",
    "\n",
    "\n",
    "```\n",
    "Выберите правильный вариант\n",
    "Посмотреть результаты"
   ]
  },
  {
   "cell_type": "code",
   "execution_count": null,
   "id": "b1e22fff-bcb1-445f-b254-ec95de24c913",
   "metadata": {},
   "outputs": [],
   "source": [
    "#60+ 20 10 25"
   ]
  },
  {
   "cell_type": "code",
   "execution_count": 33,
   "id": "ee2cd543-0683-4c67-8702-3c47caf526b7",
   "metadata": {},
   "outputs": [
    {
     "name": "stdout",
     "output_type": "stream",
     "text": [
      "start\n",
      "hello\n"
     ]
    }
   ],
   "source": [
    "def echo():\n",
    "    value = yield \"start\"\n",
    "    yield value\n",
    "\n",
    "g = echo()\n",
    "print(next(g))\n",
    "print(g.send(\"hello\"))\n"
   ]
  },
  {
   "cell_type": "code",
   "execution_count": null,
   "id": "352e04bb-75c6-47c2-b29e-b0a137696f60",
   "metadata": {},
   "outputs": [],
   "source": [
    "hello start\n",
    "\n",
    "start None\n",
    "\n",
    "start hello #\n",
    "\n",
    "start TypeError\n",
    "\n",
    "start yield"
   ]
  },
  {
   "cell_type": "code",
   "execution_count": null,
   "id": "78b9cd21-a2bd-4298-a797-86b2309bfb6e",
   "metadata": {},
   "outputs": [],
   "source": [
    "next(g) запускает генератор до yield \"start\". g.send(\"hello\") передаёт значение в value, которое возвращается во втором yield."
   ]
  },
  {
   "cell_type": "code",
   "execution_count": null,
   "id": "cf95a736-d845-4c7f-a838-7525d5b28231",
   "metadata": {},
   "outputs": [],
   "source": [
    "Что выведет код?\n",
    "\n",
    "```python\n",
    "\n",
    "\n",
    "```\n",
    "Выберите правильный вариант\n",
    "Посмотреть результаты"
   ]
  },
  {
   "cell_type": "code",
   "execution_count": null,
   "id": "f2b4faca-4151-4ca1-ba56-ff96845969a9",
   "metadata": {},
   "outputs": [],
   "source": [
    "#61+ 21 10 25"
   ]
  },
  {
   "cell_type": "code",
   "execution_count": 35,
   "id": "57bedb0c-43af-4598-8b5b-4056d8f08739",
   "metadata": {},
   "outputs": [
    {
     "name": "stdout",
     "output_type": "stream",
     "text": [
      "[1, 2, 3, 4, 5]\n"
     ]
    }
   ],
   "source": [
    "def flatten(lst):\n",
    "    for item in lst:\n",
    "        if isinstance(item, list):\n",
    "            yield from flatten(item)\n",
    "        else:\n",
    "            yield item\n",
    "\n",
    "print(list(flatten([1, [2, [3, 4]], 5])))\n"
   ]
  },
  {
   "cell_type": "code",
   "execution_count": null,
   "id": "18a3c170-e601-4723-adb3-9618dc116e39",
   "metadata": {},
   "outputs": [],
   "source": [
    "[1, [2, [3, 4]], 5]\n",
    "[1, 2, [3, 4], 5]\n",
    "[1, 2, 3, [4], 5]\n",
    "[1, 2, 3, 4, 5]  #\n",
    "[1, 2, [3], [4], 5]"
   ]
  },
  {
   "cell_type": "code",
   "execution_count": null,
   "id": "1d3de635-2c08-435a-adb3-95e310926d19",
   "metadata": {},
   "outputs": [],
   "source": [
    "Рекурсивный генератор с yield from разворачивает вложенные списки. Каждый элемент проверяется: если это список — рекурсивно разворачивается."
   ]
  },
  {
   "cell_type": "code",
   "execution_count": null,
   "id": "0e77286c-5502-439a-a68e-3820d1135b4d",
   "metadata": {},
   "outputs": [],
   "source": [
    "Что выведет код?\n",
    "\n",
    "```python\n",
    "\n",
    "\n",
    "```\n",
    "Выберите правильный вариант\n",
    "Посмотреть результаты"
   ]
  },
  {
   "cell_type": "code",
   "execution_count": null,
   "id": "690ef65b-78b4-4eb3-bc42-f7b36e892b82",
   "metadata": {},
   "outputs": [],
   "source": [
    "#62+ 22 10 25"
   ]
  },
  {
   "cell_type": "code",
   "execution_count": 37,
   "id": "4a4d3be5-545a-41db-b308-f0abae155954",
   "metadata": {},
   "outputs": [
    {
     "name": "stdout",
     "output_type": "stream",
     "text": [
      "10 10 [20, 30] [20, 30]\n"
     ]
    }
   ],
   "source": [
    "from itertools import tee\n",
    "\n",
    "it = iter([10, 20, 30])\n",
    "a, b = tee(it)\n",
    "\n",
    "print(next(a), next(b), list(a), list(b))\n"
   ]
  },
  {
   "cell_type": "code",
   "execution_count": null,
   "id": "13fe37ae-49d9-4557-b99c-3329a385b7ad",
   "metadata": {},
   "outputs": [],
   "source": [
    "10 20 [30] [30]\n",
    "10 20 [30] []\n",
    "10 10 [20, 30] []\n",
    "10 10 [20, 30] [20, 30]  #\n",
    "10 20 [30] [20, 30]"
   ]
  },
  {
   "cell_type": "code",
   "execution_count": null,
   "id": "379310cf-2b4d-423b-b914-d968c077c375",
   "metadata": {},
   "outputs": [],
   "source": [
    "tee() создает независимые итераторы с общим внутренним буфером.\n",
    "\n",
    "next(a) → 10 — значение сохраняется в буфере\n",
    "\n",
    "next(b) → тот же 10 из буфера\n",
    "\n",
    "оба продолжают с 20, 30 независимо. Поэтому остаток в обоих: [20, 30]"
   ]
  },
  {
   "cell_type": "code",
   "execution_count": null,
   "id": "6fb44150-240e-45e9-a5dc-4c5f4041f1e3",
   "metadata": {},
   "outputs": [],
   "source": [
    "Что выведет код?\n",
    "\n",
    "```python\n",
    "\n",
    "\n",
    "```\n",
    "Выберите правильный вариант\n",
    "Посмотреть результаты"
   ]
  },
  {
   "cell_type": "code",
   "execution_count": null,
   "id": "f566c7b7-51ae-401e-9ddd-57052532bb82",
   "metadata": {},
   "outputs": [],
   "source": [
    "#63+ 23 10 25"
   ]
  },
  {
   "cell_type": "code",
   "execution_count": 43,
   "id": "76e63eb5-28f8-45cb-819a-3f7d5c23a01b",
   "metadata": {},
   "outputs": [
    {
     "name": "stdout",
     "output_type": "stream",
     "text": [
      "apple\n",
      "banana\n",
      "cherry\n"
     ]
    }
   ],
   "source": [
    "with open(\"data.txt\", \"w\", encoding=\"utf-8\") as f:\n",
    "    f.write(\"apple\\n\")\n",
    "    f.write(\"banana\\n\")\n",
    "    f.write(\"cherry\\n\")\n",
    "\n",
    "def read_lines():\n",
    "    for line in open(\"data.txt\"):\n",
    "        yield line.strip()\n",
    "\n",
    "lines = read_lines()\n",
    "print(next(lines))\n",
    "print(next(lines))\n",
    "print(next(lines))\n",
    "\n"
   ]
  },
  {
   "cell_type": "code",
   "execution_count": null,
   "id": "9a95c243-e757-4f88-8e18-512820d3867d",
   "metadata": {},
   "outputs": [],
   "source": [
    "apple banana cherry  #\n",
    "\n",
    "apple banana StopIteration\n",
    "\n",
    "apple banana cherry cherry\n",
    "\n",
    "['apple', 'banana', 'cherry']\n",
    "\n",
    "TypeError"
   ]
  },
  {
   "cell_type": "code",
   "execution_count": null,
   "id": "f6f8ee65-e054-48ca-b508-de08aa2dec1b",
   "metadata": {},
   "outputs": [],
   "source": [
    "open() возвращает итератор строк. Генератор read_lines() лениво читает файл построчно. strip() удаляет \\n. Каждый next() даёт новую строку. Три строки — три вызова — без ошибки."
   ]
  },
  {
   "cell_type": "code",
   "execution_count": null,
   "id": "845020f8-edf5-4cfd-820f-cd77e39b1d24",
   "metadata": {},
   "outputs": [],
   "source": [
    "Что выведет код?\n",
    "\n",
    "```python\n",
    "\n",
    "\n",
    "```\n",
    "Выберите правильный вариант\n",
    "Посмотреть результаты"
   ]
  },
  {
   "cell_type": "code",
   "execution_count": null,
   "id": "faf728fa-c698-482b-83ad-11efbfa0b335",
   "metadata": {},
   "outputs": [],
   "source": [
    "#64+ 24 10 25"
   ]
  },
  {
   "cell_type": "code",
   "execution_count": 45,
   "id": "c9e20a83-39d9-4529-92cc-5208cb8699ec",
   "metadata": {},
   "outputs": [
    {
     "name": "stdout",
     "output_type": "stream",
     "text": [
      "[('a', ['a', 'a']), ('b', ['b', 'b', 'b']), ('a', ['a'])]\n"
     ]
    }
   ],
   "source": [
    "from itertools import groupby\n",
    "\n",
    "data = ['a', 'a', 'b', 'b', 'b', 'a']\n",
    "groups = [(k, list(g)) for k, g in groupby(data)]\n",
    "\n",
    "print(groups)\n"
   ]
  },
  {
   "cell_type": "code",
   "execution_count": null,
   "id": "812f609b-7d96-4487-bc2c-9d2278c55bd7",
   "metadata": {},
   "outputs": [],
   "source": [
    "[('a', ['a', 'a']), ('b', ['b', 'b', 'b']), ('a', ['a'])]  #\n",
    "[('a', ['a']), ('b', ['b']), ('a', ['a'])]\n",
    "[('a', ['a', 'a', 'a']), ('b', ['b', 'b', 'b'])]\n",
    "[('a', ['a', 'a']), ('b', ['b', 'b', 'b'])]\n",
    "[('a', ['a']), ('a', ['a']), ('b', ['b']), ('b', ['b'])]"
   ]
  },
  {
   "cell_type": "code",
   "execution_count": null,
   "id": "e341166d-40a6-47ab-a02e-f65a359fea5e",
   "metadata": {},
   "outputs": [],
   "source": [
    "groupby группирует подряд идущие одинаковые элементы. Повторная 'a' в конце — новая группа, так как разделена 'b'."
   ]
  },
  {
   "cell_type": "code",
   "execution_count": null,
   "id": "24c89e91-cb98-4cbf-b6c6-891e4cc756ab",
   "metadata": {},
   "outputs": [],
   "source": [
    "#65+ 27 10 25"
   ]
  },
  {
   "cell_type": "code",
   "execution_count": 49,
   "id": "18159247-a7c4-48ca-98d2-8d30ac705e71",
   "metadata": {},
   "outputs": [
    {
     "name": "stdout",
     "output_type": "stream",
     "text": [
      "[('a', ['apple', 'apricot']), ('b', ['banana', 'blueberry'])]\n"
     ]
    }
   ],
   "source": [
    "from itertools import groupby\n",
    "\n",
    "words = [\"apple\", \"apricot\", \"banana\", \"blueberry\"]\n",
    "groups = [(k, list(g)) for k, g in groupby(words, key=lambda x: x[0])]\n",
    "\n",
    "print(groups)\n"
   ]
  },
  {
   "cell_type": "code",
   "execution_count": null,
   "id": "213bd3cb-8b57-4ae7-8930-5eef34a2c97f",
   "metadata": {},
   "outputs": [],
   "source": [
    "\n",
    "[('a', ['apple']), ('a', ['apricot']), ('b', ['banana', 'blueberry'])]\n",
    "[('a', ['apple', 'apricot']), ('b', ['banana']), ('b', ['blueberry'])]\n",
    "[('a', ['apple']), ('b', ['banana']), ('b', ['blueberry'])]\n",
    "\n",
    "[('a', ['apple', 'apricot']), ('b', ['banana', 'blueberry'])] #\n",
    "[('a', ['apple', 'apricot']), ('b', ['banana']), ('c', ['blueberry'])]"
   ]
  },
  {
   "cell_type": "code",
   "execution_count": null,
   "id": "0f6b192d-852a-4a58-8596-2a8618ac092c",
   "metadata": {},
   "outputs": [],
   "source": [
    "groupby объединяет подряд идущие элементы с одинаковым ключом, здесь — первая буква.\n",
    "Поскольку список отсортирован по первой букве, всё работает корректно:\n",
    "\n",
    "'a': apple, apricot\n",
    "\n",
    "'b': banana, blueberry"
   ]
  },
  {
   "cell_type": "code",
   "execution_count": null,
   "id": "1aa8d588-9327-4128-be4c-b61deced9199",
   "metadata": {},
   "outputs": [],
   "source": [
    "Что выведет код?\n",
    "\n",
    "```python\n",
    "\n",
    "\n",
    "```\n",
    "Выберите правильный вариант\n",
    "Посмотреть результаты"
   ]
  },
  {
   "cell_type": "code",
   "execution_count": null,
   "id": "0c80f2ac-613d-434f-8489-55fc0e291547",
   "metadata": {},
   "outputs": [],
   "source": [
    "#66+ 28 10 25"
   ]
  },
  {
   "cell_type": "code",
   "execution_count": 51,
   "id": "2a6043c4-8df2-41d3-960e-af08d7fca275",
   "metadata": {},
   "outputs": [
    {
     "name": "stdout",
     "output_type": "stream",
     "text": [
      "1\n"
     ]
    },
    {
     "ename": "StopIteration",
     "evalue": "2",
     "output_type": "error",
     "traceback": [
      "\u001b[1;31m---------------------------------------------------------------------------\u001b[0m",
      "\u001b[1;31mStopIteration\u001b[0m                             Traceback (most recent call last)",
      "Cell \u001b[1;32mIn[51], line 7\u001b[0m\n\u001b[0;32m      5\u001b[0m g \u001b[38;5;241m=\u001b[39m gen()\n\u001b[0;32m      6\u001b[0m \u001b[38;5;28mprint\u001b[39m(\u001b[38;5;28mnext\u001b[39m(g))\n\u001b[1;32m----> 7\u001b[0m \u001b[38;5;28mprint\u001b[39m(\u001b[38;5;28mnext\u001b[39m(g))\n",
      "\u001b[1;31mStopIteration\u001b[0m: 2"
     ]
    }
   ],
   "source": [
    "def gen():\n",
    "    yield 1\n",
    "    return 2\n",
    "\n",
    "g = gen()\n",
    "print(next(g))\n",
    "print(next(g))\n"
   ]
  },
  {
   "cell_type": "code",
   "execution_count": null,
   "id": "b956d41f-08d6-4a89-8125-36bb776bd0e6",
   "metadata": {},
   "outputs": [],
   "source": [
    "1\n",
    "StopIteration: 2  #\n",
    "\n",
    "1\n",
    "2\n",
    "\n",
    "1\n",
    "None\n",
    "\n",
    "StopIteration\n",
    "\n",
    "TypeError"
   ]
  },
  {
   "cell_type": "markdown",
   "id": "7c107150-9f63-4b5a-8dac-e45f29cd9dae",
   "metadata": {},
   "source": [
    "yield 1 — первый next() проходит.\n",
    "return 2 — не возвращает значение в генераторе, а вызывает StopIteration(2).\n",
    "Если второй next() не обёрнут в try, будет ошибка с сообщением StopIteration: 2"
   ]
  },
  {
   "cell_type": "code",
   "execution_count": null,
   "id": "651539b8-9ee1-4b73-bdff-f03a043a0aac",
   "metadata": {},
   "outputs": [],
   "source": [
    "Что выведет код?\n",
    "\n",
    "```python\n",
    "\n",
    "\n",
    "```\n",
    "Выберите правильный вариант\n",
    "Посмотреть результаты"
   ]
  },
  {
   "cell_type": "code",
   "execution_count": null,
   "id": "a86c92d7-343b-4073-89a6-eb6067849bc2",
   "metadata": {},
   "outputs": [],
   "source": [
    "#67+ 29 10 25"
   ]
  },
  {
   "cell_type": "code",
   "execution_count": 53,
   "id": "e8322fa1-f1d5-45ae-bb54-9efd0edc852a",
   "metadata": {},
   "outputs": [
    {
     "name": "stdout",
     "output_type": "stream",
     "text": [
      "got: hello\n"
     ]
    }
   ],
   "source": [
    "def sub():\n",
    "    value = yield\n",
    "    yield f\"got: {value}\"\n",
    "\n",
    "def main():\n",
    "    yield from sub()\n",
    "\n",
    "g = main()\n",
    "next(g)\n",
    "print(g.send(\"hello\"))\n"
   ]
  },
  {
   "cell_type": "code",
   "execution_count": null,
   "id": "d8bf28be-fc96-49ef-a0f4-7fab72514eac",
   "metadata": {},
   "outputs": [],
   "source": [
    "\n",
    "hello\n",
    "None\n",
    "\n",
    "got: hello #\n",
    "StopIteration\n",
    "TypeError: "
   ]
  },
  {
   "cell_type": "markdown",
   "id": "43ef6741-1411-45d0-a97f-062968bcdb7e",
   "metadata": {},
   "source": [
    "next(g) запускает генератор main(), который делегирует управление в sub(), доходя до первого yield. Затем g.send(\"hello\") передаёт строку в sub(), она присваивается value"
   ]
  },
  {
   "cell_type": "code",
   "execution_count": null,
   "id": "22d601e6-9c68-43b7-b5a9-84d4eba7a578",
   "metadata": {},
   "outputs": [],
   "source": [
    "Что выведет код?\n",
    "\n",
    "```python\n",
    "\n",
    "\n",
    "```\n",
    "Выберите правильный вариант\n",
    "Посмотреть результаты"
   ]
  },
  {
   "cell_type": "code",
   "execution_count": 3,
   "id": "cef24f80-7906-4ea2-9276-e4bfe5e1e155",
   "metadata": {},
   "outputs": [],
   "source": [
    "####Лямбда"
   ]
  },
  {
   "cell_type": "code",
   "execution_count": null,
   "id": "a3b932db-b017-4e14-ae4b-efb8e8cf143c",
   "metadata": {},
   "outputs": [],
   "source": [
    "#68+ 30 10 25"
   ]
  },
  {
   "cell_type": "code",
   "execution_count": 5,
   "id": "e16c7d2d-5040-44d8-87a6-f5afc24befff",
   "metadata": {},
   "outputs": [
    {
     "name": "stdout",
     "output_type": "stream",
     "text": [
      "[2, 4, 6]\n"
     ]
    }
   ],
   "source": [
    "nums = [1, 2, 3]\n",
    "result = list(map(lambda x: x * 2, nums))\n",
    "print(result)\n"
   ]
  },
  {
   "cell_type": "code",
   "execution_count": null,
   "id": "f9c9308b-83c4-4801-9089-61478fc8081b",
   "metadata": {},
   "outputs": [],
   "source": [
    "[1, 2, 3]\n",
    "\n",
    "[1, 4, 9]\n",
    "[2, 4, 6] #\n",
    "\n",
    "None\n",
    "\n",
    "TypeError"
   ]
  },
  {
   "cell_type": "code",
   "execution_count": null,
   "id": "d87d4bd9-a140-477b-b73e-9c5265e1c303",
   "metadata": {},
   "outputs": [],
   "source": [
    "map() применяет lambda x*2 к каждому числу: 1→2, 2→4, 3→6. Возвращается список."
   ]
  },
  {
   "cell_type": "code",
   "execution_count": null,
   "id": "07ad398e-0c05-4714-b776-d4f573fd2333",
   "metadata": {},
   "outputs": [],
   "source": [
    "Что выведет код?\n",
    "\n",
    "```python\n",
    "\n",
    "\n",
    "```\n",
    "Выберите правильный вариант\n",
    "Посмотреть результаты"
   ]
  },
  {
   "cell_type": "code",
   "execution_count": null,
   "id": "71ba76c9-b926-48b6-966e-983343b29067",
   "metadata": {},
   "outputs": [],
   "source": [
    "#69+ 31 10 25"
   ]
  },
  {
   "cell_type": "code",
   "execution_count": 7,
   "id": "d6093ccf-c760-48fe-bf81-bad213e42d0b",
   "metadata": {},
   "outputs": [
    {
     "name": "stdout",
     "output_type": "stream",
     "text": [
      "[0, 2, 4]\n"
     ]
    }
   ],
   "source": [
    "nums = [0, 1, 2, 3, 4]\n",
    "evens = list(filter(lambda x: x % 2 == 0, nums))\n",
    "print(evens)\n"
   ]
  },
  {
   "cell_type": "code",
   "execution_count": null,
   "id": "74bd3f66-8ea3-4e17-95e3-5b86edef61fe",
   "metadata": {},
   "outputs": [],
   "source": [
    "[0, 2, 4]  #\n",
    "\n",
    "[2, 4]\n",
    "\n",
    "[1, 3]\n",
    "\n",
    "[0, 1, 2, 3, 4]\n",
    "\n",
    "[]"
   ]
  },
  {
   "cell_type": "code",
   "execution_count": null,
   "id": "8dd42663-bd89-40ae-9138-9876ed7b0a68",
   "metadata": {},
   "outputs": [],
   "source": [
    "filter() возвращает элементы, для которых условие lambda x % 2 == 0 истинно: чётные числа."
   ]
  },
  {
   "cell_type": "code",
   "execution_count": null,
   "id": "a311448e-163a-4966-b94b-09bf083e7d2c",
   "metadata": {},
   "outputs": [],
   "source": [
    "Что выведет код?\n",
    "\n",
    "```python\n",
    "\n",
    "\n",
    "```\n",
    "Выберите правильный вариант\n",
    "Посмотреть результаты"
   ]
  },
  {
   "cell_type": "code",
   "execution_count": null,
   "id": "a2071c6b-0b5b-44b0-8d89-171343f83944",
   "metadata": {},
   "outputs": [],
   "source": [
    "#70+ 3 11 25"
   ]
  },
  {
   "cell_type": "code",
   "execution_count": 9,
   "id": "df734cb0-5a68-477c-bb34-e359c99b9566",
   "metadata": {},
   "outputs": [
    {
     "name": "stdout",
     "output_type": "stream",
     "text": [
      "10\n"
     ]
    }
   ],
   "source": [
    "from functools import reduce\n",
    "nums = [1, 2, 3, 4]\n",
    "result = reduce(lambda x, y: x + y, nums)\n",
    "print(result)\n"
   ]
  },
  {
   "cell_type": "code",
   "execution_count": null,
   "id": "54d9543c-2faa-4e5c-a641-3921c08f4688",
   "metadata": {},
   "outputs": [],
   "source": [
    "[1, 2, 3, 4]\n",
    "\n",
    "None\n",
    "\n",
    "TypeError\n",
    "10 #\n",
    "\n",
    "24"
   ]
  },
  {
   "cell_type": "code",
   "execution_count": null,
   "id": "4766fc05-025e-41d7-88c0-85dec5d0def7",
   "metadata": {},
   "outputs": [],
   "source": [
    "reduce() сворачивает список: (((1+2)+3)+4) = 10."
   ]
  },
  {
   "cell_type": "code",
   "execution_count": null,
   "id": "0e6da07e-8899-4739-b112-ce043aafb4aa",
   "metadata": {},
   "outputs": [],
   "source": [
    "Что выведет код?\n",
    "\n",
    "```python\n",
    "\n",
    "\n",
    "```\n",
    "Выберите правильный вариант\n",
    "Посмотреть результаты"
   ]
  },
  {
   "cell_type": "code",
   "execution_count": null,
   "id": "1d729b9e-3d71-415b-8ce6-e822ce0ad20a",
   "metadata": {},
   "outputs": [],
   "source": []
  },
  {
   "cell_type": "code",
   "execution_count": null,
   "id": "2e07d028-ba04-416d-b834-d8767da81eb3",
   "metadata": {},
   "outputs": [],
   "source": [
    "#71+ 4 11 25"
   ]
  },
  {
   "cell_type": "code",
   "execution_count": 11,
   "id": "fd5e9580-2d81-4260-8406-a66303945d52",
   "metadata": {},
   "outputs": [
    {
     "name": "stdout",
     "output_type": "stream",
     "text": [
      "42 default\n"
     ]
    }
   ],
   "source": [
    "from collections import defaultdict\n",
    "\n",
    "d = defaultdict(lambda: \"default\")\n",
    "d[\"x\"] = 42\n",
    "print(d[\"x\"], d[\"y\"])\n"
   ]
  },
  {
   "cell_type": "code",
   "execution_count": null,
   "id": "3c8b0288-d869-45d4-8d19-75403cfd61ee",
   "metadata": {},
   "outputs": [],
   "source": [
    "'default' 'default'\n",
    "\n",
    "42 KeyError\n",
    "\n",
    "'x' 'y'\n",
    "\n",
    "42 None\n",
    "\n",
    "42 'default' #"
   ]
  },
  {
   "cell_type": "code",
   "execution_count": null,
   "id": "8a7af939-9dad-4d31-854b-acc99c9f96be",
   "metadata": {},
   "outputs": [],
   "source": [
    "начение d[\"x\"] уже установлено. При доступе к d[\"y\"] используется функция по умолчанию: lambda: \"default\"."
   ]
  },
  {
   "cell_type": "code",
   "execution_count": null,
   "id": "65976071-a9d3-4f80-9673-d027c5333c9d",
   "metadata": {},
   "outputs": [],
   "source": [
    "Что выведет код?\n",
    "\n",
    "```python\n",
    "\n",
    "\n",
    "```\n",
    "Выберите правильный вариант\n",
    "Посмотреть результаты"
   ]
  },
  {
   "cell_type": "code",
   "execution_count": null,
   "id": "6278fcfd-2e80-40f2-97be-259b1deeb9ca",
   "metadata": {},
   "outputs": [],
   "source": [
    "#72+ 5 11 25"
   ]
  },
  {
   "cell_type": "code",
   "execution_count": 13,
   "id": "36332623-7846-45eb-ba57-ddf5c2dcd7b9",
   "metadata": {},
   "outputs": [
    {
     "name": "stdout",
     "output_type": "stream",
     "text": [
      "[20, 40]\n"
     ]
    }
   ],
   "source": [
    "nums = [1, 2, 3, 4]\n",
    "result = list(map(lambda x: x * 10, filter(lambda x: x % 2 == 0, nums)))\n",
    "print(result)\n"
   ]
  },
  {
   "cell_type": "code",
   "execution_count": null,
   "id": "4499beba-e6cd-4a04-bac9-bfe3a8aeced1",
   "metadata": {},
   "outputs": [],
   "source": [
    "[10, 30]\n",
    "\n",
    "[2, 4]\n",
    "\n",
    "[20]\n",
    "[20, 40]  #\n",
    "\n",
    "[1, 3]"
   ]
  },
  {
   "cell_type": "code",
   "execution_count": null,
   "id": "24d8d612-7d0e-4c3a-bce2-4ec94795f37e",
   "metadata": {},
   "outputs": [],
   "source": [
    "filter оставляет чётные: [2, 4], затем map умножает их на 10 → [20, 40]."
   ]
  },
  {
   "cell_type": "code",
   "execution_count": null,
   "id": "a278cc9e-23c5-4c27-980b-d6eb4f6b7494",
   "metadata": {},
   "outputs": [],
   "source": [
    "Что выведет код?\n",
    "\n",
    "```python\n",
    "\n",
    "\n",
    "```\n",
    "Выберите правильный вариант\n",
    "Посмотреть результаты"
   ]
  },
  {
   "cell_type": "code",
   "execution_count": null,
   "id": "7b42a8f0-b74c-4d54-8195-fa4d4cdd638d",
   "metadata": {},
   "outputs": [],
   "source": [
    "#73+ 6 11 25"
   ]
  },
  {
   "cell_type": "code",
   "execution_count": 15,
   "id": "5d8538d2-2393-4c63-a17f-c0c6df94903c",
   "metadata": {},
   "outputs": [
    {
     "name": "stdout",
     "output_type": "stream",
     "text": [
      "10\n"
     ]
    }
   ],
   "source": [
    "from functools import partial\n",
    "\n",
    "f = partial((lambda x, y: x * y), 2)\n",
    "print(f(5))\n"
   ]
  },
  {
   "cell_type": "code",
   "execution_count": null,
   "id": "dd5ea4a1-b232-4a55-8213-cfbe7cfabb0a",
   "metadata": {},
   "outputs": [],
   "source": [
    "2\n",
    "7\n",
    "10 #\n",
    "\n",
    "TypeError\n",
    "\n",
    "None"
   ]
  },
  {
   "cell_type": "code",
   "execution_count": null,
   "id": "d9f959b8-2551-482d-8eaf-572be1537dc7",
   "metadata": {},
   "outputs": [],
   "source": [
    "partial фиксирует x = 2. Вызов f(5) равен (lambda x, y: x * y)(2, 5) → 10."
   ]
  },
  {
   "cell_type": "code",
   "execution_count": null,
   "id": "8bac7cb7-2dd1-4353-a68f-a0ab9a850006",
   "metadata": {},
   "outputs": [],
   "source": [
    "Что выведет код?\n",
    "\n",
    "```python\n",
    "\n",
    "\n",
    "```\n",
    "Выберите правильный вариант\n",
    "Посмотреть результаты"
   ]
  },
  {
   "cell_type": "code",
   "execution_count": null,
   "id": "7c03ceab-7f4a-4aed-8316-d3c14c70ed92",
   "metadata": {},
   "outputs": [],
   "source": [
    "#74+ 7 11 25"
   ]
  },
  {
   "cell_type": "code",
   "execution_count": 17,
   "id": "82bdf78a-a7c0-4825-8a0b-51ccbb979d4d",
   "metadata": {},
   "outputs": [
    {
     "name": "stdout",
     "output_type": "stream",
     "text": [
      "['a1', 'a2', 'a10', 'b1']\n"
     ]
    }
   ],
   "source": [
    "items = ['a10', 'a2', 'b1', 'a1']\n",
    "result = sorted(items, key=lambda x: (x[0], int(x[1:])))\n",
    "print(result)\n"
   ]
  },
  {
   "cell_type": "code",
   "execution_count": null,
   "id": "6e25a460-15ba-4058-a7d4-668e881b5f8c",
   "metadata": {},
   "outputs": [],
   "source": [
    "['a10', 'a2', 'a1', 'b1']\n",
    "\n",
    "['a1', 'a10', 'a2', 'b1']\n",
    "\n",
    "['b1', 'a1', 'a2', 'a10']\n",
    "\n",
    "['a1', 'b1', 'a2', 'a10']\n",
    "['a1', 'a2', 'a10', 'b1'] #"
   ]
  },
  {
   "cell_type": "code",
   "execution_count": null,
   "id": "e839bc56-46d6-424d-ac54-fbfce06943bb",
   "metadata": {},
   "outputs": [],
   "source": [
    "Сортировка по букве, затем по числу. int(x[1:]) сортирует числа как числа, а не строки."
   ]
  },
  {
   "cell_type": "code",
   "execution_count": null,
   "id": "9389455a-d0ce-4922-9087-87e21af599d7",
   "metadata": {},
   "outputs": [],
   "source": [
    "Что выведет код?\n",
    "\n",
    "```python\n",
    "\n",
    "\n",
    "```\n",
    "Выберите правильный вариант\n",
    "Посмотреть результаты"
   ]
  },
  {
   "cell_type": "code",
   "execution_count": null,
   "id": "7dc9d115-68fa-4895-9d9d-46a55cab4359",
   "metadata": {},
   "outputs": [],
   "source": [
    "#75+ 10 11 25"
   ]
  },
  {
   "cell_type": "code",
   "execution_count": 19,
   "id": "d90fe906-0d95-4a24-bb29-76969de0edf2",
   "metadata": {},
   "outputs": [
    {
     "name": "stdout",
     "output_type": "stream",
     "text": [
      "[6, 8, 10]\n"
     ]
    }
   ],
   "source": [
    "nums = [1, 2, 3, 4, 5]\n",
    "gen = (x for x in map(lambda x: x * 2, nums) if x > 5)\n",
    "print(list(gen))\n"
   ]
  },
  {
   "cell_type": "code",
   "execution_count": null,
   "id": "9760b0d9-3a2b-4d31-ab72-3dac4ddbdcf2",
   "metadata": {},
   "outputs": [],
   "source": [
    "[1, 2]\n",
    "\n",
    "[2, 4, 6, 8, 10]\n",
    "\n",
    "[6, 8]\n",
    "[6, 8, 10] #\n",
    "\n",
    "[]"
   ]
  },
  {
   "cell_type": "code",
   "execution_count": null,
   "id": "22c4d19c-f792-4acc-b00c-7d107226db71",
   "metadata": {},
   "outputs": [],
   "source": [
    "map(lambda x: x*2) → [2, 4, 6, 8, 10]; генератор фильтрует x > 5. Попадают 6, 8, 10."
   ]
  },
  {
   "cell_type": "code",
   "execution_count": null,
   "id": "e0daefe3-9f3e-4703-a19a-4e5fb2931897",
   "metadata": {},
   "outputs": [],
   "source": [
    "Что выведет код?\n",
    "\n",
    "```python\n",
    "\n",
    "\n",
    "```\n",
    "Выберите правильный вариант\n",
    "Посмотреть результаты"
   ]
  },
  {
   "cell_type": "code",
   "execution_count": null,
   "id": "da78e75e-68f3-4fe5-85b0-05b56958e261",
   "metadata": {},
   "outputs": [],
   "source": [
    "#76+ 11 11 25"
   ]
  },
  {
   "cell_type": "code",
   "execution_count": 21,
   "id": "a7d21c24-1ef9-4a46-90cf-fafc9500628a",
   "metadata": {},
   "outputs": [
    {
     "name": "stdout",
     "output_type": "stream",
     "text": [
      "[('a', ['apple', 'apricot']), ('b', ['banana', 'blueberry'])]\n"
     ]
    }
   ],
   "source": [
    "from itertools import groupby\n",
    "\n",
    "data = ['apple', 'apricot', 'banana', 'blueberry']\n",
    "groups = [(k, list(g)) for k, g in groupby(data, key=lambda x: x[0])]\n",
    "print(groups)\n"
   ]
  },
  {
   "cell_type": "code",
   "execution_count": null,
   "id": "594b5443-702b-42c6-833c-44a157fa2bf2",
   "metadata": {},
   "outputs": [],
   "source": [
    "[('a', ['apple', 'apricot']), ('b', ['banana', 'blueberry'])]  #\n",
    "\n",
    "[('a', ['apple']), ('a', ['apricot']), ('b', ['banana']), ('b', ['blueberry'])]\n",
    "\n",
    "[('a', ['apple', 'apricot']), ('b', ['banana']), ('b', ['blueberry'])]\n",
    "\n",
    "[('b', ['banana', 'blueberry']), ('a', ['apple', 'apricot'])]\n",
    "\n",
    "[('a', ['apricot']), ('b', ['banana', 'blueberry'])]"
   ]
  },
  {
   "cell_type": "code",
   "execution_count": null,
   "id": "4ff805bd-de79-41b2-8df6-ffbb4465f9a2",
   "metadata": {},
   "outputs": [],
   "source": [
    "groupby требует, чтобы данные были предварительно отсортированы по ключу. Здесь они уже отсортированы по первой букве."
   ]
  },
  {
   "cell_type": "code",
   "execution_count": null,
   "id": "3efc7ac6-606e-422b-8c0b-50454296157c",
   "metadata": {},
   "outputs": [],
   "source": [
    "Что выведет код?\n",
    "\n",
    "```python\n",
    "\n",
    "\n",
    "```\n",
    "Выберите правильный вариант\n",
    "Посмотреть результаты"
   ]
  },
  {
   "cell_type": "code",
   "execution_count": null,
   "id": "8af32a49-8bae-4c79-8f84-2951d20ea56a",
   "metadata": {},
   "outputs": [],
   "source": [
    "#77+ 12 11 25"
   ]
  },
  {
   "cell_type": "code",
   "execution_count": 23,
   "id": "f886950b-254e-42b7-b9fb-d97f4b53ea42",
   "metadata": {},
   "outputs": [
    {
     "name": "stdout",
     "output_type": "stream",
     "text": [
      "['tea', 'dog', 'apple', 'banana']\n"
     ]
    }
   ],
   "source": [
    "words = ['tea', 'apple', 'dog', 'banana']\n",
    "sorted_words = sorted(words, key=lambda w: (len(w), w[-1]))\n",
    "print(sorted_words)\n"
   ]
  },
  {
   "cell_type": "code",
   "execution_count": null,
   "id": "4f22ee08-46cd-4da1-9366-6b8ea6ad2a1d",
   "metadata": {},
   "outputs": [],
   "source": [
    "['tea', 'dog', 'apple', 'banana']\n",
    "\n",
    "['dog', 'tea', 'apple', 'banana']\n",
    "\n",
    "['apple', 'banana', 'tea', 'dog']\n",
    "\n",
    "['banana', 'apple', 'tea', 'dog']\n",
    "\n",
    "['tea', 'apple', 'dog', 'banana']"
   ]
  },
  {
   "cell_type": "markdown",
   "id": "b2f4fbad-0244-4c09-8314-e4282f74a4df",
   "metadata": {},
   "source": [
    "Сначала сортировка по длине: 'tea' и 'dog' — длина 3, 'apple' — 5, 'banana' — 6. У слов одинаковой длины сравнивается последняя буква: 'a' < 'g', поэтому 'tea' идёт перед 'dog'. Итог: ['tea', 'dog', 'apple', 'banana']."
   ]
  },
  {
   "cell_type": "code",
   "execution_count": null,
   "id": "200500da-ee12-4f6a-aee0-1c28656df5fd",
   "metadata": {},
   "outputs": [],
   "source": [
    "Что выведет код?\n",
    "\n",
    "```python\n",
    "\n",
    "\n",
    "```\n",
    "Выберите правильный вариант\n",
    "Посмотреть результаты"
   ]
  },
  {
   "cell_type": "code",
   "execution_count": null,
   "id": "52a56487-d0be-4dbd-94f2-0aac40c28aa5",
   "metadata": {},
   "outputs": [],
   "source": [
    "????????????????????????????????????????????????????????????????????????????????????????????????"
   ]
  },
  {
   "cell_type": "code",
   "execution_count": null,
   "id": "1b40a856-58b2-4fed-8d1a-349d9e92cf48",
   "metadata": {},
   "outputs": [],
   "source": [
    "#Рекурсия"
   ]
  },
  {
   "cell_type": "code",
   "execution_count": null,
   "id": "d505f41b-1785-4f90-b5af-077a7b379ff4",
   "metadata": {},
   "outputs": [],
   "source": [
    "#78+ 13 11 25"
   ]
  },
  {
   "cell_type": "code",
   "execution_count": 1,
   "id": "dbcfdb37-d37d-46fe-978b-b62c9dcc48a5",
   "metadata": {},
   "outputs": [
    {
     "name": "stdout",
     "output_type": "stream",
     "text": [
      "6\n"
     ]
    }
   ],
   "source": [
    "def fact(n):\n",
    "    if n == 0:\n",
    "        return 1\n",
    "    return n * fact(n - 1)\n",
    "\n",
    "print(fact(3))\n"
   ]
  },
  {
   "cell_type": "code",
   "execution_count": null,
   "id": "f00dbd59-8640-4b59-a888-a2403d311871",
   "metadata": {},
   "outputs": [],
   "source": [
    "0\n",
    "1\n",
    "3\n",
    "6 #\n",
    "9\n"
   ]
  },
  {
   "cell_type": "code",
   "execution_count": null,
   "id": "a26d22b7-d4ac-4069-987f-6be2e86af904",
   "metadata": {},
   "outputs": [],
   "source": [
    "3! = 3 × 2 × 1 = 6. Базовый случай n == 0 возвращает 1."
   ]
  },
  {
   "cell_type": "code",
   "execution_count": null,
   "id": "39c7837c-0259-4c93-af31-bd1d95cf7691",
   "metadata": {},
   "outputs": [],
   "source": [
    "Что выведет код?\n",
    "\n",
    "```python\n",
    "\n",
    "\n",
    "```\n",
    "Выберите правильный вариант\n",
    "Посмотреть результаты"
   ]
  },
  {
   "cell_type": "code",
   "execution_count": null,
   "id": "a67d2b60-232b-4088-9a74-8bffa869ec61",
   "metadata": {},
   "outputs": [],
   "source": [
    "#79+ 14 11 25"
   ]
  },
  {
   "cell_type": "code",
   "execution_count": 3,
   "id": "430e80ed-87ae-4bff-a43f-1784167f5fe7",
   "metadata": {},
   "outputs": [
    {
     "name": "stdout",
     "output_type": "stream",
     "text": [
      "6\n"
     ]
    }
   ],
   "source": [
    "def s(lst):\n",
    "    if not lst:\n",
    "        return 0\n",
    "    return lst[0] + s(lst[1:])\n",
    "\n",
    "print(s([1, 2, 3]))\n"
   ]
  },
  {
   "cell_type": "code",
   "execution_count": null,
   "id": "99692f98-e6ab-4e34-b9c4-39dc3ee314b8",
   "metadata": {},
   "outputs": [],
   "source": [
    "6  #\n",
    "\n",
    "[1, 2, 3]\n",
    "\n",
    "0\n",
    "\n",
    "1\n",
    "\n",
    "TypeError"
   ]
  },
  {
   "cell_type": "markdown",
   "id": "3e0a4ee7-c2e7-42a6-a45c-65de9d4919fd",
   "metadata": {},
   "source": [
    "s([1,2,3]) → 1 + s([2,3]) → 1 + 2 + s([3]) → 1 + 2 + 3 + s([]) → 1 + 2 + 3 + 0."
   ]
  },
  {
   "cell_type": "code",
   "execution_count": null,
   "id": "b4ed6519-7bd9-491a-9660-993993afeda4",
   "metadata": {},
   "outputs": [],
   "source": [
    "Что выведет код?\n",
    "\n",
    "```python\n",
    "\n",
    "\n",
    "```\n",
    "Выберите правильный вариант\n",
    "Посмотреть результаты"
   ]
  },
  {
   "cell_type": "code",
   "execution_count": null,
   "id": "35b328a5-7840-4f8c-bdaa-7e05b84ee64d",
   "metadata": {},
   "outputs": [],
   "source": [
    "#80+ 17 11 25"
   ]
  },
  {
   "cell_type": "code",
   "execution_count": 5,
   "id": "1279ddb0-202f-401c-b67b-08ad13e5f9a1",
   "metadata": {},
   "outputs": [
    {
     "name": "stdout",
     "output_type": "stream",
     "text": [
      "cba\n"
     ]
    }
   ],
   "source": [
    "def rev(s):\n",
    "    if len(s) <= 1:\n",
    "        return s\n",
    "    return rev(s[1:]) + s[0]\n",
    "\n",
    "print(rev(\"abc\"))\n"
   ]
  },
  {
   "cell_type": "code",
   "execution_count": null,
   "id": "09e0f611-5f6b-4dcc-8761-668d5c4ee9de",
   "metadata": {},
   "outputs": [],
   "source": [
    "\"abc\"\n",
    "\n",
    "\"bac\"\n",
    "\n",
    "\"cba\"  #\n",
    "\n",
    "\"cab\"\n",
    "\n",
    "\"bca\""
   ]
  },
  {
   "cell_type": "markdown",
   "id": "0510e0b3-4193-4756-a7d9-8f5f92ada1f9",
   "metadata": {},
   "source": [
    "rev(\"abc\") → rev(\"bc\") + \"a\" → rev(\"c\") + \"b\" + \"a\" → \"cba\""
   ]
  },
  {
   "cell_type": "code",
   "execution_count": null,
   "id": "d9dab9d1-e3e6-4202-bad0-81e2da275c95",
   "metadata": {},
   "outputs": [],
   "source": [
    "Что выведет код?\n",
    "\n",
    "```python\n",
    "\n",
    "\n",
    "```\n",
    "Выберите правильный вариант\n",
    "Посмотреть результаты"
   ]
  },
  {
   "cell_type": "code",
   "execution_count": null,
   "id": "ab084465-c1e1-4c02-b40a-517bed6d6903",
   "metadata": {},
   "outputs": [],
   "source": [
    "#81 18 11 25"
   ]
  },
  {
   "cell_type": "code",
   "execution_count": 7,
   "id": "7136e20b-d69e-4093-b4b5-1cdd4c6a9b50",
   "metadata": {},
   "outputs": [
    {
     "name": "stdout",
     "output_type": "stream",
     "text": [
      "4\n"
     ]
    }
   ],
   "source": [
    "def digits(n):\n",
    "    if n < 10:\n",
    "        return 1\n",
    "    return 1 + digits(n // 10)\n",
    "\n",
    "print(digits(1234))\n"
   ]
  },
  {
   "cell_type": "code",
   "execution_count": null,
   "id": "4dd94eee-be51-44d2-9431-4a9f24f76d25",
   "metadata": {},
   "outputs": [],
   "source": [
    "3\n",
    "\n",
    "4  #\n",
    "\n",
    "5\n",
    "\n",
    "1234\n",
    "\n",
    "1"
   ]
  },
  {
   "cell_type": "markdown",
   "id": "000db698-5e1c-41e8-a722-7e3f444e729e",
   "metadata": {},
   "source": [
    "1234 → 123 → 12 → 1 → конец. Всего 4 вызова → 4 цифры."
   ]
  },
  {
   "cell_type": "code",
   "execution_count": null,
   "id": "5ade1abf-645c-44c7-8a51-431870cb3d9b",
   "metadata": {},
   "outputs": [],
   "source": [
    "Что выведет код?\n",
    "\n",
    "```python\n",
    "\n",
    "\n",
    "```\n",
    "Выберите правильный вариант\n",
    "Посмотреть результаты"
   ]
  },
  {
   "cell_type": "code",
   "execution_count": null,
   "id": "df13cd80-320f-42a3-b059-b789b44ff6be",
   "metadata": {},
   "outputs": [],
   "source": [
    "#82 19 11 25"
   ]
  },
  {
   "cell_type": "code",
   "execution_count": 9,
   "id": "3ecd7fd9-c291-4af3-9d44-5c2e89b6fb15",
   "metadata": {},
   "outputs": [
    {
     "name": "stdout",
     "output_type": "stream",
     "text": [
      "15\n"
     ]
    }
   ],
   "source": [
    "def tail_sum(n, acc=0):\n",
    "    if n == 0:\n",
    "        return acc\n",
    "    return tail_sum(n - 1, acc + n)\n",
    "\n",
    "print(tail_sum(5))\n"
   ]
  },
  {
   "cell_type": "code",
   "execution_count": null,
   "id": "cc972485-77d5-4a2f-a744-417c30ef033b",
   "metadata": {},
   "outputs": [],
   "source": [
    "0\n",
    "5\n",
    "10\n",
    "15 #\n",
    "RecursionError"
   ]
  },
  {
   "cell_type": "markdown",
   "id": "d28563c5-33fc-427e-922f-3f1cef55c14e",
   "metadata": {},
   "source": [
    "acc накапливает сумму: 5+4+3+2+1+0 = 15. Это аналог хвостовой рекурсии (но Python её не оптимизирует)."
   ]
  },
  {
   "cell_type": "code",
   "execution_count": null,
   "id": "ba925c2e-7695-4630-a4cf-e70226b92c15",
   "metadata": {},
   "outputs": [],
   "source": [
    "Что выведет код?\n",
    "\n",
    "```python\n",
    "\n",
    "\n",
    "```\n",
    "Выберите правильный вариант\n",
    "Посмотреть результаты"
   ]
  },
  {
   "cell_type": "code",
   "execution_count": null,
   "id": "14184e6d-fe50-49f2-a875-b74166193692",
   "metadata": {},
   "outputs": [],
   "source": [
    "#83  20 11 25"
   ]
  },
  {
   "cell_type": "code",
   "execution_count": 11,
   "id": "23573e9d-092c-44e1-9d4d-fdb9e15fdd14",
   "metadata": {},
   "outputs": [
    {
     "name": "stdout",
     "output_type": "stream",
     "text": [
      "8\n"
     ]
    }
   ],
   "source": [
    "cache = {}\n",
    "\n",
    "def fib(n):\n",
    "    if n in cache:\n",
    "        return cache[n]\n",
    "    if n <= 1:\n",
    "        cache[n] = n\n",
    "    else:\n",
    "        cache[n] = fib(n - 1) + fib(n - 2)\n",
    "    return cache[n]\n",
    "\n",
    "print(fib(6))\n"
   ]
  },
  {
   "cell_type": "code",
   "execution_count": null,
   "id": "ae69b293-10f1-45c8-8213-7a506cca5ce8",
   "metadata": {},
   "outputs": [],
   "source": [
    "8  #\n",
    "\n",
    "13\n",
    "\n",
    "5\n",
    "\n",
    "6\n",
    "\n",
    "21"
   ]
  },
  {
   "cell_type": "markdown",
   "id": "201272a7-b479-4d69-af44-43fd14405c66",
   "metadata": {},
   "source": [
    "fib(6) = fib(5) + fib(4) = 5 + 3 = 8. Все промежуточные значения кэшируются — это и есть мемоизация."
   ]
  },
  {
   "cell_type": "code",
   "execution_count": null,
   "id": "c4a55cd5-89d3-4aa3-b84a-230e62c2a696",
   "metadata": {},
   "outputs": [],
   "source": [
    "Что выведет код?\n",
    "\n",
    "```python\n",
    "\n",
    "\n",
    "```\n",
    "Выберите правильный вариант\n",
    "Посмотреть результаты"
   ]
  },
  {
   "cell_type": "code",
   "execution_count": null,
   "id": "4b57d9b6-8b05-4daf-9eae-4c028af75274",
   "metadata": {},
   "outputs": [],
   "source": [
    "#84  21 11 25"
   ]
  },
  {
   "cell_type": "code",
   "execution_count": 13,
   "id": "1daf2dd2-176b-4981-97ca-52a759e6a7bb",
   "metadata": {},
   "outputs": [
    {
     "name": "stdout",
     "output_type": "stream",
     "text": [
      "5\n"
     ]
    }
   ],
   "source": [
    "def count_items(lst):\n",
    "    count = 0\n",
    "    for item in lst:\n",
    "        if isinstance(item, list):\n",
    "            count += count_items(item)\n",
    "        else:\n",
    "            count += 1\n",
    "    return count\n",
    "\n",
    "print(count_items([1, [2, 3], [4, [5]]]))\n"
   ]
  },
  {
   "cell_type": "code",
   "execution_count": null,
   "id": "70fff011-fcea-4583-82b6-152a2656b3a8",
   "metadata": {},
   "outputs": [],
   "source": [
    "2\n",
    "3\n",
    "4\n",
    "5  #\n",
    "6\n"
   ]
  },
  {
   "cell_type": "markdown",
   "id": "c1392fd3-ef4c-4131-a03f-6f2c2f75add2",
   "metadata": {},
   "source": [
    "Элементы: 1, 2, 3, 4, 5 → всего 5. Рекурсивно обходим каждую вложенность."
   ]
  },
  {
   "cell_type": "code",
   "execution_count": null,
   "id": "54ec6ae9-569f-4663-a09b-f0e4026dcabf",
   "metadata": {},
   "outputs": [],
   "source": [
    "Что выведет код?\n",
    "\n",
    "```python\n",
    "\n",
    "\n",
    "```\n",
    "Выберите правильный вариант\n",
    "Посмотреть результаты"
   ]
  },
  {
   "cell_type": "code",
   "execution_count": null,
   "id": "46deee51-d1af-4ae7-9b67-c2b14d10c04c",
   "metadata": {},
   "outputs": [],
   "source": [
    "#85  24 11 25"
   ]
  },
  {
   "cell_type": "code",
   "execution_count": 15,
   "id": "2a0248b2-725e-434f-a39f-cc9712a1bbb2",
   "metadata": {},
   "outputs": [
    {
     "name": "stdout",
     "output_type": "stream",
     "text": [
      "A\n",
      "B\n",
      "D\n",
      "C\n"
     ]
    }
   ],
   "source": [
    "tree = {\n",
    "    'A': ['B', 'C'],\n",
    "    'B': ['D'],\n",
    "    'C': [],\n",
    "    'D': []\n",
    "}\n",
    "\n",
    "def walk(node):\n",
    "    print(node)\n",
    "    for child in tree[node]:\n",
    "        walk(child)\n",
    "\n",
    "walk('A')\n"
   ]
  },
  {
   "cell_type": "code",
   "execution_count": null,
   "id": "15713f9b-7500-451f-b39e-617ae344aba7",
   "metadata": {},
   "outputs": [],
   "source": [
    "A C B D\n",
    "\n",
    "B D A C\n",
    "\n",
    "A B C D\n",
    "\n",
    "A D B C\n",
    "\n",
    "A B D C #"
   ]
  },
  {
   "cell_type": "code",
   "execution_count": null,
   "id": "7ced7cbd-e6c3-4bcc-8915-8e172befef8f",
   "metadata": {},
   "outputs": [],
   "source": [
    "Прямой (pre-order) обход: A → B → D → C. Рекурсия вызывает обход каждого потомка."
   ]
  },
  {
   "cell_type": "code",
   "execution_count": null,
   "id": "fb28f45e-1a18-4c28-b749-b5f30565a677",
   "metadata": {},
   "outputs": [],
   "source": [
    "Что выведет код?\n",
    "\n",
    "```python\n",
    "\n",
    "\n",
    "```\n",
    "Выберите правильный вариант\n",
    "Посмотреть результаты"
   ]
  },
  {
   "cell_type": "code",
   "execution_count": null,
   "id": "0de030a2-4a30-4f78-b1cd-91b371e2f5a9",
   "metadata": {},
   "outputs": [],
   "source": [
    "#86 25 11 25"
   ]
  },
  {
   "cell_type": "code",
   "execution_count": 17,
   "id": "525850a9-86d4-4a6e-b2c3-d2f397278f78",
   "metadata": {},
   "outputs": [
    {
     "name": "stdout",
     "output_type": "stream",
     "text": [
      "[0, 1, 2, 3]\n"
     ]
    }
   ],
   "source": [
    "def gen(n):\n",
    "    if n == 0:\n",
    "        yield 0\n",
    "    else:\n",
    "        yield from gen(n - 1)\n",
    "        yield n\n",
    "\n",
    "print(list(gen(3)))\n"
   ]
  },
  {
   "cell_type": "code",
   "execution_count": null,
   "id": "6c51b34f-f545-49f0-86af-92cef6035805",
   "metadata": {},
   "outputs": [],
   "source": [
    "[0, 1, 2, 3]  #\n",
    "\n",
    "[3, 2, 1, 0]\n",
    "\n",
    "[0, 1, 2]\n",
    "\n",
    "[1, 2, 3]"
   ]
  },
  {
   "cell_type": "markdown",
   "id": "26c299d7-b705-4da5-91fd-41b6e67eaac6",
   "metadata": {},
   "source": [
    "Генератор вызывает себя до нуля, потом возвращается вверх, выдавая значения в порядке 0 → ... → n. Это аналог рекурсивного range(n + 1)."
   ]
  },
  {
   "cell_type": "code",
   "execution_count": null,
   "id": "dc626011-519b-4957-8e8d-d09d170d16c4",
   "metadata": {},
   "outputs": [],
   "source": [
    "Что выведет код?\n",
    "\n",
    "```python\n",
    "\n",
    "\n",
    "```\n",
    "Выберите правильный вариант\n",
    "Посмотреть результаты"
   ]
  },
  {
   "cell_type": "code",
   "execution_count": null,
   "id": "e6a3b14c-f78e-49d3-9bb8-00cc000cdc28",
   "metadata": {},
   "outputs": [],
   "source": [
    "#87  26 11 25"
   ]
  },
  {
   "cell_type": "code",
   "execution_count": 19,
   "id": "36c6b583-1593-4c6a-9582-48756511761c",
   "metadata": {},
   "outputs": [
    {
     "name": "stdout",
     "output_type": "stream",
     "text": [
      "42\n"
     ]
    }
   ],
   "source": [
    "def search(d, target):\n",
    "    for k, v in d.items():\n",
    "        if k == target:\n",
    "            return v\n",
    "        if isinstance(v, dict):\n",
    "            result = search(v, target)\n",
    "            if result is not None:\n",
    "                return result\n",
    "    return None\n",
    "\n",
    "data = {'a': {'b': {'c': 42}}, 'x': 1}\n",
    "print(search(data, 'c'))\n"
   ]
  },
  {
   "cell_type": "code",
   "execution_count": null,
   "id": "fbce2af9-b318-4826-a069-633fa09f295c",
   "metadata": {},
   "outputs": [],
   "source": [
    "'c'\n",
    "\n",
    "{'c': 42}\n",
    "\n",
    "42 #\n",
    "\n",
    "None\n",
    "\n",
    "Error"
   ]
  },
  {
   "cell_type": "markdown",
   "id": "c9ff4454-9aa5-4191-afaa-6a1030c9c931",
   "metadata": {},
   "source": [
    "Функция рекурсивно обходит словари и возвращает значение по ключу 'c', который находится на глубине 3."
   ]
  },
  {
   "cell_type": "code",
   "execution_count": null,
   "id": "9e97a463-e6d1-4207-aa67-90c1be9ebcb6",
   "metadata": {},
   "outputs": [],
   "source": [
    "Что выведет код?\n",
    "\n",
    "```python\n",
    "\n",
    "\n",
    "```\n",
    "Выберите правильный вариант\n",
    "Посмотреть результаты"
   ]
  },
  {
   "cell_type": "code",
   "execution_count": null,
   "id": "6b1cf8e8-4359-4fd5-8cff-c2b772cd7082",
   "metadata": {},
   "outputs": [],
   "source": [
    "#88"
   ]
  },
  {
   "cell_type": "markdown",
   "id": "d45bbba0-edb8-42e9-8300-b7a0c7178e04",
   "metadata": {},
   "source": [
    "Какой алгоритм классификации лучше всего подходит для задачи, где данные линейно разделимы, быстро обучаются, и важна интерпретируемость?"
   ]
  },
  {
   "cell_type": "code",
   "execution_count": null,
   "id": "beafac79-f588-405f-a83c-253577e4cdc6",
   "metadata": {},
   "outputs": [],
   "source": [
    "Случайный лес\n",
    "\n",
    "Логистическая регрессия   #\n",
    "\n",
    "K ближайших соседей\n",
    "\n",
    "Градиентный бустинг\n",
    "\n",
    "Нейросеть"
   ]
  },
  {
   "cell_type": "markdown",
   "id": "e223b7f8-b71b-40cc-881a-b4b3c2496502",
   "metadata": {},
   "source": [
    "Логистическая регрессия — простой и быстрый линейный классификатор. Она хорошо подходит для линейно разделимых данных и даёт интерпретируемую модель — по коэффициентам можно понять вклад каждого признака."
   ]
  },
  {
   "cell_type": "code",
   "execution_count": null,
   "id": "39669963-26d3-47c2-bff5-45c253c3bc3c",
   "metadata": {},
   "outputs": [],
   "source": [
    "Что выведет код?\n",
    "\n",
    "```python\n",
    "\n",
    "\n",
    "```\n",
    "Выберите правильный вариант\n",
    "Посмотреть результаты"
   ]
  },
  {
   "cell_type": "code",
   "execution_count": null,
   "id": "f8ac2c0e-43d5-4fe8-96b5-d2c2120cac0c",
   "metadata": {},
   "outputs": [],
   "source": [
    "#89    28 11 25"
   ]
  },
  {
   "cell_type": "code",
   "execution_count": null,
   "id": "8ea6f2bf-d62f-4668-823c-d255a6a60350",
   "metadata": {},
   "outputs": [],
   "source": [
    "Зачем в этой модели используется StandardScaler перед классификацией?"
   ]
  },
  {
   "cell_type": "code",
   "execution_count": null,
   "id": "d232c4ab-c755-472f-b86c-4825cf293e60",
   "metadata": {},
   "outputs": [],
   "source": [
    "from sklearn.linear_model import LogisticRegression\n",
    "from sklearn.pipeline import Pipeline\n",
    "from sklearn.preprocessing import StandardScaler\n",
    "\n",
    "model = Pipeline([\n",
    "    (\"scale\", StandardScaler()),\n",
    "    (\"clf\", LogisticRegression())\n",
    "])\n"
   ]
  },
  {
   "cell_type": "code",
   "execution_count": null,
   "id": "f0820e8e-c278-4c32-82a3-01df2d7dd11f",
   "metadata": {},
   "outputs": [],
   "source": [
    "Для приведения данных к 0 и 1\n",
    "\n",
    "Чтобы логистическая регрессия могла работать с категориальными признаками\n",
    "\n",
    "Чтобы признаки были центрированы и масштабированы  #\n",
    "\n",
    "Чтобы улучшить accuracy\n",
    "\n",
    "Чтобы избежать переобучения"
   ]
  },
  {
   "cell_type": "markdown",
   "id": "2e64f549-7d25-4af6-8090-ecee7836062b",
   "metadata": {},
   "source": [
    "StandardScaler стандартизирует данные — это важно для моделей, чувствительных к масштабу (в том числе логистической регрессии с регуляризацией)."
   ]
  },
  {
   "cell_type": "code",
   "execution_count": null,
   "id": "2c9e3fa6-3858-4d13-a88f-627ab2f0cc14",
   "metadata": {},
   "outputs": [],
   "source": [
    "Что выведет код?\n",
    "\n",
    "```python\n",
    "\n",
    "\n",
    "```\n",
    "Выберите правильный вариант\n",
    "Посмотреть результаты"
   ]
  },
  {
   "cell_type": "code",
   "execution_count": null,
   "id": "49961c4b-0cd7-4e55-b866-44fa09e86bcd",
   "metadata": {},
   "outputs": [],
   "source": [
    "#90  1 12 25  !!!!"
   ]
  },
  {
   "cell_type": "code",
   "execution_count": null,
   "id": "ee97e01d-3933-4cdf-90ae-e5883da9dfc3",
   "metadata": {},
   "outputs": [],
   "source": [
    "Что возвращает и означает результат выполнения этого кода?\n",
    "\n"
   ]
  },
  {
   "cell_type": "code",
   "execution_count": 23,
   "id": "a2e2b002-dcfb-4d85-a9f1-bc5688e45432",
   "metadata": {},
   "outputs": [
    {
     "name": "stdout",
     "output_type": "stream",
     "text": [
      "0.9733333333333334\n"
     ]
    }
   ],
   "source": [
    "from sklearn.datasets import load_iris; from sklearn.linear_model import LogisticRegression\n",
    "print((lambda X, y: LogisticRegression(max_iter=200).fit(X, y).score(X, y))(*load_iris(return_X_y=True)))\n"
   ]
  },
  {
   "cell_type": "code",
   "execution_count": null,
   "id": "b6aa291f-b5fb-427f-a8a9-2133f47db524",
   "metadata": {},
   "outputs": [],
   "source": [
    "Количество правильных ответов\n",
    "\n",
    "Вероятность самого частого класса\n",
    "\n",
    "Долю правильных предсказаний (accuracy) #\n",
    "\n",
    "Значение потерь (loss)\n",
    "\n",
    "Предсказанный класс первого элемента"
   ]
  },
  {
   "cell_type": "markdown",
   "id": "0de1c452-3c74-4ba2-8013-2d4e383ac01a",
   "metadata": {},
   "source": [
    "Код обучает LogisticRegression и сразу вызывает .score(X, y) — это то же самое, что accuracy_score(y, model.predict(X)). Возвращает долю правильных ответов на обучающей выборке."
   ]
  },
  {
   "cell_type": "code",
   "execution_count": null,
   "id": "2f0cf323-6f80-4c38-aa0d-fa42977dae30",
   "metadata": {},
   "outputs": [],
   "source": [
    "#91  2 12 25"
   ]
  },
  {
   "cell_type": "code",
   "execution_count": null,
   "id": "44a316af-1237-4e0a-ba05-389d91a1f04e",
   "metadata": {},
   "outputs": [],
   "source": [
    "Что вернёт переменная probas?"
   ]
  },
  {
   "cell_type": "code",
   "execution_count": null,
   "id": "2f1645a2-f107-4380-9d50-69194fb18fe4",
   "metadata": {},
   "outputs": [],
   "source": [
    "from sklearn.linear_model import LogisticRegression\n",
    "from sklearn.datasets import load_iris\n",
    "\n",
    "X, y = load_iris(return_X_y=True)\n",
    "model = LogisticRegression(max_iter=200)\n",
    "model.fit(X, y)\n",
    "probas = model.predict_proba([X[0]])\n",
    "\n",
    "print(probas)\n"
   ]
  },
  {
   "cell_type": "code",
   "execution_count": null,
   "id": "e43cc524-8ba4-4f37-96e5-2884ed54e1c0",
   "metadata": {},
   "outputs": [],
   "source": [
    "Предсказанный класс\n",
    "\n",
    "Вероятности по каждому признаку\n",
    "\n",
    "Список коэффициентов модели\n",
    "\n",
    "Вероятности принадлежности к каждому классу  #\n",
    "\n",
    "Ошибку, так как predict_proba() не определён"
   ]
  },
  {
   "cell_type": "markdown",
   "id": "c3c88691-2d08-4eab-818e-fd5e7e2b488e",
   "metadata": {},
   "source": [
    "predict_proba() возвращает массив вероятностей для каждого класса: например, [0.9, 0.1, 0.0], если классов три. Сумма = 1."
   ]
  },
  {
   "cell_type": "code",
   "execution_count": null,
   "id": "faa91587-3870-4fe0-9d78-6673e75d54c0",
   "metadata": {},
   "outputs": [],
   "source": [
    "#92  3 12 25"
   ]
  },
  {
   "cell_type": "code",
   "execution_count": null,
   "id": "1fe33eff-979a-4bd3-9d29-9fe9fe31f42d",
   "metadata": {},
   "outputs": [],
   "source": [
    "Что покажет confusion matrix?"
   ]
  },
  {
   "cell_type": "code",
   "execution_count": null,
   "id": "2d6fb6e4-57cb-48c2-bd0d-a36f59595c45",
   "metadata": {},
   "outputs": [],
   "source": [
    "from sklearn.metrics import confusion_matrix\n",
    "\n",
    "y_true = [0, 1, 2, 2, 0]\n",
    "y_pred = [0, 2, 1, 2, 0]\n",
    "\n",
    "print(confusion_matrix(y_true, y_pred))\n"
   ]
  },
  {
   "cell_type": "code",
   "execution_count": null,
   "id": "f9ec1d6b-039e-4985-bd3a-e34bbc3f138d",
   "metadata": {},
   "outputs": [],
   "source": [
    "Только количество верных предсказаний\n",
    "\n",
    "Матрицу, показывающую ошибки между всеми классами  #\n",
    "\n",
    "Только ошибки второго класса\n",
    "\n",
    "Сумму вероятностей по классам\n",
    "\n",
    "Accuracy в табличном виде"
   ]
  },
  {
   "cell_type": "markdown",
   "id": "87ce170a-ac16-421e-a8eb-d55068c7906f",
   "metadata": {},
   "source": [
    "confusion_matrix — квадратная таблица, где строка — истинный класс, столбец — предсказанный. Она показывает, где модель ошибалась и где была точна."
   ]
  },
  {
   "cell_type": "code",
   "execution_count": null,
   "id": "d1fe7841-e62d-4b1d-a003-c3397328cce5",
   "metadata": {},
   "outputs": [],
   "source": [
    "Что выведет код?\n",
    "\n",
    "```python\n",
    "\n",
    "\n",
    "```\n",
    "Выберите правильный вариант\n",
    "Посмотреть результаты"
   ]
  },
  {
   "cell_type": "code",
   "execution_count": null,
   "id": "919a239e-2361-4473-bd87-521bb48d90dc",
   "metadata": {},
   "outputs": [],
   "source": [
    ",,,,,,,,,,,,,,,,,,,,,,,,,,,,,,,,,,,,,,,,,,,,,,,,,,,,,,,,,,,,,"
   ]
  },
  {
   "cell_type": "code",
   "execution_count": null,
   "id": "25b1db81-9206-4aac-b795-b9a83ce7a5e1",
   "metadata": {},
   "outputs": [],
   "source": [
    "#93 4 12 25"
   ]
  },
  {
   "cell_type": "code",
   "execution_count": null,
   "id": "c91eb7c5-6459-4dc3-a291-895929319d10",
   "metadata": {},
   "outputs": [],
   "source": [
    "from sklearn.linear_model import LogisticRegression\n",
    "from sklearn.datasets import load_iris\n",
    "\n",
    "X, y = load_iris(return_X_y=True)\n",
    "model = LogisticRegression(max_iter=200).fit(X, y)\n",
    "print(model.predict_proba([X[0]]))\n"
   ]
  },
  {
   "cell_type": "code",
   "execution_count": null,
   "id": "3d247ba5-f070-4fd7-a6ee-62c689d0b422",
   "metadata": {},
   "outputs": [],
   "source": [
    "Что выведет код?\n",
    "\n",
    "Список вероятностей по классам  #\n",
    "\n",
    "Вероятность только правильного класса\n",
    "\n",
    "Метку класса\n",
    "\n",
    "Ошибку"
   ]
  },
  {
   "cell_type": "code",
   "execution_count": null,
   "id": "fce9d5b1-6c29-4fbc-a831-8ce795cf2dd3",
   "metadata": {},
   "outputs": [],
   "source": [
    "predict_proba возвращает вероятности принадлежности объекта ко всем классам."
   ]
  },
  {
   "cell_type": "code",
   "execution_count": null,
   "id": "6ca4d2ee-537b-4093-bf1c-7c0d8f2310fe",
   "metadata": {},
   "outputs": [],
   "source": [
    "#94 5 12 25"
   ]
  },
  {
   "cell_type": "code",
   "execution_count": null,
   "id": "6823e963-8490-4f82-87d1-5a701184564a",
   "metadata": {},
   "outputs": [],
   "source": [
    "from sklearn.linear_model import LogisticRegression\n",
    "from sklearn.datasets import load_iris\n",
    "\n",
    "X, y = load_iris(return_X_y=True)\n",
    "model = LogisticRegression(max_iter=200).fit(X, y)\n",
    "print(model.score(X, y))\n"
   ]
  },
  {
   "cell_type": "code",
   "execution_count": null,
   "id": "39f0948c-84ff-44e6-8466-29c99c14f8c9",
   "metadata": {},
   "outputs": [],
   "source": [
    "Что возвращает .score(X, y) у классификатора?\n",
    "\n",
    "f1-score\n",
    "\n",
    "Accuracy  #\n",
    "\n",
    "log loss\n",
    "\n",
    "confusion matrix\n",
    "\n",
    "ROC-AUC"
   ]
  },
  {
   "cell_type": "code",
   "execution_count": null,
   "id": "13da650f-127c-42e2-8ea4-5bc469522607",
   "metadata": {},
   "outputs": [],
   "source": [
    "Метод .score() по умолчанию возвращает долю правильных ответов (accuracy) для классификаторов.\n",
    "\n"
   ]
  },
  {
   "cell_type": "code",
   "execution_count": null,
   "id": "6ec017de-14b7-4112-b9bb-6612c747d51a",
   "metadata": {},
   "outputs": [],
   "source": [
    "Что выведет код?\n",
    "\n",
    "```python\n",
    "\n",
    "\n",
    "```\n",
    "Выберите правильный вариант\n",
    "Посмотреть результаты"
   ]
  },
  {
   "cell_type": "code",
   "execution_count": null,
   "id": "c4051f87-bc98-4c6e-a0aa-7cbcea6c0800",
   "metadata": {},
   "outputs": [],
   "source": [
    "#95 8 12 25"
   ]
  },
  {
   "cell_type": "code",
   "execution_count": 1,
   "id": "2fd983d2-be98-4e71-9c5f-8a10f653be63",
   "metadata": {},
   "outputs": [
    {
     "name": "stdout",
     "output_type": "stream",
     "text": [
      "              precision    recall  f1-score   support\n",
      "\n",
      "           0       0.67      1.00      0.80         2\n",
      "           1       1.00      0.50      0.67         2\n",
      "\n",
      "    accuracy                           0.75         4\n",
      "   macro avg       0.83      0.75      0.73         4\n",
      "weighted avg       0.83      0.75      0.73         4\n",
      "\n"
     ]
    }
   ],
   "source": [
    "from sklearn.metrics import classification_report\n",
    "y_true = [0, 1, 1, 0]\n",
    "y_pred = [0, 1, 0, 0]\n",
    "print(classification_report(y_true, y_pred))\n"
   ]
  },
  {
   "cell_type": "code",
   "execution_count": null,
   "id": "142efbdb-178c-4524-9448-30336a2232b1",
   "metadata": {},
   "outputs": [],
   "source": [
    "Что выведет функция classification_report()?\n",
    "\n",
    "confusion matrix\n",
    "\n",
    "логарифмическую ошибку\n",
    "\n",
    "метрики precision, recall, f1-score, support  #\n",
    "\n",
    "только точность\n",
    "\n",
    "accuracy на обучении\n",
    "\n"
   ]
  },
  {
   "cell_type": "code",
   "execution_count": null,
   "id": "739a6869-7bc1-4983-a3cf-d2444dc067a4",
   "metadata": {},
   "outputs": [],
   "source": [
    "classification_report даёт подробную статистику по каждому классу: точность, полноту, f1 и поддержку (support)."
   ]
  },
  {
   "cell_type": "code",
   "execution_count": null,
   "id": "2b1ca956-9fdf-4faa-b6c5-26dc3805514c",
   "metadata": {},
   "outputs": [],
   "source": [
    "Что выведет код?\n",
    "\n",
    "```python\n",
    "\n",
    "\n",
    "```\n",
    "Выберите правильный вариант\n",
    "Посмотреть результаты"
   ]
  },
  {
   "cell_type": "code",
   "execution_count": null,
   "id": "dab3c805-6a0b-49dc-81a0-33eab879989a",
   "metadata": {},
   "outputs": [],
   "source": [
    "#96 9 12 25"
   ]
  },
  {
   "cell_type": "code",
   "execution_count": 3,
   "id": "4adcdf27-7e8f-4ccc-a6fe-bfdc2213154e",
   "metadata": {},
   "outputs": [
    {
     "name": "stdout",
     "output_type": "stream",
     "text": [
      "[0]\n"
     ]
    }
   ],
   "source": [
    "from sklearn.linear_model import LogisticRegression\n",
    "from sklearn.datasets import load_iris\n",
    "\n",
    "X, y = load_iris(return_X_y=True)\n",
    "model = LogisticRegression(max_iter=200).fit(X, y)\n",
    "print(model.predict([X[0]]))\n"
   ]
  },
  {
   "cell_type": "code",
   "execution_count": null,
   "id": "350035d4-083e-421e-a455-1d6e6e2bc0c3",
   "metadata": {},
   "outputs": [],
   "source": [
    "Что выведет model.predict([X[0]])?\n",
    "\n",
    "Список вероятностей\n",
    "\n",
    "Один класс (метку)  #\n",
    "\n",
    "Один признак\n",
    "\n",
    "Коэффициенты\n",
    "\n",
    "One-hot вектор"
   ]
  },
  {
   "cell_type": "code",
   "execution_count": null,
   "id": "3b5709a9-0fb7-4844-98d9-49f587e52d2f",
   "metadata": {},
   "outputs": [],
   "source": [
    "predict() выдаёт предсказанную метку класса, а не вероятность. Для вероятностей — predict_proba.\n",
    "\n"
   ]
  },
  {
   "cell_type": "code",
   "execution_count": null,
   "id": "b6158be0-76b5-4cb5-989d-c5b4ce31c3cd",
   "metadata": {},
   "outputs": [],
   "source": [
    "Что выведет код?\n",
    "\n",
    "```python\n",
    "\n",
    "\n",
    "```\n",
    "Выберите правильный вариант\n",
    "Посмотреть результаты"
   ]
  },
  {
   "cell_type": "code",
   "execution_count": null,
   "id": "9cc80ef8-971a-42cf-ad0a-5428e9e99761",
   "metadata": {},
   "outputs": [],
   "source": [
    "#97 10 12 25"
   ]
  },
  {
   "cell_type": "code",
   "execution_count": 5,
   "id": "9ddddef8-64ff-4723-95f4-32b7dc3599ca",
   "metadata": {},
   "outputs": [
    {
     "name": "stderr",
     "output_type": "stream",
     "text": [
      "C:\\ProgramData\\anaconda3\\Lib\\site-packages\\sklearn\\cluster\\_kmeans.py:1429: UserWarning: KMeans is known to have a memory leak on Windows with MKL, when there are less chunks than available threads. You can avoid it by setting the environment variable OMP_NUM_THREADS=1.\n",
      "  warnings.warn(\n"
     ]
    },
    {
     "data": {
      "text/html": [
       "<style>#sk-container-id-1 {\n",
       "  /* Definition of color scheme common for light and dark mode */\n",
       "  --sklearn-color-text: black;\n",
       "  --sklearn-color-line: gray;\n",
       "  /* Definition of color scheme for unfitted estimators */\n",
       "  --sklearn-color-unfitted-level-0: #fff5e6;\n",
       "  --sklearn-color-unfitted-level-1: #f6e4d2;\n",
       "  --sklearn-color-unfitted-level-2: #ffe0b3;\n",
       "  --sklearn-color-unfitted-level-3: chocolate;\n",
       "  /* Definition of color scheme for fitted estimators */\n",
       "  --sklearn-color-fitted-level-0: #f0f8ff;\n",
       "  --sklearn-color-fitted-level-1: #d4ebff;\n",
       "  --sklearn-color-fitted-level-2: #b3dbfd;\n",
       "  --sklearn-color-fitted-level-3: cornflowerblue;\n",
       "\n",
       "  /* Specific color for light theme */\n",
       "  --sklearn-color-text-on-default-background: var(--sg-text-color, var(--theme-code-foreground, var(--jp-content-font-color1, black)));\n",
       "  --sklearn-color-background: var(--sg-background-color, var(--theme-background, var(--jp-layout-color0, white)));\n",
       "  --sklearn-color-border-box: var(--sg-text-color, var(--theme-code-foreground, var(--jp-content-font-color1, black)));\n",
       "  --sklearn-color-icon: #696969;\n",
       "\n",
       "  @media (prefers-color-scheme: dark) {\n",
       "    /* Redefinition of color scheme for dark theme */\n",
       "    --sklearn-color-text-on-default-background: var(--sg-text-color, var(--theme-code-foreground, var(--jp-content-font-color1, white)));\n",
       "    --sklearn-color-background: var(--sg-background-color, var(--theme-background, var(--jp-layout-color0, #111)));\n",
       "    --sklearn-color-border-box: var(--sg-text-color, var(--theme-code-foreground, var(--jp-content-font-color1, white)));\n",
       "    --sklearn-color-icon: #878787;\n",
       "  }\n",
       "}\n",
       "\n",
       "#sk-container-id-1 {\n",
       "  color: var(--sklearn-color-text);\n",
       "}\n",
       "\n",
       "#sk-container-id-1 pre {\n",
       "  padding: 0;\n",
       "}\n",
       "\n",
       "#sk-container-id-1 input.sk-hidden--visually {\n",
       "  border: 0;\n",
       "  clip: rect(1px 1px 1px 1px);\n",
       "  clip: rect(1px, 1px, 1px, 1px);\n",
       "  height: 1px;\n",
       "  margin: -1px;\n",
       "  overflow: hidden;\n",
       "  padding: 0;\n",
       "  position: absolute;\n",
       "  width: 1px;\n",
       "}\n",
       "\n",
       "#sk-container-id-1 div.sk-dashed-wrapped {\n",
       "  border: 1px dashed var(--sklearn-color-line);\n",
       "  margin: 0 0.4em 0.5em 0.4em;\n",
       "  box-sizing: border-box;\n",
       "  padding-bottom: 0.4em;\n",
       "  background-color: var(--sklearn-color-background);\n",
       "}\n",
       "\n",
       "#sk-container-id-1 div.sk-container {\n",
       "  /* jupyter's `normalize.less` sets `[hidden] { display: none; }`\n",
       "     but bootstrap.min.css set `[hidden] { display: none !important; }`\n",
       "     so we also need the `!important` here to be able to override the\n",
       "     default hidden behavior on the sphinx rendered scikit-learn.org.\n",
       "     See: https://github.com/scikit-learn/scikit-learn/issues/21755 */\n",
       "  display: inline-block !important;\n",
       "  position: relative;\n",
       "}\n",
       "\n",
       "#sk-container-id-1 div.sk-text-repr-fallback {\n",
       "  display: none;\n",
       "}\n",
       "\n",
       "div.sk-parallel-item,\n",
       "div.sk-serial,\n",
       "div.sk-item {\n",
       "  /* draw centered vertical line to link estimators */\n",
       "  background-image: linear-gradient(var(--sklearn-color-text-on-default-background), var(--sklearn-color-text-on-default-background));\n",
       "  background-size: 2px 100%;\n",
       "  background-repeat: no-repeat;\n",
       "  background-position: center center;\n",
       "}\n",
       "\n",
       "/* Parallel-specific style estimator block */\n",
       "\n",
       "#sk-container-id-1 div.sk-parallel-item::after {\n",
       "  content: \"\";\n",
       "  width: 100%;\n",
       "  border-bottom: 2px solid var(--sklearn-color-text-on-default-background);\n",
       "  flex-grow: 1;\n",
       "}\n",
       "\n",
       "#sk-container-id-1 div.sk-parallel {\n",
       "  display: flex;\n",
       "  align-items: stretch;\n",
       "  justify-content: center;\n",
       "  background-color: var(--sklearn-color-background);\n",
       "  position: relative;\n",
       "}\n",
       "\n",
       "#sk-container-id-1 div.sk-parallel-item {\n",
       "  display: flex;\n",
       "  flex-direction: column;\n",
       "}\n",
       "\n",
       "#sk-container-id-1 div.sk-parallel-item:first-child::after {\n",
       "  align-self: flex-end;\n",
       "  width: 50%;\n",
       "}\n",
       "\n",
       "#sk-container-id-1 div.sk-parallel-item:last-child::after {\n",
       "  align-self: flex-start;\n",
       "  width: 50%;\n",
       "}\n",
       "\n",
       "#sk-container-id-1 div.sk-parallel-item:only-child::after {\n",
       "  width: 0;\n",
       "}\n",
       "\n",
       "/* Serial-specific style estimator block */\n",
       "\n",
       "#sk-container-id-1 div.sk-serial {\n",
       "  display: flex;\n",
       "  flex-direction: column;\n",
       "  align-items: center;\n",
       "  background-color: var(--sklearn-color-background);\n",
       "  padding-right: 1em;\n",
       "  padding-left: 1em;\n",
       "}\n",
       "\n",
       "\n",
       "/* Toggleable style: style used for estimator/Pipeline/ColumnTransformer box that is\n",
       "clickable and can be expanded/collapsed.\n",
       "- Pipeline and ColumnTransformer use this feature and define the default style\n",
       "- Estimators will overwrite some part of the style using the `sk-estimator` class\n",
       "*/\n",
       "\n",
       "/* Pipeline and ColumnTransformer style (default) */\n",
       "\n",
       "#sk-container-id-1 div.sk-toggleable {\n",
       "  /* Default theme specific background. It is overwritten whether we have a\n",
       "  specific estimator or a Pipeline/ColumnTransformer */\n",
       "  background-color: var(--sklearn-color-background);\n",
       "}\n",
       "\n",
       "/* Toggleable label */\n",
       "#sk-container-id-1 label.sk-toggleable__label {\n",
       "  cursor: pointer;\n",
       "  display: block;\n",
       "  width: 100%;\n",
       "  margin-bottom: 0;\n",
       "  padding: 0.5em;\n",
       "  box-sizing: border-box;\n",
       "  text-align: center;\n",
       "}\n",
       "\n",
       "#sk-container-id-1 label.sk-toggleable__label-arrow:before {\n",
       "  /* Arrow on the left of the label */\n",
       "  content: \"▸\";\n",
       "  float: left;\n",
       "  margin-right: 0.25em;\n",
       "  color: var(--sklearn-color-icon);\n",
       "}\n",
       "\n",
       "#sk-container-id-1 label.sk-toggleable__label-arrow:hover:before {\n",
       "  color: var(--sklearn-color-text);\n",
       "}\n",
       "\n",
       "/* Toggleable content - dropdown */\n",
       "\n",
       "#sk-container-id-1 div.sk-toggleable__content {\n",
       "  max-height: 0;\n",
       "  max-width: 0;\n",
       "  overflow: hidden;\n",
       "  text-align: left;\n",
       "  /* unfitted */\n",
       "  background-color: var(--sklearn-color-unfitted-level-0);\n",
       "}\n",
       "\n",
       "#sk-container-id-1 div.sk-toggleable__content.fitted {\n",
       "  /* fitted */\n",
       "  background-color: var(--sklearn-color-fitted-level-0);\n",
       "}\n",
       "\n",
       "#sk-container-id-1 div.sk-toggleable__content pre {\n",
       "  margin: 0.2em;\n",
       "  border-radius: 0.25em;\n",
       "  color: var(--sklearn-color-text);\n",
       "  /* unfitted */\n",
       "  background-color: var(--sklearn-color-unfitted-level-0);\n",
       "}\n",
       "\n",
       "#sk-container-id-1 div.sk-toggleable__content.fitted pre {\n",
       "  /* unfitted */\n",
       "  background-color: var(--sklearn-color-fitted-level-0);\n",
       "}\n",
       "\n",
       "#sk-container-id-1 input.sk-toggleable__control:checked~div.sk-toggleable__content {\n",
       "  /* Expand drop-down */\n",
       "  max-height: 200px;\n",
       "  max-width: 100%;\n",
       "  overflow: auto;\n",
       "}\n",
       "\n",
       "#sk-container-id-1 input.sk-toggleable__control:checked~label.sk-toggleable__label-arrow:before {\n",
       "  content: \"▾\";\n",
       "}\n",
       "\n",
       "/* Pipeline/ColumnTransformer-specific style */\n",
       "\n",
       "#sk-container-id-1 div.sk-label input.sk-toggleable__control:checked~label.sk-toggleable__label {\n",
       "  color: var(--sklearn-color-text);\n",
       "  background-color: var(--sklearn-color-unfitted-level-2);\n",
       "}\n",
       "\n",
       "#sk-container-id-1 div.sk-label.fitted input.sk-toggleable__control:checked~label.sk-toggleable__label {\n",
       "  background-color: var(--sklearn-color-fitted-level-2);\n",
       "}\n",
       "\n",
       "/* Estimator-specific style */\n",
       "\n",
       "/* Colorize estimator box */\n",
       "#sk-container-id-1 div.sk-estimator input.sk-toggleable__control:checked~label.sk-toggleable__label {\n",
       "  /* unfitted */\n",
       "  background-color: var(--sklearn-color-unfitted-level-2);\n",
       "}\n",
       "\n",
       "#sk-container-id-1 div.sk-estimator.fitted input.sk-toggleable__control:checked~label.sk-toggleable__label {\n",
       "  /* fitted */\n",
       "  background-color: var(--sklearn-color-fitted-level-2);\n",
       "}\n",
       "\n",
       "#sk-container-id-1 div.sk-label label.sk-toggleable__label,\n",
       "#sk-container-id-1 div.sk-label label {\n",
       "  /* The background is the default theme color */\n",
       "  color: var(--sklearn-color-text-on-default-background);\n",
       "}\n",
       "\n",
       "/* On hover, darken the color of the background */\n",
       "#sk-container-id-1 div.sk-label:hover label.sk-toggleable__label {\n",
       "  color: var(--sklearn-color-text);\n",
       "  background-color: var(--sklearn-color-unfitted-level-2);\n",
       "}\n",
       "\n",
       "/* Label box, darken color on hover, fitted */\n",
       "#sk-container-id-1 div.sk-label.fitted:hover label.sk-toggleable__label.fitted {\n",
       "  color: var(--sklearn-color-text);\n",
       "  background-color: var(--sklearn-color-fitted-level-2);\n",
       "}\n",
       "\n",
       "/* Estimator label */\n",
       "\n",
       "#sk-container-id-1 div.sk-label label {\n",
       "  font-family: monospace;\n",
       "  font-weight: bold;\n",
       "  display: inline-block;\n",
       "  line-height: 1.2em;\n",
       "}\n",
       "\n",
       "#sk-container-id-1 div.sk-label-container {\n",
       "  text-align: center;\n",
       "}\n",
       "\n",
       "/* Estimator-specific */\n",
       "#sk-container-id-1 div.sk-estimator {\n",
       "  font-family: monospace;\n",
       "  border: 1px dotted var(--sklearn-color-border-box);\n",
       "  border-radius: 0.25em;\n",
       "  box-sizing: border-box;\n",
       "  margin-bottom: 0.5em;\n",
       "  /* unfitted */\n",
       "  background-color: var(--sklearn-color-unfitted-level-0);\n",
       "}\n",
       "\n",
       "#sk-container-id-1 div.sk-estimator.fitted {\n",
       "  /* fitted */\n",
       "  background-color: var(--sklearn-color-fitted-level-0);\n",
       "}\n",
       "\n",
       "/* on hover */\n",
       "#sk-container-id-1 div.sk-estimator:hover {\n",
       "  /* unfitted */\n",
       "  background-color: var(--sklearn-color-unfitted-level-2);\n",
       "}\n",
       "\n",
       "#sk-container-id-1 div.sk-estimator.fitted:hover {\n",
       "  /* fitted */\n",
       "  background-color: var(--sklearn-color-fitted-level-2);\n",
       "}\n",
       "\n",
       "/* Specification for estimator info (e.g. \"i\" and \"?\") */\n",
       "\n",
       "/* Common style for \"i\" and \"?\" */\n",
       "\n",
       ".sk-estimator-doc-link,\n",
       "a:link.sk-estimator-doc-link,\n",
       "a:visited.sk-estimator-doc-link {\n",
       "  float: right;\n",
       "  font-size: smaller;\n",
       "  line-height: 1em;\n",
       "  font-family: monospace;\n",
       "  background-color: var(--sklearn-color-background);\n",
       "  border-radius: 1em;\n",
       "  height: 1em;\n",
       "  width: 1em;\n",
       "  text-decoration: none !important;\n",
       "  margin-left: 1ex;\n",
       "  /* unfitted */\n",
       "  border: var(--sklearn-color-unfitted-level-1) 1pt solid;\n",
       "  color: var(--sklearn-color-unfitted-level-1);\n",
       "}\n",
       "\n",
       ".sk-estimator-doc-link.fitted,\n",
       "a:link.sk-estimator-doc-link.fitted,\n",
       "a:visited.sk-estimator-doc-link.fitted {\n",
       "  /* fitted */\n",
       "  border: var(--sklearn-color-fitted-level-1) 1pt solid;\n",
       "  color: var(--sklearn-color-fitted-level-1);\n",
       "}\n",
       "\n",
       "/* On hover */\n",
       "div.sk-estimator:hover .sk-estimator-doc-link:hover,\n",
       ".sk-estimator-doc-link:hover,\n",
       "div.sk-label-container:hover .sk-estimator-doc-link:hover,\n",
       ".sk-estimator-doc-link:hover {\n",
       "  /* unfitted */\n",
       "  background-color: var(--sklearn-color-unfitted-level-3);\n",
       "  color: var(--sklearn-color-background);\n",
       "  text-decoration: none;\n",
       "}\n",
       "\n",
       "div.sk-estimator.fitted:hover .sk-estimator-doc-link.fitted:hover,\n",
       ".sk-estimator-doc-link.fitted:hover,\n",
       "div.sk-label-container:hover .sk-estimator-doc-link.fitted:hover,\n",
       ".sk-estimator-doc-link.fitted:hover {\n",
       "  /* fitted */\n",
       "  background-color: var(--sklearn-color-fitted-level-3);\n",
       "  color: var(--sklearn-color-background);\n",
       "  text-decoration: none;\n",
       "}\n",
       "\n",
       "/* Span, style for the box shown on hovering the info icon */\n",
       ".sk-estimator-doc-link span {\n",
       "  display: none;\n",
       "  z-index: 9999;\n",
       "  position: relative;\n",
       "  font-weight: normal;\n",
       "  right: .2ex;\n",
       "  padding: .5ex;\n",
       "  margin: .5ex;\n",
       "  width: min-content;\n",
       "  min-width: 20ex;\n",
       "  max-width: 50ex;\n",
       "  color: var(--sklearn-color-text);\n",
       "  box-shadow: 2pt 2pt 4pt #999;\n",
       "  /* unfitted */\n",
       "  background: var(--sklearn-color-unfitted-level-0);\n",
       "  border: .5pt solid var(--sklearn-color-unfitted-level-3);\n",
       "}\n",
       "\n",
       ".sk-estimator-doc-link.fitted span {\n",
       "  /* fitted */\n",
       "  background: var(--sklearn-color-fitted-level-0);\n",
       "  border: var(--sklearn-color-fitted-level-3);\n",
       "}\n",
       "\n",
       ".sk-estimator-doc-link:hover span {\n",
       "  display: block;\n",
       "}\n",
       "\n",
       "/* \"?\"-specific style due to the `<a>` HTML tag */\n",
       "\n",
       "#sk-container-id-1 a.estimator_doc_link {\n",
       "  float: right;\n",
       "  font-size: 1rem;\n",
       "  line-height: 1em;\n",
       "  font-family: monospace;\n",
       "  background-color: var(--sklearn-color-background);\n",
       "  border-radius: 1rem;\n",
       "  height: 1rem;\n",
       "  width: 1rem;\n",
       "  text-decoration: none;\n",
       "  /* unfitted */\n",
       "  color: var(--sklearn-color-unfitted-level-1);\n",
       "  border: var(--sklearn-color-unfitted-level-1) 1pt solid;\n",
       "}\n",
       "\n",
       "#sk-container-id-1 a.estimator_doc_link.fitted {\n",
       "  /* fitted */\n",
       "  border: var(--sklearn-color-fitted-level-1) 1pt solid;\n",
       "  color: var(--sklearn-color-fitted-level-1);\n",
       "}\n",
       "\n",
       "/* On hover */\n",
       "#sk-container-id-1 a.estimator_doc_link:hover {\n",
       "  /* unfitted */\n",
       "  background-color: var(--sklearn-color-unfitted-level-3);\n",
       "  color: var(--sklearn-color-background);\n",
       "  text-decoration: none;\n",
       "}\n",
       "\n",
       "#sk-container-id-1 a.estimator_doc_link.fitted:hover {\n",
       "  /* fitted */\n",
       "  background-color: var(--sklearn-color-fitted-level-3);\n",
       "}\n",
       "</style><div id=\"sk-container-id-1\" class=\"sk-top-container\"><div class=\"sk-text-repr-fallback\"><pre>KMeans(n_clusters=2)</pre><b>In a Jupyter environment, please rerun this cell to show the HTML representation or trust the notebook. <br />On GitHub, the HTML representation is unable to render, please try loading this page with nbviewer.org.</b></div><div class=\"sk-container\" hidden><div class=\"sk-item\"><div class=\"sk-estimator fitted sk-toggleable\"><input class=\"sk-toggleable__control sk-hidden--visually\" id=\"sk-estimator-id-1\" type=\"checkbox\" checked><label for=\"sk-estimator-id-1\" class=\"sk-toggleable__label fitted sk-toggleable__label-arrow fitted\">&nbsp;&nbsp;KMeans<a class=\"sk-estimator-doc-link fitted\" rel=\"noreferrer\" target=\"_blank\" href=\"https://scikit-learn.org/1.5/modules/generated/sklearn.cluster.KMeans.html\">?<span>Documentation for KMeans</span></a><span class=\"sk-estimator-doc-link fitted\">i<span>Fitted</span></span></label><div class=\"sk-toggleable__content fitted\"><pre>KMeans(n_clusters=2)</pre></div> </div></div></div></div>"
      ],
      "text/plain": [
       "KMeans(n_clusters=2)"
      ]
     },
     "execution_count": 5,
     "metadata": {},
     "output_type": "execute_result"
    }
   ],
   "source": [
    "from sklearn.cluster import KMeans\n",
    "import numpy as np\n",
    "\n",
    "X = np.array([[1, 10], [2, 20], [100, 9000]])\n",
    "KMeans(n_clusters=2).fit(X)\n"
   ]
  },
  {
   "cell_type": "code",
   "execution_count": null,
   "id": "0b217faa-1181-4225-9f28-a6f23a5178a5",
   "metadata": {},
   "outputs": [],
   "source": [
    "Что может быть проблемой?\n",
    "\n",
    "Влияет масштаб признаков  #\n",
    "\n",
    "Слишком мало кластеров\n",
    "\n",
    "KMeans не работает с int\n",
    "\n",
    "Ошибка из-за размера данных\n",
    "\n",
    "Метод не определён"
   ]
  },
  {
   "cell_type": "code",
   "execution_count": null,
   "id": "99771d04-496b-4c23-8ed0-e06291020dae",
   "metadata": {},
   "outputs": [],
   "source": [
    "Признак 9000 доминирует над 1–2. Без стандартизации KMeans создаёт искажённые кластеры."
   ]
  },
  {
   "cell_type": "code",
   "execution_count": null,
   "id": "7a6cdb63-45ef-408e-82a0-cd81aa6cd440",
   "metadata": {},
   "outputs": [],
   "source": [
    "#98"
   ]
  },
  {
   "cell_type": "code",
   "execution_count": null,
   "id": "5ec89a21-4c7e-4991-add5-6e29dcd1c5f3",
   "metadata": {},
   "outputs": [],
   "source": [
    "Что измеряет silhouette_score?"
   ]
  },
  {
   "cell_type": "code",
   "execution_count": 7,
   "id": "f98ccc83-981b-4818-aff3-0ac9eef032fb",
   "metadata": {},
   "outputs": [
    {
     "name": "stdout",
     "output_type": "stream",
     "text": [
      "0.5535972238937112\n"
     ]
    },
    {
     "name": "stderr",
     "output_type": "stream",
     "text": [
      "C:\\ProgramData\\anaconda3\\Lib\\site-packages\\sklearn\\cluster\\_kmeans.py:1429: UserWarning: KMeans is known to have a memory leak on Windows with MKL, when there are less chunks than available threads. You can avoid it by setting the environment variable OMP_NUM_THREADS=1.\n",
      "  warnings.warn(\n"
     ]
    }
   ],
   "source": [
    "from sklearn.datasets import make_blobs\n",
    "from sklearn.cluster import KMeans\n",
    "from sklearn.metrics import silhouette_score\n",
    "\n",
    "X, _ = make_blobs(n_samples=100, centers=3)\n",
    "print(silhouette_score(X, KMeans(3).fit(X).labels_))\n"
   ]
  },
  {
   "cell_type": "code",
   "execution_count": null,
   "id": "de99e79e-03ac-4d38-ab01-931911063360",
   "metadata": {},
   "outputs": [],
   "source": [
    "from sklearn.datasets import make_blobs\n",
    "from sklearn.cluster import KMeans\n",
    "from sklearn.metrics import silhouette_score\n",
    "\n",
    "X = make_blobs(n_samples=100, centers=3)[0]\n",
    "print(silhouette_score(X, KMeans(3).fit(X).labels_))\n"
   ]
  },
  {
   "cell_type": "code",
   "execution_count": null,
   "id": "f0185d4f-d460-4327-8f74-18fb40ad66ad",
   "metadata": {},
   "outputs": [],
   "source": [
    "Качество кластеров  #\n",
    "\n",
    "Точность\n",
    "\n",
    "Кол-во центров\n",
    "\n",
    "Скорость обучения\n",
    "\n",
    "Ошибку модели"
   ]
  },
  {
   "cell_type": "code",
   "execution_count": null,
   "id": "b9c3536f-e46a-416a-9042-7d65369aad76",
   "metadata": {},
   "outputs": [],
   "source": [
    "Показывает, насколько кластеры разделены и плотны. Ближе к 1 — лучше."
   ]
  },
  {
   "cell_type": "code",
   "execution_count": null,
   "id": "c71b4c5d-8396-462a-96d2-ac1356539540",
   "metadata": {},
   "outputs": [],
   "source": [
    "Что выведет код?\n",
    "\n",
    "```python\n",
    "\n",
    "\n",
    "```\n",
    "Выберите правильный вариант\n",
    "Посмотреть результаты"
   ]
  },
  {
   "cell_type": "code",
   "execution_count": null,
   "id": "98003631-8723-4566-a530-f7d4acc676d4",
   "metadata": {},
   "outputs": [],
   "source": [
    "#99 11 12 25"
   ]
  },
  {
   "cell_type": "code",
   "execution_count": 9,
   "id": "6bde7e07-0894-4ada-98dc-3289637eec00",
   "metadata": {},
   "outputs": [
    {
     "name": "stdout",
     "output_type": "stream",
     "text": [
      "(100, 2)\n"
     ]
    }
   ],
   "source": [
    "from sklearn.decomposition import PCA\n",
    "import numpy as np\n",
    "\n",
    "X = np.random.rand(100, 5)\n",
    "X_pca = PCA(n_components=2).fit_transform(X)\n",
    "print(X_pca.shape)\n"
   ]
  },
  {
   "cell_type": "code",
   "execution_count": null,
   "id": "0a9ecfa9-7e55-4591-881d-12c24c380ad2",
   "metadata": {},
   "outputs": [],
   "source": [
    "Что выведет print?\n",
    "\n",
    "(100, 2)  #\n",
    "\n",
    "(2, 100)\n",
    "\n",
    "(5, 2)\n",
    "\n",
    "(100, 5)\n",
    "\n",
    "Ошибка"
   ]
  },
  {
   "cell_type": "code",
   "execution_count": null,
   "id": "ca68dc96-15df-4ffb-a64f-52d88761541d",
   "metadata": {},
   "outputs": [],
   "source": [
    "PCA сжимает из 5 признаков до 2. Осталось 100 строк (наблюдений), но только 2 признака."
   ]
  },
  {
   "cell_type": "code",
   "execution_count": null,
   "id": "861eb28f-c12b-43d4-b3c2-0a28392dc4db",
   "metadata": {},
   "outputs": [],
   "source": [
    "Что выведет код?\n",
    "\n",
    "```python\n",
    "\n",
    "\n",
    "```\n",
    "Выберите правильный вариант\n",
    "Посмотреть результаты"
   ]
  },
  {
   "cell_type": "code",
   "execution_count": null,
   "id": "e1a34950-2df0-426c-9a68-c1e9f3534a2c",
   "metadata": {},
   "outputs": [],
   "source": [
    "#100 12 12 25"
   ]
  },
  {
   "cell_type": "code",
   "execution_count": 11,
   "id": "217d0250-e7e0-4c21-baa4-10ec6a54a256",
   "metadata": {},
   "outputs": [],
   "source": [
    "from sklearn.manifold import TSNE\n",
    "import numpy as np\n",
    "\n",
    "X = np.random.rand(200, 10)\n",
    "X_emb = TSNE(n_components=2).fit_transform(X)\n"
   ]
  },
  {
   "cell_type": "code",
   "execution_count": null,
   "id": "be710358-44d7-4d38-8917-a3b57f0794ad",
   "metadata": {},
   "outputs": [],
   "source": [
    "Для чего используется t-SNE?\n",
    "\n",
    "Снижение размерности для визуализации  #\n",
    "\n",
    "Повышение точности модели\n",
    "\n",
    "Заполнение пропусков\n",
    "\n",
    "Выбор числа кластеров\n",
    "\n",
    "Балансировка классов"
   ]
  },
  {
   "cell_type": "code",
   "execution_count": null,
   "id": "9c801a01-cf29-461a-86b3-1e4991a429c7",
   "metadata": {},
   "outputs": [],
   "source": [
    "t-SNE переводит высокоразмерные данные в 2D или 3D для графиков"
   ]
  },
  {
   "cell_type": "code",
   "execution_count": null,
   "id": "a522226f-1a8a-4955-b1b0-3af00c9d7359",
   "metadata": {},
   "outputs": [],
   "source": [
    "Что выведет код?\n",
    "\n",
    "```python\n",
    "\n",
    "\n",
    "```\n",
    "Выберите правильный вариант\n",
    "Посмотреть результаты"
   ]
  },
  {
   "cell_type": "code",
   "execution_count": null,
   "id": "6390bd2f-2281-4430-9a8c-d340987f3c67",
   "metadata": {},
   "outputs": [],
   "source": [
    "#101"
   ]
  },
  {
   "cell_type": "code",
   "execution_count": null,
   "id": "8bd1d857-d159-4061-9fe5-ea1b37ff4183",
   "metadata": {},
   "outputs": [],
   "source": [
    "from sklearn.neighbors import KNeighborsClassifier\n",
    "model = KNeighborsClassifier(n_neighbors=1)\n"
   ]
  },
  {
   "cell_type": "code",
   "execution_count": null,
   "id": "727298ae-e8ad-4cb1-9f03-d5f89875c3ce",
   "metadata": {},
   "outputs": [],
   "source": [
    "Что означает n_neighbors=1?\n",
    "Модель выбирает один случайный сосед\n",
    "\n",
    "Будет всегда возвращать класс \"1\"\n",
    "\n",
    "Класс определяется по ближайшей одной точке  #\n",
    "\n",
    "Нельзя обучить модель с одним соседом\n",
    "\n",
    "Это означает логистическую регрессию"
   ]
  },
  {
   "cell_type": "code",
   "execution_count": null,
   "id": "6a963e92-050d-4db2-b3a5-2d365cb896a4",
   "metadata": {},
   "outputs": [],
   "source": [
    "Если n_neighbors=1, то KNN просто выбирает класс одного ближайшего соседа (по умолчанию — по евклидовой метрике)"
   ]
  },
  {
   "cell_type": "code",
   "execution_count": null,
   "id": "8cd85bc4-b20c-44a4-941e-6199b2abfca5",
   "metadata": {},
   "outputs": [],
   "source": [
    "Что выведет код?\n",
    "\n",
    "```python\n",
    "\n",
    "\n",
    "```\n",
    "Выберите правильный вариант\n",
    "Посмотреть результаты"
   ]
  },
  {
   "cell_type": "code",
   "execution_count": null,
   "id": "4bad0241-8bcf-41e9-809c-b03911b8e1b2",
   "metadata": {},
   "outputs": [],
   "source": [
    "................................................."
   ]
  },
  {
   "cell_type": "code",
   "execution_count": 1,
   "id": "7bed915e-d08e-4944-8c9a-20209a22f344",
   "metadata": {},
   "outputs": [],
   "source": [
    "###Numpy"
   ]
  },
  {
   "cell_type": "code",
   "execution_count": null,
   "id": "59e63587-9717-4451-ba57-bf2826bda115",
   "metadata": {},
   "outputs": [],
   "source": [
    "#102+ 15 12 25"
   ]
  },
  {
   "cell_type": "code",
   "execution_count": 3,
   "id": "29b1ee7a-cef3-4035-b45a-b79be864a8db",
   "metadata": {},
   "outputs": [
    {
     "name": "stdout",
     "output_type": "stream",
     "text": [
      "[[ 1  2]\n",
      " [99  4]]\n"
     ]
    }
   ],
   "source": [
    "import numpy as np\n",
    "\n",
    "a = np.array([[1, 2], [3, 4]])\n",
    "b = a.T\n",
    "b[0][1] = 99\n",
    "print(a)\n"
   ]
  },
  {
   "cell_type": "code",
   "execution_count": null,
   "id": "d7bc580f-7000-4850-adbd-5cd92c87421b",
   "metadata": {},
   "outputs": [],
   "source": [
    "[[ 1 99]\n",
    " [ 3  4]]\n",
    "\n",
    "\n",
    "[[ 1  2]\n",
    " [99  4]]  #\n",
    "\n",
    "[[ 1  2]\n",
    " [ 3 99]]\n",
    "\n",
    "[[99  2]\n",
    " [ 3  4]]\n",
    "\n",
    "[[ 1  2]\n",
    " [ 3  4]]\n"
   ]
  },
  {
   "cell_type": "markdown",
   "id": "6e068279-fcb4-4896-95d6-7fb110c8f21a",
   "metadata": {},
   "source": [
    "a.T — это представление (view), а не копия. b[0][1] указывает на a[1][0]. Изменение b приводит к изменению a, так как они используют одни и те же данные в памяти."
   ]
  },
  {
   "cell_type": "code",
   "execution_count": null,
   "id": "9074038c-92ac-496d-8935-8b98f59e8bfb",
   "metadata": {},
   "outputs": [],
   "source": [
    "Что выведет код?\n",
    "\n",
    "```python\n",
    "\n",
    "\n",
    "```\n",
    "Выберите правильный вариант\n",
    "Посмотреть результаты"
   ]
  },
  {
   "cell_type": "code",
   "execution_count": null,
   "id": "57b4c5b5-134b-4280-97a9-049cfc70907e",
   "metadata": {},
   "outputs": [],
   "source": [
    "#103 + 8 12 25"
   ]
  },
  {
   "cell_type": "code",
   "execution_count": 5,
   "id": "dae38476-c91f-45a9-b6ad-4520d83e64cd",
   "metadata": {},
   "outputs": [
    {
     "name": "stdout",
     "output_type": "stream",
     "text": [
      "[10 99 30 40]\n"
     ]
    }
   ],
   "source": [
    "import numpy as np\n",
    "\n",
    "a = np.array([10, 20, 30, 40])\n",
    "b = a[1:3]\n",
    "b[0] = 99\n",
    "print(a)\n"
   ]
  },
  {
   "cell_type": "code",
   "execution_count": null,
   "id": "0d6d9fb8-5f5d-4b19-a60a-490af104c5a9",
   "metadata": {},
   "outputs": [],
   "source": [
    "[10 20 30 40]\n",
    "[10 20 99 40]\n",
    "[10 99 99 40]\n",
    "[99 20 30 40]\n",
    "[10 99 30 40] #"
   ]
  },
  {
   "cell_type": "code",
   "execution_count": null,
   "id": "284cb8d6-fe6b-495f-9481-393456adcf8b",
   "metadata": {},
   "outputs": [],
   "source": [
    "b — это срез, он view, не копия. b[0] = 99 → a[1] = 99."
   ]
  },
  {
   "cell_type": "code",
   "execution_count": null,
   "id": "f7cd44d8-91fe-48d6-ba22-e46e666ebc47",
   "metadata": {},
   "outputs": [],
   "source": [
    "Что выведет код?\n",
    "\n",
    "```python\n",
    "\n",
    "\n",
    "```\n",
    "Выберите правильный вариант\n",
    "Посмотреть результаты"
   ]
  },
  {
   "cell_type": "code",
   "execution_count": null,
   "id": "445717c8-8fc7-4c39-bff1-6cb9e08d0286",
   "metadata": {},
   "outputs": [],
   "source": [
    "#104+ 16 12 25"
   ]
  },
  {
   "cell_type": "code",
   "execution_count": 11,
   "id": "7092dc68-db7c-4d28-b3e2-596679eef5f8",
   "metadata": {},
   "outputs": [
    {
     "name": "stdout",
     "output_type": "stream",
     "text": [
      "[[0 1 2]\n",
      " [3 4 5]]\n",
      "[ 0 42  2  3  4  5]\n"
     ]
    }
   ],
   "source": [
    "import numpy as np\n",
    "\n",
    "a = np.arange(6)\n",
    "b = a.reshape((2, 3))\n",
    "b[0][1] = 42\n",
    "print(a)\n"
   ]
  },
  {
   "cell_type": "code",
   "execution_count": null,
   "id": "9aebeff2-5345-452c-942b-b981359b0987",
   "metadata": {},
   "outputs": [],
   "source": [
    "\n",
    "[ 0 1 42 3 4 5]\n",
    "[ 0 1 2 42 4 5]\n",
    "[ 0 42 2 3 4 5] #\n",
    "[ 0 1 2 3 4 5]\n",
    "[42 1 2 3 4 5]"
   ]
  },
  {
   "cell_type": "code",
   "execution_count": null,
   "id": "f6a9e4f2-b5c3-46a0-aabb-9d20bb6b22d9",
   "metadata": {},
   "outputs": [],
   "source": [
    "reshape без .copy() создает представление. b[0][1] — это a[1]."
   ]
  },
  {
   "cell_type": "code",
   "execution_count": null,
   "id": "d0b79682-268f-4258-8903-819cba5137b2",
   "metadata": {},
   "outputs": [],
   "source": [
    "Что выведет код?\n",
    "\n",
    "```python\n",
    "\n",
    "\n",
    "```\n",
    "Выберите правильный вариант\n",
    "Посмотреть результаты"
   ]
  },
  {
   "cell_type": "code",
   "execution_count": null,
   "id": "e1e86365-0e54-4925-a7ae-7fd7d40a4d08",
   "metadata": {},
   "outputs": [],
   "source": [
    "#105+ 17 12 25"
   ]
  },
  {
   "cell_type": "code",
   "execution_count": 13,
   "id": "ffd99f48-c7f4-441d-ab42-1f6feb246f4d",
   "metadata": {},
   "outputs": [
    {
     "name": "stdout",
     "output_type": "stream",
     "text": [
      "[[11 21 31]\n",
      " [12 22 32]\n",
      " [13 23 33]]\n"
     ]
    }
   ],
   "source": [
    "import numpy as np\n",
    "\n",
    "a = np.array([[1], [2], [3]])\n",
    "b = np.array([10, 20, 30])\n",
    "print(a + b)\n"
   ]
  },
  {
   "cell_type": "code",
   "execution_count": null,
   "id": "3790cca1-40aa-47b8-aa93-f07751a7a534",
   "metadata": {},
   "outputs": [],
   "source": [
    "ValueError\n",
    "[[11], [22], [33]]\n",
    "[[11 21 31], [12 22 32], [13 23 33]]\n",
    "[[11 21 31], [21 31 41], [31 41 51]]\n",
    "[[11 21 31], [12 22 32], [13 23 33]] #"
   ]
  },
  {
   "cell_type": "markdown",
   "id": "bcde73e9-4aa3-4102-a8f9-3edef2c2272f",
   "metadata": {},
   "source": [
    "a — (3×1), b — (3,), NumPy будет автоматически растягивать размеры массивов, чтобы они стали совместимыми для поэлементного сложения.\n",
    "a станет [[1, 1, 1],[2, 2, 2],[3, 3, 3]],\n",
    "b станет [[10, 20, 30],[10, 20, 30],[10, 20, 30]]\n"
   ]
  },
  {
   "cell_type": "code",
   "execution_count": null,
   "id": "c866ba5a-2098-478c-894c-8898a1a0e2df",
   "metadata": {},
   "outputs": [],
   "source": [
    "#106+ 18 12 25"
   ]
  },
  {
   "cell_type": "code",
   "execution_count": 15,
   "id": "64aff974-30d0-4124-9056-321bc3e176e2",
   "metadata": {},
   "outputs": [
    {
     "name": "stdout",
     "output_type": "stream",
     "text": [
      "[2 4]\n"
     ]
    }
   ],
   "source": [
    "import numpy as np\n",
    "\n",
    "a = np.array([1, 2, 3, 4, 5])\n",
    "mask = a % 2 == 0\n",
    "print(a[mask])\n"
   ]
  },
  {
   "cell_type": "code",
   "execution_count": null,
   "id": "2b76ac2a-bd09-46b7-b671-1c6f0a2da683",
   "metadata": {},
   "outputs": [],
   "source": [
    "[2 4]  #\n",
    "[1 3 5]\n",
    "[True False True False True]\n",
    "[0 1 0 1 0]\n",
    "[1 2 3 4 5]"
   ]
  },
  {
   "cell_type": "code",
   "execution_count": null,
   "id": "d3ea6cd1-3de0-4902-a99e-1d8ae264a5fa",
   "metadata": {},
   "outputs": [],
   "source": [
    "mask — это булев массив [False True False True False], оставляем чётные элементы."
   ]
  },
  {
   "cell_type": "code",
   "execution_count": null,
   "id": "18eb0a68-820d-478c-a59a-41ed692f8dc4",
   "metadata": {},
   "outputs": [],
   "source": [
    "Что выведет код?\n",
    "\n",
    "```python\n",
    "\n",
    "\n",
    "```\n",
    "Выберите правильный вариант\n",
    "Посмотреть результаты"
   ]
  },
  {
   "cell_type": "code",
   "execution_count": null,
   "id": "0de4342a-2425-4089-af37-91be9dff8412",
   "metadata": {},
   "outputs": [],
   "source": [
    "#107+ 19 12 25"
   ]
  },
  {
   "cell_type": "code",
   "execution_count": 17,
   "id": "f47ebe9a-3db0-44c6-9f3b-296daa970051",
   "metadata": {},
   "outputs": [
    {
     "name": "stdout",
     "output_type": "stream",
     "text": [
      "(array([2, 3], dtype=int64),)\n"
     ]
    }
   ],
   "source": [
    "import numpy as np\n",
    "\n",
    "a = np.array([5, 10, 15, 20])\n",
    "result = np.where(a > 10)\n",
    "print(result)\n"
   ]
  },
  {
   "cell_type": "code",
   "execution_count": null,
   "id": "87c0cfd6-b5f3-4891-9605-a53c042d6507",
   "metadata": {},
   "outputs": [],
   "source": [
    "[True False True True]\n",
    "(array([2, 3]),) #\n",
    "[15 20]\n",
    "(2, 3)\n",
    "[2 3]"
   ]
  },
  {
   "cell_type": "markdown",
   "id": "c03f39c2-c805-4c2d-a913-817886d16c2c",
   "metadata": {},
   "source": [
    "np.where(condition) возвращает кортеж индексов , где условие True. Здесь это индексы чисел 15 и 20."
   ]
  },
  {
   "cell_type": "code",
   "execution_count": null,
   "id": "2269aa3f-2d6b-4d60-93a7-3d9cdaa0ac5b",
   "metadata": {},
   "outputs": [],
   "source": [
    "Что выведет код?\n",
    "\n",
    "```python\n",
    "\n",
    "\n",
    "```\n",
    "Выберите правильный вариант\n",
    "Посмотреть результаты"
   ]
  },
  {
   "cell_type": "code",
   "execution_count": null,
   "id": "0c95fdb7-54a1-4a49-a183-9d3acb900a65",
   "metadata": {},
   "outputs": [],
   "source": [
    "#108+ 22 12 25"
   ]
  },
  {
   "cell_type": "code",
   "execution_count": 23,
   "id": "c0be9a7d-9a6d-412f-8b52-6363391451d1",
   "metadata": {},
   "outputs": [
    {
     "name": "stdout",
     "output_type": "stream",
     "text": [
      "5\n"
     ]
    }
   ],
   "source": [
    "import pandas as pd\n",
    "\n",
    "df = pd.DataFrame({'A': [1, 2, 3], 'B': [4, 5, 6]})\n",
    "print(df[df['A'] > 1].iloc[0]['B'])\n"
   ]
  },
  {
   "cell_type": "code",
   "execution_count": null,
   "id": "0012f7e1-83e1-49dd-a720-6aceae28b94a",
   "metadata": {},
   "outputs": [],
   "source": [
    "2\n",
    "4\n",
    "5 #\n",
    "6\n",
    "KeyError "
   ]
  },
  {
   "cell_type": "markdown",
   "id": "daeb59c9-6f9d-4cb7-8880-c91e38120995",
   "metadata": {},
   "source": [
    "df['A'] > 1 фильтрует строки(маска [False, True, True]) с A = 2 и 3. .iloc[0] выбирает первую строку результата (где A = 2, B = 5). ['B'] извлекает значение из столбца B."
   ]
  },
  {
   "cell_type": "code",
   "execution_count": null,
   "id": "8708ab2a-c36b-4fe2-822f-64da8da83718",
   "metadata": {},
   "outputs": [],
   "source": [
    "Что выведет код?\n",
    "\n",
    "```python\n",
    "\n",
    "\n",
    "```\n",
    "Выберите правильный вариант\n",
    "Посмотреть результаты"
   ]
  },
  {
   "cell_type": "code",
   "execution_count": null,
   "id": "e657f125-5b65-4ce5-8309-6db6553248d9",
   "metadata": {},
   "outputs": [],
   "source": [
    "#109+ 23 12 25"
   ]
  },
  {
   "cell_type": "code",
   "execution_count": 27,
   "id": "ced87363-bf19-486f-be26-14c47a675b1b",
   "metadata": {},
   "outputs": [
    {
     "data": {
      "image/png": "[encoded data removed]",
      "text/plain": [
       "<Figure size 640x480 with 1 Axes>"
      ]
     },
     "metadata": {},
     "output_type": "display_data"
    }
   ],
   "source": [
    "import matplotlib.pyplot as plt\n",
    "\n",
    "plt.plot([1, 2, 3], [4, 5, 6])\n",
    "plt.title(\"График\")\n",
    "plt.xlabel(\"X\")\n",
    "plt.ylabel(\"Y\")\n",
    "plt.show()\n",
    "\n"
   ]
  },
  {
   "cell_type": "code",
   "execution_count": null,
   "id": "140f3c27-b7b1-4da6-b13a-66550297d1f8",
   "metadata": {},
   "outputs": [],
   "source": [
    "График без подписей и заголовка\n",
    "Ошибка\n",
    "График с заголовком, осями X и Y #\n",
    "Только точки без линии\n",
    "Только оси без графика"
   ]
  },
  {
   "cell_type": "markdown",
   "id": "1f6cd013-d2cc-4d43-bb6e-f11195628136",
   "metadata": {},
   "source": [
    "plt.plot(...) рисует линию по точкам. plt.title, xlabel, ylabel добавляют заголовок и подписи осей. plt.show() отображает график."
   ]
  },
  {
   "cell_type": "code",
   "execution_count": null,
   "id": "9ee75b5d-4139-4c53-9e50-3e823b8b1495",
   "metadata": {},
   "outputs": [],
   "source": [
    "Что выведет код?\n",
    "\n",
    "```python\n",
    "\n",
    "\n",
    "```\n",
    "Выберите правильный вариант\n",
    "Посмотреть результаты"
   ]
  },
  {
   "cell_type": "code",
   "execution_count": null,
   "id": "38c2e8a8-6098-41ee-9684-1403d94b0e74",
   "metadata": {},
   "outputs": [],
   "source": [
    "#110+ 24 12 25"
   ]
  },
  {
   "cell_type": "code",
   "execution_count": 31,
   "id": "eca45e85-df21-442f-88d2-c01be409792c",
   "metadata": {},
   "outputs": [
    {
     "name": "stdout",
     "output_type": "stream",
     "text": [
      "2\n"
     ]
    }
   ],
   "source": [
    "from sklearn.model_selection import train_test_split\n",
    "\n",
    "X = [1, 2, 3, 4, 5]\n",
    "y = [10, 20, 30, 40, 50]\n",
    "\n",
    "X_train, X_test, y_train, y_test = train_test_split(X, y, test_size=0.4, random_state=1)\n",
    "\n",
    "print(len(X_test))\n"
   ]
  },
  {
   "cell_type": "code",
   "execution_count": null,
   "id": "99c7c85f-c6d8-41b8-802e-d770d19ae48b",
   "metadata": {},
   "outputs": [],
   "source": [
    "1\n",
    "2 #\n",
    "3\n",
    "4\n",
    "TypeError"
   ]
  },
  {
   "cell_type": "markdown",
   "id": "51008248-c1a2-49dc-9ff4-b34f3ae866ad",
   "metadata": {},
   "source": [
    "test_size=0.4 и 5 элементов: 5 × 0.4 = 2. train_test_split округляет результат в сторону, чтобы сохранить сумму train + test = 5. Итог: len(X_test) = 2."
   ]
  },
  {
   "cell_type": "code",
   "execution_count": null,
   "id": "322827a2-1096-4b6a-bc18-b4aabc364b4b",
   "metadata": {},
   "outputs": [],
   "source": [
    "Что выведет код?\n",
    "\n",
    "```python\n",
    "\n",
    "\n",
    "```\n",
    "Выберите правильный вариант\n",
    "Посмотреть результаты"
   ]
  },
  {
   "cell_type": "code",
   "execution_count": null,
   "id": "2a2dac51-6b0c-47c3-aba8-2812dfb02da0",
   "metadata": {},
   "outputs": [],
   "source": [
    "#111+ 25 12 25"
   ]
  },
  {
   "cell_type": "code",
   "execution_count": 33,
   "id": "143d9308-327f-4987-b169-36bb4bafb1d1",
   "metadata": {},
   "outputs": [
    {
     "name": "stdout",
     "output_type": "stream",
     "text": [
      "3\n"
     ]
    }
   ],
   "source": [
    "import pandas as pd\n",
    "\n",
    "df = pd.DataFrame({'A': ['x', 'x', 'y', 'y'], 'B': [1, 2, 3, 4]})\n",
    "result = df.groupby('A').agg({'B': 'sum'})\n",
    "print(result.loc['x']['B'])\n"
   ]
  },
  {
   "cell_type": "code",
   "execution_count": null,
   "id": "f3acd55f-ced0-4912-9afb-baa35fb76a7f",
   "metadata": {},
   "outputs": [],
   "source": [
    "1\n",
    "2\n",
    "3  #\n",
    "4\n",
    "7"
   ]
  },
  {
   "cell_type": "markdown",
   "id": "f2e79d4c-64fb-4d3f-908e-d94290934159",
   "metadata": {},
   "source": [
    "Группировка по колонке 'A' и сумма по 'B': для 'x' это 1 + 2 = 3. loc['x']['B'] извлекает это значение. Поэтому результат — 3."
   ]
  },
  {
   "cell_type": "code",
   "execution_count": null,
   "id": "e945efe6-be1a-41f3-9704-79287b65fc6f",
   "metadata": {},
   "outputs": [],
   "source": [
    "Что выведет код?\n",
    "\n",
    "```python\n",
    "\n",
    "\n",
    "```\n",
    "Выберите правильный вариант\n",
    "Посмотреть результаты"
   ]
  },
  {
   "cell_type": "code",
   "execution_count": null,
   "id": "f8aefd5b-d8c0-465a-95a8-c70ab191f54e",
   "metadata": {},
   "outputs": [],
   "source": [
    "//////////////////////////////////////////////////////////////////////////////"
   ]
  },
  {
   "cell_type": "code",
   "execution_count": null,
   "id": "89b03d8f-9282-4434-abd8-c0f1ab2ebe2d",
   "metadata": {},
   "outputs": [],
   "source": [
    "#112 + 26 12 25"
   ]
  },
  {
   "cell_type": "code",
   "execution_count": 3,
   "id": "e10d2fcc-528a-4cc7-acf3-f8d62e676b8f",
   "metadata": {},
   "outputs": [
    {
     "name": "stdout",
     "output_type": "stream",
     "text": [
      "dec called f called\n"
     ]
    }
   ],
   "source": [
    "def dec(func):\n",
    "    print(\"dec called\", end=\" \")\n",
    "    return func\n",
    "\n",
    "@dec\n",
    "def f():\n",
    "    print(\"f called\")\n",
    "\n",
    "f()\n"
   ]
  },
  {
   "cell_type": "code",
   "execution_count": null,
   "id": "254639db-c4a1-4acb-b8d3-061a36f02392",
   "metadata": {},
   "outputs": [],
   "source": [
    "dec called f called  #\n",
    "\n",
    "dec called f called\n",
    "\n",
    "f called dec called\n",
    "\n",
    "dec called f called\n",
    "\n",
    "TypeError\n",
    "\n",
    "ничего"
   ]
  },
  {
   "cell_type": "markdown",
   "id": "f3b6c1cb-dc4a-4480-8d00-7b0e985ee33a",
   "metadata": {},
   "source": [
    "Декоратор @dec вызывает dec(f), а не f() — он выполняется во время определения функции, т.е. при импорте или запуске файла. Сначала печатается dec called, а затем при вызове f() — f called."
   ]
  },
  {
   "cell_type": "code",
   "execution_count": null,
   "id": "355d4ce1-0f28-4607-bb09-fb0f18e917d8",
   "metadata": {},
   "outputs": [],
   "source": [
    "Что выведет код?\n",
    "\n",
    "```python\n",
    "\n",
    "\n",
    "```\n",
    "Выберите правильный вариант\n",
    "Посмотреть результаты"
   ]
  },
  {
   "cell_type": "code",
   "execution_count": null,
   "id": "a7cb7c68-8159-4c50-93a0-2348597496bf",
   "metadata": {},
   "outputs": [],
   "source": [
    "#113 +29 12 25"
   ]
  },
  {
   "cell_type": "code",
   "execution_count": 5,
   "id": "1ddb51bf-b9de-45fc-9684-0627b132771f",
   "metadata": {},
   "outputs": [
    {
     "ename": "TypeError",
     "evalue": "'NoneType' object is not callable",
     "output_type": "error",
     "traceback": [
      "\u001b[1;31m---------------------------------------------------------------------------\u001b[0m",
      "\u001b[1;31mTypeError\u001b[0m                                 Traceback (most recent call last)",
      "Cell \u001b[1;32mIn[5], line 6\u001b[0m\n\u001b[0;32m      4\u001b[0m     \u001b[38;5;66;03m# без return\u001b[39;00m\n\u001b[0;32m      5\u001b[0m f \u001b[38;5;241m=\u001b[39m dec(\u001b[38;5;28;01mlambda\u001b[39;00m: \u001b[38;5;28mprint\u001b[39m(\u001b[38;5;124m\"\u001b[39m\u001b[38;5;124mhello\u001b[39m\u001b[38;5;124m\"\u001b[39m))\n\u001b[1;32m----> 6\u001b[0m f()\n",
      "\u001b[1;31mTypeError\u001b[0m: 'NoneType' object is not callable"
     ]
    }
   ],
   "source": [
    "def dec(func):\n",
    "    def inner():\n",
    "        print(\"decorated\")\n",
    "    \n",
    "f = dec(lambda: print(\"hello\"))\n",
    "f()\n"
   ]
  },
  {
   "cell_type": "code",
   "execution_count": null,
   "id": "0d89ac39-f46b-42bb-a4aa-79ba79149a31",
   "metadata": {},
   "outputs": [],
   "source": [
    "decorated\n",
    "\n",
    "hello\n",
    "\n",
    "decorated\\nhello\n",
    "\n",
    "NoneType is not callable  #\n",
    "\n",
    "ошибка компиляции\n",
    "\n",
    "ничего"
   ]
  },
  {
   "cell_type": "markdown",
   "id": "4751bcf3-fb1a-45d5-8779-e1a8f419407f",
   "metadata": {},
   "source": [
    "Декоратор dec не возвращает inner, а значит f = None. Попытка f() вызывает ошибку: NoneType is not callable. Подковырка — отсутствие return в декораторе."
   ]
  },
  {
   "cell_type": "code",
   "execution_count": null,
   "id": "67e2d38f-e805-49cd-baf9-412cabb359bd",
   "metadata": {},
   "outputs": [],
   "source": [
    "Что выведет код?\n",
    "\n",
    "```python\n",
    "\n",
    "\n",
    "```\n",
    "Выберите правильный вариант\n",
    "Посмотреть результаты"
   ]
  },
  {
   "cell_type": "code",
   "execution_count": null,
   "id": "9c1e3e1a-a57c-463b-a919-ac3885228d75",
   "metadata": {},
   "outputs": [],
   "source": [
    "#114+ 30 12 25"
   ]
  },
  {
   "cell_type": "code",
   "execution_count": 11,
   "id": "69ec4c0b-0bbc-48db-8694-f19abe46bf25",
   "metadata": {},
   "outputs": [
    {
     "name": "stdout",
     "output_type": "stream",
     "text": [
      "1 2 f\n"
     ]
    }
   ],
   "source": [
    "def dec1(func):\n",
    "    def wrap():\n",
    "        print(\"1\", end=\" \")\n",
    "        func()\n",
    "    return wrap\n",
    "\n",
    "def dec2(func):\n",
    "    def wrap():\n",
    "        print(\"2\", end=\" \")\n",
    "        func()\n",
    "    return wrap\n",
    "\n",
    "@dec1\n",
    "@dec2\n",
    "def f():\n",
    "    print(\"f\")\n",
    "\n",
    "f()\n"
   ]
  },
  {
   "cell_type": "code",
   "execution_count": null,
   "id": "c9517048-3685-44b3-bfca-85945445c93d",
   "metadata": {},
   "outputs": [],
   "source": [
    "2 1 f\n",
    "\n",
    "f 2 1\n",
    "\n",
    "TypeError\n",
    "\n",
    "1 f 2\n",
    "\n",
    "2 f 1\n",
    "\n",
    "1 2 f #"
   ]
  },
  {
   "cell_type": "markdown",
   "id": "8d37997c-a47d-4b55-894e-eb2dc865540e",
   "metadata": {},
   "source": [
    "Декораторы применяются снизу вверх: сначала f = dec2(f), затем f = dec1(f). То есть wrap от dec1 вызывает wrap от dec2, который вызывает f(). Получаем 1, 2, f."
   ]
  },
  {
   "cell_type": "code",
   "execution_count": null,
   "id": "91387cf5-4f19-47ba-95fb-272c5e704d99",
   "metadata": {},
   "outputs": [],
   "source": [
    "Что выведет код?\n",
    "\n",
    "```python\n",
    "\n",
    "\n",
    "```\n",
    "Выберите правильный вариант\n",
    "Посмотреть результаты"
   ]
  },
  {
   "cell_type": "code",
   "execution_count": null,
   "id": "13add39c-697e-4c56-8f2f-46d5af8aae6e",
   "metadata": {},
   "outputs": [],
   "source": [
    "#115+ 31 12 25"
   ]
  },
  {
   "cell_type": "code",
   "execution_count": 19,
   "id": "6d418f82-90e5-412e-9a26-ec716144dc96",
   "metadata": {},
   "outputs": [
    {
     "name": "stdout",
     "output_type": "stream",
     "text": [
      "wrapper None\n"
     ]
    }
   ],
   "source": [
    "from functools import wraps\n",
    "\n",
    "def dec(func):\n",
    "    @wraps(func)\n",
    "    def wrapper():\n",
    "        pass\n",
    "    return wrapper\n",
    "\n",
    "@dec\n",
    "def f():\n",
    "    \"\"\"I am docstring\"\"\"\n",
    "    return 42\n",
    "\n",
    "print(f.__name__, f.__doc__)\n",
    "\n"
   ]
  },
  {
   "cell_type": "code",
   "execution_count": null,
   "id": "ac151e6c-152f-4126-83d5-2bae8e03b6f3",
   "metadata": {},
   "outputs": [],
   "source": [
    "wrapper None\n",
    "\n",
    "f None\n",
    "\n",
    "wrapper I am docstring\n",
    "\n",
    "f I am docstring #\n",
    "\n",
    "TypeError\n",
    "\n",
    "f 42"
   ]
  },
  {
   "cell_type": "markdown",
   "id": "93ee96c3-99a7-42d8-b1a0-bfb6b0587856",
   "metadata": {},
   "source": [
    "@wraps(func) копирует __name__, __doc__ и другие атрибуты из оригинальной функции в обёртку. Без @wraps было бы wrapper None."
   ]
  },
  {
   "cell_type": "code",
   "execution_count": null,
   "id": "8b7023b3-5fff-4797-a294-425dc03db957",
   "metadata": {},
   "outputs": [],
   "source": [
    "Что выведет код?\n",
    "\n",
    "```python\n",
    "\n",
    "\n",
    "```\n",
    "Выберите правильный вариант\n",
    "Посмотреть результаты"
   ]
  },
  {
   "cell_type": "code",
   "execution_count": null,
   "id": "06aafb64-dee3-43a6-88c4-469965904cbe",
   "metadata": {},
   "outputs": [],
   "source": [
    "#116+ 1 01 26"
   ]
  },
  {
   "cell_type": "code",
   "execution_count": 23,
   "id": "fcd743b2-cdf5-48f6-8412-2f8a12d61de7",
   "metadata": {},
   "outputs": [
    {
     "name": "stdout",
     "output_type": "stream",
     "text": [
      "hello bye !\n"
     ]
    }
   ],
   "source": [
    "def outer(msg):\n",
    "    def dec(func):\n",
    "        def wrapper(*args):\n",
    "            print(msg, end=\" \")\n",
    "            return func(*args)\n",
    "        return wrapper\n",
    "    return dec\n",
    "\n",
    "@outer(\"hello\")\n",
    "@outer(\"bye\")\n",
    "def f(x):\n",
    "    print(x)\n",
    "\n",
    "f(\"!\")\n"
   ]
  },
  {
   "cell_type": "code",
   "execution_count": null,
   "id": "3b94f1d7-1510-4f91-84be-40580855184f",
   "metadata": {},
   "outputs": [],
   "source": [
    "bye hello !\n",
    "\n",
    "hello !\n",
    "\n",
    "bye !\n",
    "hello bye !  #\n",
    "\n",
    "!\n",
    "\n",
    "TypeError"
   ]
  },
  {
   "cell_type": "markdown",
   "id": "d45cf8d7-39a0-496c-b5ed-86cb6a3b88ce",
   "metadata": {},
   "source": [
    "Декораторы применяются снизу вверх: сначала @outer(\"bye\"), потом @outer(\"hello\"). Вызов f(\"!\") вызывает вывод hello, затем bye, затем print(x)."
   ]
  },
  {
   "cell_type": "code",
   "execution_count": null,
   "id": "5c3339e1-ff2c-469e-a2bb-4bb2c38d76b0",
   "metadata": {},
   "outputs": [],
   "source": [
    "Что выведет код?\n",
    "\n",
    "```python\n",
    "\n",
    "\n",
    "```\n",
    "Выберите правильный вариант\n",
    "Посмотреть результаты"
   ]
  },
  {
   "cell_type": "code",
   "execution_count": null,
   "id": "297878d1-10c7-4e71-870c-babfe2f5c1e9",
   "metadata": {},
   "outputs": [],
   "source": [
    "#117 + 2 01 26"
   ]
  },
  {
   "cell_type": "code",
   "execution_count": 31,
   "id": "c4eaff9f-ee1a-4cc5-b744-76a6d3e18ea8",
   "metadata": {},
   "outputs": [
    {
     "name": "stdout",
     "output_type": "stream",
     "text": [
      "f done Elapsed: 0.1 "
     ]
    }
   ],
   "source": [
    "import time\n",
    "\n",
    "def timer(func):\n",
    "    def wrapper():\n",
    "        start = time.time()\n",
    "        func()\n",
    "        end = time.time()\n",
    "        print(\"Elapsed:\", round(end - start, 2), end=\" \")\n",
    "    return wrapper\n",
    "\n",
    "@timer\n",
    "def f():\n",
    "    time.sleep(0.1)\n",
    "    print(\"f done\", end=\" \")\n",
    "\n",
    "f()\n"
   ]
  },
  {
   "cell_type": "code",
   "execution_count": null,
   "id": "c9ebed63-e096-49a8-bb42-82b1fe26e62f",
   "metadata": {},
   "outputs": [],
   "source": [
    "Elapsed: 0.1 f done\n",
    "\n",
    "f done\n",
    "\n",
    "TypeError\n",
    "\n",
    "f done Elapsed: 0.0\n",
    "\n",
    "f done Elapsed: 0.1  #\n",
    "\n",
    "Elapsed: 0.0"
   ]
  },
  {
   "cell_type": "markdown",
   "id": "461b4e91-580f-4a60-91f3-1fb46595cbc1",
   "metadata": {},
   "source": [
    "Декоратор измеряет время между start и end. time.sleep(0.1) гарантирует задержку. Сначала вызывается f, затем печатается время."
   ]
  },
  {
   "cell_type": "code",
   "execution_count": null,
   "id": "2edc1e05-d82f-41fb-a1f8-82efcd42d384",
   "metadata": {},
   "outputs": [],
   "source": [
    "Что выведет код?\n",
    "\n",
    "```python\n",
    "\n",
    "\n",
    "```\n",
    "Выберите правильный вариант\n",
    "Посмотреть результаты"
   ]
  },
  {
   "cell_type": "code",
   "execution_count": null,
   "id": "7f1cd779-ad26-494c-bbdf-8ee706186bd7",
   "metadata": {},
   "outputs": [],
   "source": [
    "#118+ 5 01 26"
   ]
  },
  {
   "cell_type": "code",
   "execution_count": 38,
   "id": "30dfed79-0c66-4ff9-9d53-95489d5dfcee",
   "metadata": {},
   "outputs": [
    {
     "name": "stdout",
     "output_type": "stream",
     "text": [
      "init before f called after "
     ]
    }
   ],
   "source": [
    "class dec:\n",
    "    def __init__(self, func):\n",
    "        self.func = func\n",
    "        print(\"init\", end=\" \")\n",
    "\n",
    "    def __call__(self):\n",
    "        print(\"before\", end=\" \")\n",
    "        self.func()\n",
    "        print(\"after\", end=\" \")\n",
    "\n",
    "@dec\n",
    "def f():\n",
    "    print(\"f called\", end=\" \")\n",
    "\n",
    "f()\n"
   ]
  },
  {
   "cell_type": "code",
   "execution_count": null,
   "id": "5f30d473-da50-407b-995a-a5d2e2cb381e",
   "metadata": {},
   "outputs": [],
   "source": [
    "\n",
    "\n",
    "init f called before after\n",
    "\n",
    "init before f called after  #\n",
    "\n",
    "before f called after init\n",
    "\n",
    "init f called after\n",
    "\n",
    "TypeError\n",
    "\n",
    "ничего"
   ]
  },
  {
   "cell_type": "markdown",
   "id": "0f1b0024-6557-4eb3-83d9-93f55e25ba73",
   "metadata": {},
   "source": [
    "Класс-декоратор получает функцию при определении (выводит init) и реализует поведение при вызове через __call__."
   ]
  },
  {
   "cell_type": "code",
   "execution_count": null,
   "id": "26c68bcc-36f2-4858-9666-63036d2d5f93",
   "metadata": {},
   "outputs": [],
   "source": []
  },
  {
   "cell_type": "code",
   "execution_count": null,
   "id": "d0cc133b-ce51-40a1-a29b-74d5066c57c8",
   "metadata": {},
   "outputs": [],
   "source": [
    "Что выведет код?\n",
    "\n",
    "```python\n",
    "\n",
    "\n",
    "```\n",
    "Выберите правильный вариант\n",
    "Посмотреть результаты"
   ]
  },
  {
   "cell_type": "code",
   "execution_count": null,
   "id": "f4fc5c9c-b6ae-4340-814e-60f8119aefe8",
   "metadata": {},
   "outputs": [],
   "source": [
    "#119+ 6 01 26"
   ]
  },
  {
   "cell_type": "code",
   "execution_count": 40,
   "id": "53bf4247-389a-42cb-a518-f63e2a3ffcbc",
   "metadata": {},
   "outputs": [
    {
     "name": "stdout",
     "output_type": "stream",
     "text": [
      "running f\n"
     ]
    }
   ],
   "source": [
    "def debug(enabled=True):\n",
    "    def decorator(func):\n",
    "        def wrapper(*args, **kwargs):\n",
    "            if enabled:\n",
    "                print(\"DEBUG:\", func.__name__)\n",
    "            return func(*args, **kwargs)\n",
    "        return wrapper\n",
    "    return decorator\n",
    "\n",
    "@debug(enabled=False)\n",
    "def f():\n",
    "    print(\"running f\")\n",
    "\n",
    "f()\n"
   ]
  },
  {
   "cell_type": "code",
   "execution_count": null,
   "id": "f6a28854-b8c2-4a6d-9878-7d71a849962a",
   "metadata": {},
   "outputs": [],
   "source": [
    "DEBUG: f\\nrunning f\n",
    "\n",
    "running f  #\n",
    "\n",
    "f\\nrunning f\n",
    "\n",
    "DEBUG: running f\n",
    "\n",
    "TypeError\n",
    "\n",
    "ничего"
   ]
  },
  {
   "cell_type": "markdown",
   "id": "5e38d6c0-3ecb-45df-9e97-2cc1c37d1a85",
   "metadata": {},
   "source": [
    "Аргумент enabled=False передаётся в декоратор, условие if enabled не выполняется, поэтому DEBUG: не выводится."
   ]
  },
  {
   "cell_type": "code",
   "execution_count": null,
   "id": "202d996c-79cf-47f6-8c62-c1733b48f8f1",
   "metadata": {},
   "outputs": [],
   "source": [
    "Что выведет код?\n",
    "\n",
    "```python\n",
    "\n",
    "\n",
    "```\n",
    "Выберите правильный вариант\n",
    "Посмотреть результаты"
   ]
  },
  {
   "cell_type": "code",
   "execution_count": null,
   "id": "ea2d11e4-3b94-4826-b728-81f17d8fec70",
   "metadata": {},
   "outputs": [],
   "source": [
    "..........................................................."
   ]
  },
  {
   "cell_type": "code",
   "execution_count": null,
   "id": "a80f1c15-9f78-403f-99c5-0f4cd0cbf123",
   "metadata": {},
   "outputs": [],
   "source": [
    "#120+ 7 01 26"
   ]
  },
  {
   "cell_type": "code",
   "execution_count": 1,
   "id": "bec7b4aa-1764-44cd-b51d-6ea79ab637c7",
   "metadata": {},
   "outputs": [
    {
     "name": "stdout",
     "output_type": "stream",
     "text": [
      "1 2 Returned: 3\n"
     ]
    }
   ],
   "source": [
    "def gen():\n",
    "    yield 1\n",
    "    yield 2\n",
    "    return 3\n",
    "\n",
    "g = gen()\n",
    "try:\n",
    "    while True:\n",
    "        print(next(g), end =\" \")\n",
    "except StopIteration as e:\n",
    "    print(\"Returned:\", e.value)\n"
   ]
  },
  {
   "cell_type": "code",
   "execution_count": null,
   "id": "8540835c-cbd5-4473-a59a-26d07e32d286",
   "metadata": {},
   "outputs": [],
   "source": [
    "1 2 Returned: None\n",
    "1 2 TypeError\n",
    "1 2 Returned: 3  #\n",
    "Returned: 3"
   ]
  },
  {
   "cell_type": "markdown",
   "id": "f7341ff8-8b10-427c-b115-7426cb1d63d3",
   "metadata": {},
   "source": [
    "return в генераторе не просто завершает итерацию, но и передаёт значение через StopIteration.value.\n",
    "\n"
   ]
  },
  {
   "cell_type": "code",
   "execution_count": null,
   "id": "42471bdd-7e1c-474b-86b6-7954488dd528",
   "metadata": {},
   "outputs": [],
   "source": [
    "Что выведет код?\n",
    "\n",
    "```python\n",
    "\n",
    "\n",
    "```\n",
    "Выберите правильный вариант\n",
    "Посмотреть результаты"
   ]
  },
  {
   "cell_type": "code",
   "execution_count": null,
   "id": "80a0cc22-3294-4a79-a53a-5f57feba3055",
   "metadata": {},
   "outputs": [],
   "source": [
    "#121+ 8 01 26"
   ]
  },
  {
   "cell_type": "code",
   "execution_count": 3,
   "id": "87e9b550-7edc-4e46-b0f9-ddf6a79d8274",
   "metadata": {},
   "outputs": [
    {
     "name": "stdout",
     "output_type": "stream",
     "text": [
      "10 20 20 "
     ]
    }
   ],
   "source": [
    "def repeater(val):\n",
    "    while True:\n",
    "        new = yield val\n",
    "        if new:\n",
    "            val = new\n",
    "\n",
    "g = repeater(10)\n",
    "print(next(g), end =\" \")\n",
    "print(g.send(20), end =\" \")\n",
    "print(next(g), end =\" \")\n"
   ]
  },
  {
   "cell_type": "code",
   "execution_count": null,
   "id": "6c97ca16-de81-4a2a-b195-439d00c57aaf",
   "metadata": {},
   "outputs": [],
   "source": [
    "10 20 10\n",
    "10 10 10\n",
    "10 20 20 #\n",
    "TypеError"
   ]
  },
  {
   "cell_type": "markdown",
   "id": "64a3523a-7d04-4c82-9319-5c6cdc5af28f",
   "metadata": {},
   "source": [
    "send(20) передаёт значение внутрь генератора. Оно присваивается val, и следующая yield выдаёт 20.\n",
    "\n"
   ]
  },
  {
   "cell_type": "code",
   "execution_count": null,
   "id": "de6ab4d1-3bf3-4580-91d2-8d6dd3d4515d",
   "metadata": {},
   "outputs": [],
   "source": [
    "Что выведет код?\n",
    "\n",
    "```python\n",
    "\n",
    "\n",
    "```\n",
    "Выберите правильный вариант\n",
    "Посмотреть результаты"
   ]
  },
  {
   "cell_type": "code",
   "execution_count": null,
   "id": "91ee02e4-7fb2-49eb-9a88-eb79b284f062",
   "metadata": {},
   "outputs": [],
   "source": [
    "#122+ 9 01 26"
   ]
  },
  {
   "cell_type": "code",
   "execution_count": 5,
   "id": "514c5a43-ab4b-452e-a896-bf6595d24ebd",
   "metadata": {},
   "outputs": [
    {
     "name": "stdout",
     "output_type": "stream",
     "text": [
      "[1, 2, 3]\n"
     ]
    }
   ],
   "source": [
    "class MyRange:\n",
    "    def __init__(self, n):\n",
    "        self.n = n\n",
    "        self.i = 0\n",
    "    def __iter__(self):\n",
    "        return self\n",
    "    def __next__(self):\n",
    "        if self.i >= self.n:\n",
    "            raise StopIteration\n",
    "        self.i += 1\n",
    "        return self.i\n",
    "\n",
    "print(list(MyRange(3)))\n"
   ]
  },
  {
   "cell_type": "code",
   "execution_count": null,
   "id": "a80cfc56-acb7-48f3-986d-9ac76a4db471",
   "metadata": {},
   "outputs": [],
   "source": [
    "[0, 1, 2]\n",
    "[1, 2, 3]  #\n",
    "[1, 2]\n",
    "[1, 2, 3, 4]"
   ]
  },
  {
   "cell_type": "markdown",
   "id": "85b8865d-7734-4206-9f00-62c89abb34dc",
   "metadata": {},
   "source": [
    "Сначала i = 0, затем i += 1 и возвращается 1, затем 2, затем 3. На 4-й итерации выбрасывается StopIteration."
   ]
  },
  {
   "cell_type": "code",
   "execution_count": null,
   "id": "429050cf-128d-4c6f-a1ec-a48ae7dc3f30",
   "metadata": {},
   "outputs": [],
   "source": [
    "Что выведет код?\n",
    "\n",
    "```python\n",
    "\n",
    "\n",
    "```\n",
    "Выберите правильный вариант\n",
    "Посмотреть результаты"
   ]
  },
  {
   "cell_type": "code",
   "execution_count": null,
   "id": "e245a60d-c8c0-431b-b962-2cd84618ddd2",
   "metadata": {},
   "outputs": [],
   "source": [
    "#123+  12 01 26"
   ]
  },
  {
   "cell_type": "code",
   "execution_count": 7,
   "id": "949649c6-7d7b-43f3-8f90-e5e206494fce",
   "metadata": {},
   "outputs": [
    {
     "name": "stdout",
     "output_type": "stream",
     "text": [
      "[0, 1, 2, 'done']\n"
     ]
    }
   ],
   "source": [
    "def counter():\n",
    "    i = 0\n",
    "    while i < 3:\n",
    "        yield i\n",
    "        i += 1\n",
    "    else:\n",
    "        yield 'done'\n",
    "\n",
    "print(list(counter()))\n"
   ]
  },
  {
   "cell_type": "code",
   "execution_count": null,
   "id": "3f0c1d2f-cac1-4a09-8572-c43bfebfa764",
   "metadata": {},
   "outputs": [],
   "source": [
    "[0, 1, 2]\n",
    "[0, 1, 2, 'done'] #\n",
    "['done']\n",
    "[0, 1, 2, 3, 'done']"
   ]
  },
  {
   "cell_type": "markdown",
   "id": "ee2bbdb6-58bf-4d96-8367-5413e73b889d",
   "metadata": {},
   "source": [
    "else после while выполняется, если break не был вызван. Поэтому 'done' тоже будет сгенерировано."
   ]
  },
  {
   "cell_type": "code",
   "execution_count": null,
   "id": "51111a8e-8868-4c15-818c-f79092bccc2e",
   "metadata": {},
   "outputs": [],
   "source": [
    "Что выведет код?\n",
    "\n",
    "```python\n",
    "\n",
    "\n",
    "```\n",
    "Выберите правильный вариант\n",
    "Посмотреть результаты"
   ]
  },
  {
   "cell_type": "code",
   "execution_count": null,
   "id": "9000422f-07c0-4a19-9ca6-e0dd58648034",
   "metadata": {},
   "outputs": [],
   "source": [
    "#124+ 13 01 26"
   ]
  },
  {
   "cell_type": "code",
   "execution_count": 9,
   "id": "87b413b7-2ce9-4c43-a3d9-10e473fe7709",
   "metadata": {},
   "outputs": [
    {
     "name": "stdout",
     "output_type": "stream",
     "text": [
      "[0, 1, 'a', 'b']\n"
     ]
    }
   ],
   "source": [
    "def tricky():\n",
    "    yield from range(2)\n",
    "    yield from \"ab\"\n",
    "\n",
    "print(list(tricky()))\n"
   ]
  },
  {
   "cell_type": "code",
   "execution_count": null,
   "id": "7e6d1638-90ce-4ffb-aaf2-6295cdf9b1e0",
   "metadata": {},
   "outputs": [],
   "source": [
    "[0, 1, 'a', 'b']  #\n",
    "['0', '1', 'a', 'b']\n",
    "[(0, 1), ('a', 'b')]\n",
    "TypeError"
   ]
  },
  {
   "cell_type": "markdown",
   "id": "aa30c355-e316-4aa9-86a0-99e9bcb39e9f",
   "metadata": {},
   "source": [
    "yield from раскрывает итерируемое: сначала range(2) — 0 и 1, потом строка \"ab\" — символы 'a' и 'b'.\n",
    "\n"
   ]
  },
  {
   "cell_type": "code",
   "execution_count": null,
   "id": "69b627fc-3491-4b85-a76b-a90682858ad1",
   "metadata": {},
   "outputs": [],
   "source": [
    "Что выведет код?\n",
    "\n",
    "```python\n",
    "\n",
    "\n",
    "```\n",
    "Выберите правильный вариант\n",
    "Посмотреть результаты"
   ]
  },
  {
   "cell_type": "code",
   "execution_count": null,
   "id": "2d4489d9-b758-46fa-9b1b-eca2ee4fbf3e",
   "metadata": {},
   "outputs": [],
   "source": [
    "#125+ 14 01 26"
   ]
  },
  {
   "cell_type": "code",
   "execution_count": 13,
   "id": "84c9d1c0-4709-4f4b-9993-75fe13613327",
   "metadata": {},
   "outputs": [
    {
     "name": "stdout",
     "output_type": "stream",
     "text": [
      "[1, 2, 0, 1]\n"
     ]
    }
   ],
   "source": [
    "def chain():\n",
    "    yield from [1, 2]\n",
    "    yield from (x for x in range(2))\n",
    "\n",
    "print(list(chain()))\n"
   ]
  },
  {
   "cell_type": "code",
   "execution_count": null,
   "id": "5c243839-61db-4712-b5ab-6f5e37003247",
   "metadata": {},
   "outputs": [],
   "source": [
    "[1, 2, 0, 1]     ✅\n",
    "[1, 2, range(2)] — ❌ Неверно: генераторное выражение не вставляется как объект\n",
    "[1, 2, [0, 1]] — ❌ Неверно: yield from не группирует\n",
    "TypeError: 'generator' object is not iterable — ❌ Нет ошибки: генератор — итерируемый"
   ]
  },
  {
   "cell_type": "markdown",
   "id": "e7158aaf-f618-427c-9fe4-bfe22342f76d",
   "metadata": {},
   "source": [
    "Первый yield from берёт значения из списка, второй - из генератора"
   ]
  },
  {
   "cell_type": "code",
   "execution_count": null,
   "id": "fbb13f65-a9b9-4ccd-b720-54800130f480",
   "metadata": {},
   "outputs": [],
   "source": [
    "Что выведет код?\n",
    "\n",
    "```python\n",
    "\n",
    "\n",
    "```\n",
    "Выберите правильный вариант\n",
    "Посмотреть результаты"
   ]
  },
  {
   "cell_type": "code",
   "execution_count": null,
   "id": "65ba1530-6198-492d-8cb2-0de5caa8cef4",
   "metadata": {},
   "outputs": [],
   "source": [
    "#126+ 15 01 26"
   ]
  },
  {
   "cell_type": "code",
   "execution_count": 23,
   "id": "ccb20ecb-8b40-4fff-aa91-30f10c58d41d",
   "metadata": {},
   "outputs": [
    {
     "name": "stdout",
     "output_type": "stream",
     "text": [
      "[1, 2]\n"
     ]
    }
   ],
   "source": [
    "def inner():\n",
    "    yield from [1, 2]\n",
    "\n",
    "def outer():\n",
    "    yield from inner()\n",
    "\n",
    "print(list(outer()))\n"
   ]
  },
  {
   "cell_type": "code",
   "execution_count": null,
   "id": "c4072a6b-f503-4dd1-9db2-606030915171",
   "metadata": {},
   "outputs": [],
   "source": [
    "[1, 2] — ✅\n",
    "[[1, 2]] — ❌ Неверно: yield from разворачивает элементы, а не оборачивает\n",
    "[inner()] — ❌ Неверно: генератор не передаётся как объект\n",
    "TypeError: 'generator' object is not iterable — ❌ Неверно: генератор — итерируем"
   ]
  },
  {
   "cell_type": "markdown",
   "id": "80ba9fe9-a374-4fce-8957-688d988a604a",
   "metadata": {},
   "source": [
    "yield from inner() разворачивает элементы из генератора inner, который сам разворачивает список [1, 2]."
   ]
  },
  {
   "cell_type": "code",
   "execution_count": null,
   "id": "32a15a57-914c-413c-98a4-55984df42115",
   "metadata": {},
   "outputs": [],
   "source": [
    "Что выведет код?\n",
    "\n",
    "```python\n",
    "\n",
    "\n",
    "```\n",
    "Выберите правильный вариант\n",
    "Посмотреть результаты"
   ]
  },
  {
   "cell_type": "code",
   "execution_count": null,
   "id": "3580ba5d-8c69-43e6-9df2-afdb897b05f7",
   "metadata": {},
   "outputs": [],
   "source": [
    "#127+ 16 01 26"
   ]
  },
  {
   "cell_type": "code",
   "execution_count": 25,
   "id": "02c86497-4a38-423f-bf6d-fe9b0405de9f",
   "metadata": {},
   "outputs": [
    {
     "name": "stdout",
     "output_type": "stream",
     "text": [
      "[0, 1, 'x', 'y']\n"
     ]
    }
   ],
   "source": [
    "def step():\n",
    "    for i in range(2):\n",
    "        yield i\n",
    "    yield from \"xy\"\n",
    "\n",
    "print(list(step()))\n"
   ]
  },
  {
   "cell_type": "code",
   "execution_count": null,
   "id": "a2d42e18-0f8a-4521-8989-2100a66fa8fa",
   "metadata": {},
   "outputs": [],
   "source": [
    "[0, 1, 'x', 'y'] — ✅\n",
    "[0, 1, \"xy\"] — ❌ Неверно: строка раскрывается по символам\n",
    "[0, 1, ['x', 'y']] — ❌ Неверно\n",
    "TypeError: 'str' object is not iterable — ❌ Неверно: строки — итерируемые"
   ]
  },
  {
   "cell_type": "code",
   "execution_count": null,
   "id": "5c9b1352-6ba0-4b0d-ace8-e5b573930457",
   "metadata": {},
   "outputs": [],
   "source": [
    "Функция step генерирует 0, 1, затем символы 'x' и 'y', раскрывая строку через yield from."
   ]
  },
  {
   "cell_type": "code",
   "execution_count": null,
   "id": "57df392b-b9e3-44cd-93a9-49d397f593be",
   "metadata": {},
   "outputs": [],
   "source": [
    "Что выведет код?\n",
    "\n",
    "```python\n",
    "\n",
    "\n",
    "```\n",
    "Выберите правильный вариант\n",
    "Посмотреть результаты"
   ]
  },
  {
   "cell_type": "code",
   "execution_count": null,
   "id": "2ced0585-2813-4a5a-8988-6deeb78dcad4",
   "metadata": {},
   "outputs": [],
   "source": [
    "#128+  19 01 26"
   ]
  },
  {
   "cell_type": "code",
   "execution_count": 15,
   "id": "e9be1781-3785-4a04-8776-74ba68fd2e55",
   "metadata": {},
   "outputs": [
    {
     "name": "stdout",
     "output_type": "stream",
     "text": [
      "42\n"
     ]
    }
   ],
   "source": [
    "def gen():\n",
    "    yield from []\n",
    "    yield 42\n",
    "\n",
    "print(next(gen()))\n"
   ]
  },
  {
   "cell_type": "code",
   "execution_count": null,
   "id": "afe4fead-5be1-4e1a-92a0-b1269c1720f8",
   "metadata": {},
   "outputs": [],
   "source": [
    " [] — ❌\n",
    "42 — ✅\n",
    "StopIteration — ❌\n",
    "TypeError — ❌"
   ]
  },
  {
   "cell_type": "markdown",
   "id": "69735df9-da00-40b0-a54f-df34037d60f4",
   "metadata": {},
   "source": [
    "yield from [] просто ничего не делает. Генератор продолжает и выдаёт 42."
   ]
  },
  {
   "cell_type": "code",
   "execution_count": null,
   "id": "1f209449-58cd-4308-a54e-d06671a1b7b7",
   "metadata": {},
   "outputs": [],
   "source": [
    "Что выведет код?\n",
    "\n",
    "```python\n",
    "\n",
    "\n",
    "```\n",
    "Выберите правильный вариант\n",
    "Посмотреть результаты"
   ]
  },
  {
   "cell_type": "code",
   "execution_count": null,
   "id": "75820ba6-9a25-4ced-875d-f8a264932322",
   "metadata": {},
   "outputs": [],
   "source": [
    "#129+ 20 01 26"
   ]
  },
  {
   "cell_type": "code",
   "execution_count": 17,
   "id": "93046e61-b7cd-44c4-bfe1-13ad737ff04a",
   "metadata": {},
   "outputs": [
    {
     "name": "stdout",
     "output_type": "stream",
     "text": [
      "[1] [1, 2]\n"
     ]
    }
   ],
   "source": [
    "def add_to(val, lst=[]):\n",
    "    lst.append(val)\n",
    "    return lst\n",
    "\n",
    "print(add_to(1), end = \" \")\n",
    "print(add_to(2))\n"
   ]
  },
  {
   "cell_type": "code",
   "execution_count": null,
   "id": "83336731-bcd1-4230-b5a8-ed7f71244a80",
   "metadata": {},
   "outputs": [],
   "source": [
    "[1], [2]\n",
    "[1], [1, 2]  #\n",
    "[1], [2]\n",
    "TypeError"
   ]
  },
  {
   "cell_type": "markdown",
   "id": "d6ed8efc-1a74-4ab3-bda1-a34902cf9412",
   "metadata": {},
   "source": [
    "Значение lst по умолчанию сохраняется между вызовами — это один и тот же список.\n",
    "\n"
   ]
  },
  {
   "cell_type": "code",
   "execution_count": null,
   "id": "53e08147-567b-496e-8c68-46a7d2e3c9b8",
   "metadata": {},
   "outputs": [],
   "source": [
    "Что выведет код?\n",
    "\n",
    "```python\n",
    "\n",
    "\n",
    "```\n",
    "Выберите правильный вариант\n",
    "Посмотреть результаты"
   ]
  },
  {
   "cell_type": "code",
   "execution_count": null,
   "id": "4fdeb795-378d-4e90-9087-71737f9678d2",
   "metadata": {},
   "outputs": [],
   "source": [
    "#130+ 21 01 26"
   ]
  },
  {
   "cell_type": "code",
   "execution_count": 19,
   "id": "6876e160-903a-48f4-afb6-620877809f68",
   "metadata": {},
   "outputs": [
    {
     "name": "stdout",
     "output_type": "stream",
     "text": [
      "1 2 10\n"
     ]
    }
   ],
   "source": [
    "def f(a, b=2, c=3):\n",
    "    print(a, b, c)\n",
    "\n",
    "f(1, c=10)\n"
   ]
  },
  {
   "cell_type": "code",
   "execution_count": null,
   "id": "c2685f91-7b05-499d-9905-d8fcb96430e0",
   "metadata": {},
   "outputs": [],
   "source": [
    "1 2 10  #\n",
    "1 10 3\n",
    "TypeError\n",
    "1 3 10"
   ]
  },
  {
   "cell_type": "markdown",
   "id": "6712caf4-e01a-4a53-9a83-a60892f7fc0e",
   "metadata": {},
   "source": [
    "Именованные аргументы могут передаваться в любом порядке, если позиционные идут первыми. b=2 по умолчанию, c=10 переопределяется."
   ]
  },
  {
   "cell_type": "code",
   "execution_count": null,
   "id": "481ae0bc-b998-4709-808f-1bcf644a9324",
   "metadata": {},
   "outputs": [],
   "source": [
    "Что выведет код?\n",
    "\n",
    "```python\n",
    "\n",
    "\n",
    "```\n",
    "Выберите правильный вариант\n",
    "Посмотреть результаты"
   ]
  },
  {
   "cell_type": "code",
   "execution_count": null,
   "id": "890e7c9b-5444-4c08-a3ed-ce46f9bd5897",
   "metadata": {},
   "outputs": [],
   "source": [
    "#131+ 22 01 26"
   ]
  },
  {
   "cell_type": "code",
   "execution_count": 23,
   "id": "d538db79-0ecb-45f6-b6fc-28f39d299a23",
   "metadata": {},
   "outputs": [
    {
     "name": "stdout",
     "output_type": "stream",
     "text": [
      "[1] [1, 1]\n"
     ]
    }
   ],
   "source": [
    "def f(x=[]):\n",
    "    x += [1]\n",
    "    return x\n",
    "\n",
    "print(f(), end = \" \")\n",
    "print(f())\n"
   ]
  },
  {
   "cell_type": "code",
   "execution_count": null,
   "id": "2951b27e-5eae-4d00-9563-3b6108763136",
   "metadata": {},
   "outputs": [],
   "source": [
    "[1], [1]\n",
    "[1], [1, 1]  #\n",
    "TypeError\n",
    "[], [1]"
   ]
  },
  {
   "cell_type": "markdown",
   "id": "2bac2936-358f-4f6c-b187-ea85979c162c",
   "metadata": {},
   "source": [
    "Список x — это один и тот же объект по умолчанию между вызовами. Он накапливает значения."
   ]
  },
  {
   "cell_type": "code",
   "execution_count": null,
   "id": "4d0ae1cd-a770-424a-98d9-4c8f4c6d3c63",
   "metadata": {},
   "outputs": [],
   "source": [
    "Что выведет код?\n",
    "\n",
    "```python\n",
    "\n",
    "\n",
    "```\n",
    "Выберите правильный вариант\n",
    "Посмотреть результаты"
   ]
  },
  {
   "cell_type": "code",
   "execution_count": null,
   "id": "a6f25267-2ea3-489c-8fd9-3b5ed49e1408",
   "metadata": {},
   "outputs": [],
   "source": [
    "#132+ 23 01 26"
   ]
  },
  {
   "cell_type": "code",
   "execution_count": 39,
   "id": "dc978d0b-b05f-4b75-a303-fc9739965f1a",
   "metadata": {},
   "outputs": [
    {
     "name": "stdout",
     "output_type": "stream",
     "text": [
      "1 (2, 3) 5 {'x': 7, 'y': 8}\n"
     ]
    }
   ],
   "source": [
    "def f(a, *args, b=5, **kwargs):\n",
    "    print(a, args, b, kwargs)\n",
    "\n",
    "f(1, 2, 3, x=7, y=8)\n"
   ]
  },
  {
   "cell_type": "code",
   "execution_count": null,
   "id": "014b002e-6723-451d-9617-31f3a20df58c",
   "metadata": {},
   "outputs": [],
   "source": [
    "1 (2, 3) 5 {'x': 7, 'y': 8} #\n",
    "1 (2,) 3 {'x': 7, 'y': 8}\n",
    "TypeError\n",
    "1 () 5 {'x': 7, 'y': 8}"
   ]
  },
  {
   "cell_type": "markdown",
   "id": "b181f087-4339-4256-bff6-7739cad624c7",
   "metadata": {},
   "source": [
    "Функция f принимает обязательный аргумент a, позиционные *args, именованный b (по умолчанию 5) и любые другие ключевые **kwargs."
   ]
  },
  {
   "cell_type": "code",
   "execution_count": null,
   "id": "357dcdf5-c2b1-4f31-84c4-b64fc32a5723",
   "metadata": {},
   "outputs": [],
   "source": [
    "Что выведет код?\n",
    "\n",
    "```python\n",
    "\n",
    "\n",
    "```\n",
    "Выберите правильный вариант\n",
    "Посмотреть результаты"
   ]
  },
  {
   "cell_type": "code",
   "execution_count": null,
   "id": "1464d29e-6d0b-4886-b9c0-2e5d64b2fb31",
   "metadata": {},
   "outputs": [],
   "source": [
    "#133+ 26 01 26"
   ]
  },
  {
   "cell_type": "code",
   "execution_count": 25,
   "id": "a545b33b-3d32-4e88-b5b9-489c970b5cb1",
   "metadata": {},
   "outputs": [
    {
     "name": "stdout",
     "output_type": "stream",
     "text": [
      "True\n"
     ]
    }
   ],
   "source": [
    "def f():\n",
    "    return\n",
    "\n",
    "print(f() is None)\n"
   ]
  },
  {
   "cell_type": "code",
   "execution_count": null,
   "id": "bfa5a85c-d09f-4b33-ae39-f4ecfbf83b48",
   "metadata": {},
   "outputs": [],
   "source": [
    "True  #\n",
    "False\n",
    "TypeError\n",
    "NameError\n",
    "None"
   ]
  },
  {
   "cell_type": "markdown",
   "id": "a9cb2a8b-a6c2-43cf-936e-b77551a2cd40",
   "metadata": {},
   "source": [
    "Если return вызывается без значения, функция возвращает None — это и проверяется через is None."
   ]
  },
  {
   "cell_type": "code",
   "execution_count": null,
   "id": "999c7bea-3b17-4ed5-974e-6720f54ba6d4",
   "metadata": {},
   "outputs": [],
   "source": [
    "Что выведет код?\n",
    "\n",
    "```python\n",
    "\n",
    "\n",
    "```\n",
    "Выберите правильный вариант\n",
    "Посмотреть результаты"
   ]
  },
  {
   "cell_type": "code",
   "execution_count": null,
   "id": "1712d9a9-83f1-447f-8e46-fe6b9a66a91b",
   "metadata": {},
   "outputs": [],
   "source": [
    "#134+ 27 01 26"
   ]
  },
  {
   "cell_type": "code",
   "execution_count": 43,
   "id": "397a423d-1f96-4e68-a194-34db2e095d86",
   "metadata": {},
   "outputs": [
    {
     "name": "stdout",
     "output_type": "stream",
     "text": [
      "11\n"
     ]
    }
   ],
   "source": [
    "def outer():\n",
    "    x = 10\n",
    "    def inner():\n",
    "        nonlocal x\n",
    "        x += 1\n",
    "        return x\n",
    "    return inner()\n",
    "\n",
    "print(outer())\n"
   ]
  },
  {
   "cell_type": "code",
   "execution_count": null,
   "id": "f4f248dd-cfb7-4482-8082-70e6620374bd",
   "metadata": {},
   "outputs": [],
   "source": [
    "11 — ✅\n",
    "10 — ❌ x инкрементируется\n",
    "UnboundLocalError: local variable 'x' referenced before assignment — ❌ nonlocal предотвращает это\n",
    "SyntaxError: nonlocal not allowed here — ❌ в inner() — можно"
   ]
  },
  {
   "cell_type": "markdown",
   "id": "226de849-726a-41f3-a7d6-bfca08cd595f",
   "metadata": {},
   "source": [
    "nonlocal позволяет inner() изменить x, объявленный в outer()"
   ]
  },
  {
   "cell_type": "code",
   "execution_count": null,
   "id": "2b6e00a2-c5b0-4cb1-9d80-a316dbd9be33",
   "metadata": {},
   "outputs": [],
   "source": [
    "Что выведет код?\n",
    "\n",
    "```python\n",
    "\n",
    "\n",
    "```\n",
    "Выберите правильный вариант\n",
    "Посмотреть результаты"
   ]
  },
  {
   "cell_type": "code",
   "execution_count": null,
   "id": "50907d25-fb2f-4c96-b40b-4b5ce7702508",
   "metadata": {},
   "outputs": [],
   "source": [
    "#135+ 28 01 26"
   ]
  },
  {
   "cell_type": "code",
   "execution_count": 45,
   "id": "a2452f0e-b50e-488a-a265-279e662c8168",
   "metadata": {},
   "outputs": [
    {
     "name": "stdout",
     "output_type": "stream",
     "text": [
      "8\n"
     ]
    }
   ],
   "source": [
    "def build_adder(x):\n",
    "    def adder(y):\n",
    "        return x + y\n",
    "    return adder\n",
    "\n",
    "add5 = build_adder(5)\n",
    "print(add5(3))\n"
   ]
  },
  {
   "cell_type": "code",
   "execution_count": null,
   "id": "1e00e23b-c0f3-4f2b-8563-61fcb83f1abe",
   "metadata": {},
   "outputs": [],
   "source": [
    "8 — ✅\n",
    "53 — ❌ не конкатенация\n",
    "TypeError: unsupported operand types — ❌ типы корректны\n",
    "NameError: name 'x' is not defined — ❌ x захватывается замыканием"
   ]
  },
  {
   "cell_type": "code",
   "execution_count": null,
   "id": "9f6c52b5-77e4-4f46-9d39-b530cd1818c9",
   "metadata": {},
   "outputs": [],
   "source": [
    "Возвращается функция adder, которая помнит x=5. Это замыкание."
   ]
  },
  {
   "cell_type": "code",
   "execution_count": null,
   "id": "c485d543-2384-4115-9f5d-2d99042db7c2",
   "metadata": {},
   "outputs": [],
   "source": [
    "Что выведет код?\n",
    "\n",
    "```python\n",
    "\n",
    "\n",
    "```\n",
    "Выберите правильный вариант\n",
    "Посмотреть результаты"
   ]
  },
  {
   "cell_type": "code",
   "execution_count": null,
   "id": "1fe94a4d-cf86-4068-a7fb-9d7790e54e44",
   "metadata": {},
   "outputs": [],
   "source": [
    "#136+ 29 01 26"
   ]
  },
  {
   "cell_type": "code",
   "execution_count": 47,
   "id": "bfcc3d73-3941-4f57-b6a2-f6120c45aac8",
   "metadata": {},
   "outputs": [
    {
     "name": "stdout",
     "output_type": "stream",
     "text": [
      "((1, 2), {'x': 3, 'y': 4})\n"
     ]
    }
   ],
   "source": [
    "def f(*args, **kwargs):\n",
    "    return args, kwargs\n",
    "\n",
    "print(f(1, 2, x=3, y=4))\n"
   ]
  },
  {
   "cell_type": "code",
   "execution_count": null,
   "id": "857c738a-9930-4eb7-9e77-aeb546073698",
   "metadata": {},
   "outputs": [],
   "source": [
    "(1, 2), {'x': 3, 'y': 4} — ✅\n",
    "[1, 2], {'x': 3, 'y': 4} — ❌ args — это кортеж, не список\n",
    "(1, 2), ['x', 'y'] — ❌ kwargs — словарь\n",
    "TypeError: positional argument follows keyword argument — ❌ порядок соблюдён"
   ]
  },
  {
   "cell_type": "markdown",
   "id": "0c74f9ee-37fc-47b6-a1a9-e4d1af6eba54",
   "metadata": {},
   "source": [
    "Все позиционные аргументы идут в args, именованные — в kwargs."
   ]
  },
  {
   "cell_type": "code",
   "execution_count": null,
   "id": "594c5778-872d-4546-9866-401ddf7902fe",
   "metadata": {},
   "outputs": [],
   "source": [
    "Что выведет код?\n",
    "\n",
    "```python\n",
    "\n",
    "\n",
    "```\n",
    "Выберите правильный вариант\n",
    "Посмотреть результаты"
   ]
  },
  {
   "cell_type": "code",
   "execution_count": null,
   "id": "742e0011-3d07-44e0-9d05-4e0bf5574eb9",
   "metadata": {},
   "outputs": [],
   "source": [
    "#137+ 30 01 26"
   ]
  },
  {
   "cell_type": "code",
   "execution_count": 49,
   "id": "7eaa2aad-3d20-402d-a257-a1401c41dea4",
   "metadata": {},
   "outputs": [
    {
     "name": "stdout",
     "output_type": "stream",
     "text": [
      "1 2 3\n"
     ]
    }
   ],
   "source": [
    "def make_counter():\n",
    "    count = 0\n",
    "    def counter():\n",
    "        nonlocal count\n",
    "        count += 1\n",
    "        return count\n",
    "    return counter\n",
    "\n",
    "c = make_counter()\n",
    "print(c(), c(), c())\n"
   ]
  },
  {
   "cell_type": "code",
   "execution_count": null,
   "id": "8e320b55-ccca-4c8b-8772-c64b2737934d",
   "metadata": {},
   "outputs": [],
   "source": [
    "1 2 3 — ✅\n",
    "0 1 2 — ❌ начинается с 1\n",
    "1 1 1 — ❌ переменная count увеличивается\n",
    "UnboundLocalError — ❌ nonlocal используется правильно"
   ]
  },
  {
   "cell_type": "markdown",
   "id": "7cc30c5c-e6c2-4326-9eb8-d2de00723b59",
   "metadata": {},
   "source": [
    "Каждое вызванное c() увеличивает count. Замыкание сохраняет состояние.\n",
    "\n"
   ]
  },
  {
   "cell_type": "code",
   "execution_count": null,
   "id": "caaab375-afcd-48e0-8bfb-e3e11614d4b3",
   "metadata": {},
   "outputs": [],
   "source": [
    "Что выведет код?\n",
    "\n",
    "```python\n",
    "\n",
    "\n",
    "```\n",
    "Выберите правильный вариант\n",
    "Посмотреть результаты"
   ]
  },
  {
   "cell_type": "code",
   "execution_count": null,
   "id": "708229c2-2254-42da-b1c0-d90a53df23dc",
   "metadata": {},
   "outputs": [],
   "source": [
    "#138+ 2 02 26"
   ]
  },
  {
   "cell_type": "code",
   "execution_count": 29,
   "id": "87071b1b-e144-47bc-9653-4eb27402eb72",
   "metadata": {},
   "outputs": [
    {
     "name": "stdout",
     "output_type": "stream",
     "text": [
      "24\n"
     ]
    }
   ],
   "source": [
    "def fact(n):\n",
    "    1 if n == 0 else n * fact(n-1)\n",
    "    return 1 if n == 0 else n * fact(n-1)\n",
    "    \n",
    "\n",
    "print(fact(4))\n"
   ]
  },
  {
   "cell_type": "code",
   "execution_count": null,
   "id": "0d0efd20-01bb-4b19-a7d8-efdd8bcc0c2e",
   "metadata": {},
   "outputs": [],
   "source": [
    "24 — ✅\n",
    "4 — ❌ это только один шаг\n",
    "120 — ❌ это факториал 5\n",
    "RecursionError: maximum recursion depth exceeded — ❌ глубина безопасная"
   ]
  },
  {
   "cell_type": "code",
   "execution_count": null,
   "id": "bac65e35-a42d-4b58-9e90-4463f2333719",
   "metadata": {},
   "outputs": [],
   "source": [
    "Рекурсивный вызов факториала: 4 * 3 * 2 * 1 * 1 = 24."
   ]
  },
  {
   "cell_type": "code",
   "execution_count": null,
   "id": "9d1e7df0-856e-4aaf-a3f1-f3d32c182f74",
   "metadata": {},
   "outputs": [],
   "source": [
    "Что выведет код?\n",
    "\n",
    "```python\n",
    "\n",
    "\n",
    "```\n",
    "Выберите правильный вариант\n",
    "Посмотреть результаты"
   ]
  },
  {
   "cell_type": "code",
   "execution_count": null,
   "id": "b2f763f2-9959-427b-842b-006da400449c",
   "metadata": {},
   "outputs": [],
   "source": [
    "#139+ 3 02 26"
   ]
  },
  {
   "cell_type": "code",
   "execution_count": 57,
   "id": "11670ce1-5f2b-413e-8f72-6361064c3393",
   "metadata": {},
   "outputs": [
    {
     "name": "stdout",
     "output_type": "stream",
     "text": [
      "1 2 1\n"
     ]
    }
   ],
   "source": [
    "def make():\n",
    "    count = 0\n",
    "    def inner():\n",
    "        nonlocal count\n",
    "        count += 1\n",
    "        return count\n",
    "    return inner\n",
    "\n",
    "f = make()\n",
    "print(f(), end = \" \")\n",
    "print(f(), end = \" \")\n",
    "g = make()\n",
    "print(g())\n"
   ]
  },
  {
   "cell_type": "code",
   "execution_count": null,
   "id": "45fa6369-ee98-4ee5-ad93-db0d2b4fc7b2",
   "metadata": {},
   "outputs": [],
   "source": [
    "1 2 3\n",
    "1 2 1  #\n",
    "1 1 1\n",
    "NameError: count is not defined"
   ]
  },
  {
   "cell_type": "code",
   "execution_count": null,
   "id": "a5fb59d7-328f-49a2-8800-2bf64516cceb",
   "metadata": {},
   "outputs": [],
   "source": [
    "У f и g свои независимые count в разных замыканиях."
   ]
  },
  {
   "cell_type": "code",
   "execution_count": null,
   "id": "fb62d70f-217b-481d-83a3-ada85406e01c",
   "metadata": {},
   "outputs": [],
   "source": [
    "Что выведет код?\n",
    "\n",
    "```python\n",
    "\n",
    "\n",
    "```\n",
    "Выберите правильный вариант\n",
    "Посмотреть результаты"
   ]
  },
  {
   "cell_type": "code",
   "execution_count": null,
   "id": "1fc4bf68-a63f-426e-b730-85f4a4f94bd2",
   "metadata": {},
   "outputs": [],
   "source": [
    "#140+ 4 02 26"
   ]
  },
  {
   "cell_type": "code",
   "execution_count": 63,
   "id": "a37838aa-5546-4a9d-91ab-687ba74c8329",
   "metadata": {},
   "outputs": [
    {
     "name": "stdout",
     "output_type": "stream",
     "text": [
      "10 5\n"
     ]
    }
   ],
   "source": [
    "from typing import Callable, Optional\n",
    "\n",
    "def apply(func: Optional[Callable[[int], int]], x: int) -> int:\n",
    "    if func:\n",
    "        return func(x)\n",
    "    return x\n",
    "\n",
    "print(apply(lambda x: x * 2, 5), end = \" \")\n",
    "print(apply(None, 5))\n"
   ]
  },
  {
   "cell_type": "code",
   "execution_count": null,
   "id": "00c9098c-ca9f-4b04-be14-8157c5dd16e2",
   "metadata": {},
   "outputs": [],
   "source": [
    "10 5  #\n",
    "10 None\n",
    "TypeError: 'NoneType' object is not callable\n",
    "5 5"
   ]
  },
  {
   "cell_type": "markdown",
   "id": "1e6a9cd4-7871-4d46-896f-1e17d7178ee4",
   "metadata": {},
   "source": [
    "Callable[[int], int] — аннотация, а не строгая проверка. None — допустим, и просто возвращает x.\n",
    "\n"
   ]
  },
  {
   "cell_type": "code",
   "execution_count": null,
   "id": "415c420b-98b3-4c08-bed6-5277393ee724",
   "metadata": {},
   "outputs": [],
   "source": [
    "Что выведет код?\n",
    "\n",
    "```python\n",
    "\n",
    "\n",
    "```\n",
    "Выберите правильный вариант\n",
    "Посмотреть результаты"
   ]
  },
  {
   "cell_type": "code",
   "execution_count": null,
   "id": "1191e49c-cc90-47ed-acdc-47c29378e364",
   "metadata": {},
   "outputs": [],
   "source": [
    "#141+ 5 02 26"
   ]
  },
  {
   "cell_type": "code",
   "execution_count": 67,
   "id": "d3ad3378-5a64-4d00-973f-33bbfb89e629",
   "metadata": {},
   "outputs": [
    {
     "name": "stdout",
     "output_type": "stream",
     "text": [
      "original original\n"
     ]
    }
   ],
   "source": [
    "from functools import wraps\n",
    "\n",
    "def deco(f):\n",
    "    @wraps(f)\n",
    "    def wrapper(*args, **kwargs):\n",
    "        \"\"\"wrapped\"\"\"\n",
    "        return f(*args, **kwargs)\n",
    "    return wrapper\n",
    "\n",
    "@deco\n",
    "def original():\n",
    "    \"\"\"original\"\"\"\n",
    "    pass\n",
    "\n",
    "print(original.__name__, end =\" \")\n",
    "print(original.__doc__)\n"
   ]
  },
  {
   "cell_type": "code",
   "execution_count": null,
   "id": "a443a98b-4ecb-437e-8a00-15a8717cc489",
   "metadata": {},
   "outputs": [],
   "source": [
    "wrapper, wrapped\n",
    "original, wrapped\n",
    "original, original  #\n",
    "wrapper, original"
   ]
  },
  {
   "cell_type": "markdown",
   "id": "b18c5eef-ec24-4a61-a407-f92694576e00",
   "metadata": {},
   "source": [
    "@wraps(f) копирует __name__ и __doc__ из f в wrapper."
   ]
  },
  {
   "cell_type": "code",
   "execution_count": null,
   "id": "c2ee54b3-d9a0-4f41-88d8-ac55bc9dc060",
   "metadata": {},
   "outputs": [],
   "source": [
    "Что выведет код?\n",
    "\n",
    "```python\n",
    "\n",
    "\n",
    "```\n",
    "Выберите правильный вариант\n",
    "Посмотреть результаты"
   ]
  },
  {
   "cell_type": "code",
   "execution_count": null,
   "id": "2b6b57e0-2aa8-450c-825d-b7bdf5b1bfe3",
   "metadata": {},
   "outputs": [],
   "source": [
    "#142"
   ]
  },
  {
   "cell_type": "code",
   "execution_count": null,
   "id": "e7233c8a-72b4-4ba4-8ff4-7daa18928b0d",
   "metadata": {},
   "outputs": [],
   "source": []
  },
  {
   "cell_type": "code",
   "execution_count": null,
   "id": "6faeb984-0e42-44a7-ba6a-08a8720d9d85",
   "metadata": {},
   "outputs": [],
   "source": []
  },
  {
   "cell_type": "code",
   "execution_count": null,
   "id": "0cfe8656-861a-407f-836b-f40ca4d9874a",
   "metadata": {},
   "outputs": [],
   "source": [
    "#143"
   ]
  },
  {
   "cell_type": "code",
   "execution_count": null,
   "id": "7f9b6fb8-ea51-4a8f-9cc2-e2c5cff805c4",
   "metadata": {},
   "outputs": [],
   "source": []
  },
  {
   "cell_type": "code",
   "execution_count": null,
   "id": "1c91c68b-c82d-4fa1-8ad9-e9a4c14f78cc",
   "metadata": {},
   "outputs": [],
   "source": []
  },
  {
   "cell_type": "code",
   "execution_count": null,
   "id": "69371026-16fe-4057-abd8-120792ef7c10",
   "metadata": {},
   "outputs": [],
   "source": []
  },
  {
   "cell_type": "code",
   "execution_count": null,
   "id": "940286d7-dfd0-4bbb-a872-6d0c91288de1",
   "metadata": {},
   "outputs": [],
   "source": []
  },
  {
   "cell_type": "code",
   "execution_count": null,
   "id": "df79aff5-7dec-49a0-8e28-f0096aa51b92",
   "metadata": {},
   "outputs": [],
   "source": []
  },
  {
   "cell_type": "code",
   "execution_count": null,
   "id": "a4359473-5045-4462-8a7a-bbfc82e52490",
   "metadata": {},
   "outputs": [],
   "source": []
  },
  {
   "cell_type": "code",
   "execution_count": null,
   "id": "4aab0058-d5f3-4437-8e69-5ca0c55face1",
   "metadata": {},
   "outputs": [],
   "source": []
  },
  {
   "cell_type": "code",
   "execution_count": null,
   "id": "d1c9019f-99b4-4ffd-93be-283d5348deca",
   "metadata": {},
   "outputs": [],
   "source": []
  }
 ],
 "metadata": {
  "kernelspec": {
   "display_name": "Python [conda env:base] *",
   "language": "python",
   "name": "conda-base-py"
  },
  "language_info": {
   "codemirror_mode": {
    "name": "ipython",
    "version": 3
   },
   "file_extension": ".py",
   "mimetype": "text/x-python",
   "name": "python",
   "nbconvert_exporter": "python",
   "pygments_lexer": "ipython3",
   "version": "3.12.7"
  }
 },
 "nbformat": 4,
 "nbformat_minor": 5
}
